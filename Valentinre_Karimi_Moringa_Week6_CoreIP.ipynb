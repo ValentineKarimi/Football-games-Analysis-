{
  "nbformat": 4,
  "nbformat_minor": 0,
  "metadata": {
    "colab": {
      "name": "Valentinre Karimi_Moringa_Week6_CoreIP.ipynb",
      "provenance": [],
      "collapsed_sections": [
        "XsrnWWUX7fqm",
        "Zew02I4I7qJD",
        "E9Zs9RSr7ym-",
        "7vGTGe8561ny",
        "fTP44Un_684F",
        "mKsNz_dK7Gm5",
        "Vb1E_IJu7WWe",
        "63tLeDcEvpt5"
      ],
      "authorship_tag": "ABX9TyM6ERPRH4/RTvgU+gfkX4Dw",
      "include_colab_link": true
    },
    "kernelspec": {
      "name": "python3",
      "display_name": "Python 3"
    }
  },
  "cells": [
    {
      "cell_type": "markdown",
      "metadata": {
        "id": "view-in-github",
        "colab_type": "text"
      },
      "source": [
        "<a href=\"https://colab.research.google.com/github/ValentineKarimi/Moringa-Week-6-Core-IP/blob/master/Valentinre_Karimi_Moringa_Week6_CoreIP.ipynb\" target=\"_parent\"><img src=\"https://colab.research.google.com/assets/colab-badge.svg\" alt=\"Open In Colab\"/></a>"
      ]
    },
    {
      "cell_type": "markdown",
      "metadata": {
        "id": "FzP8WDb1Scdk",
        "colab_type": "text"
      },
      "source": [
        "## **Defining the Question**\n",
        "#a) **Specifying the Question**\n",
        "\n",
        "I have been recruited as a football analyst in a company called Mchezopesa Ltd and tasked to accomplish the task below.\n",
        "\n",
        "A prediction result of a game between team 1 and team 2, based on who's home and who's away, and on whether or not the game is friendly (include rank in your training).\n",
        "\n",
        "\n",
        "#b)  **Defining the Metric for Success**\n",
        "\n",
        "***Metric 1***\n",
        "\n",
        " Predict how many goals the home team scores.\n",
        "\n",
        " Predict how many goals the away team scores.\n",
        "\n",
        "***Metric 2***\n",
        "\n",
        "Figure out from the home team’s perspective if the game is a Win, Lose or Draw (W, L, D)\n",
        "\n",
        "#c) **Understanding the context**\n",
        "\n",
        "The rankings are used to rank the progression and current ability of the football teams , and claims that they create \"a reliable measure for comparing  A-teams\". They are used as part of the calculation for prediction of future scores \n",
        "\n",
        "\n",
        "#d) **Recording the Experimental Design**\n",
        "\n",
        "\n",
        "1.   Reading and Checking the Data\n",
        "2.   External Data Source Validation\n",
        "3.   Tidying the Dataset\n",
        "4.   Feature Engineering\n",
        "5.   Exploratory Analysis\n",
        "6.  Implementing the Solution\n",
        "7.  Challenging the solution\n",
        "8.  Follow-up questions\n",
        "\n",
        "#e) **Data Relevance**\n",
        "There are 2 datasets - FIFA ranking and results \n",
        "\n",
        "***FIFA Ranking Columns ***\n",
        "\n",
        "Rank\n",
        "Country Abbreviation\n",
        "\n",
        "Total Points\n",
        "\n",
        "Previous Points\n",
        "\n",
        "Rank Change\n",
        "\n",
        "Average Previous Years Points\n",
        "\n",
        "Average Previous Years Points Weighted (50%)\n",
        "\n",
        "Average 2 Years Ago Points\n",
        "\n",
        "Average 2 Years Ago Points Weighted (30%)\n",
        "\n",
        "Average 3 Years Ago Points\n",
        "\n",
        "Average 3 Years Ago Points Weighted (20%)\n",
        "\n",
        "Confederation\n",
        "\n",
        "***Results dataset column ***\n",
        "\n",
        "Date - date of the match\n",
        "\n",
        "Home_team - the name of the home team\n",
        "\n",
        "Away_team - the name of the away team\n",
        "\n",
        "Home_score - full-time home team score including extra time, not including penalty-shootouts\n",
        "\n",
        "Away_score - full-time away team score including extra time, not including penalty-shootouts\n",
        "\n",
        "Tournament - the name of the tournament\n",
        "\n",
        "City - the name of the city where the match was played\n",
        "\n",
        "Country - the name of the country where the match was played\n",
        "\n",
        "Neutral - TRUE/FALSE column indicating whether the match was played at a neutral venue\n",
        "\n",
        "\n"
      ]
    },
    {
      "cell_type": "markdown",
      "metadata": {
        "id": "XsrnWWUX7fqm",
        "colab_type": "text"
      },
      "source": [
        "##Reading and checking the data  "
      ]
    },
    {
      "cell_type": "code",
      "metadata": {
        "id": "HwmvpqKVSSeb",
        "colab_type": "code",
        "colab": {}
      },
      "source": [
        "#Importing libraries \n",
        "import pandas as pd                             #import pandas\n",
        "import numpy as np                              #import numpy\n",
        "import seaborn as sns                           #seaborn for visuals\n",
        "import matplotlib.pyplot as plt                 #matplot for plotting\n",
        "import datetime as dt                           #convert date formats\n",
        "from scipy import stats "
      ],
      "execution_count": 846,
      "outputs": []
    },
    {
      "cell_type": "code",
      "metadata": {
        "id": "l12LmTUSSZaU",
        "colab_type": "code",
        "colab": {}
      },
      "source": [
        "#loading datasets\n",
        "result = pd.read_csv('results.csv')\n",
        "ranking = pd.read_csv('fifa_ranking.csv')"
      ],
      "execution_count": 847,
      "outputs": []
    },
    {
      "cell_type": "code",
      "metadata": {
        "id": "KWi15qFnG4cx",
        "colab_type": "code",
        "colab": {
          "base_uri": "https://localhost:8080/",
          "height": 0
        },
        "outputId": "626aa987-94d3-4170-a3cd-bd3f8dbd3ffb"
      },
      "source": [
        "# Check The number of records in datasets\n",
        "print('Fifa ranking dataset has ',ranking.shape[0],'records and ', ranking.shape[1], 'rows' )\n",
        "print('Result dataset has ', result.shape[0],'recrods and ', result.shape[1], 'rows')"
      ],
      "execution_count": 848,
      "outputs": [
        {
          "output_type": "stream",
          "text": [
            "Fifa ranking dataset has  57793 records and  16 rows\n",
            "Result dataset has  40839 recrods and  9 rows\n"
          ],
          "name": "stdout"
        }
      ]
    },
    {
      "cell_type": "code",
      "metadata": {
        "id": "SvJpTDpnSZdj",
        "colab_type": "code",
        "colab": {
          "base_uri": "https://localhost:8080/",
          "height": 0
        },
        "outputId": "22155b56-a40c-448d-e957-499183e2c757"
      },
      "source": [
        "\n",
        "# Previeing the top part of the datasets \n",
        "display(\"FIFA Ranking of teams\")\n",
        "display(ranking.head(3))\n",
        "display(\"FIFA Results of teams\")\n",
        "display(result.head(3))"
      ],
      "execution_count": 849,
      "outputs": [
        {
          "output_type": "display_data",
          "data": {
            "application/vnd.google.colaboratory.intrinsic+json": {
              "type": "string"
            },
            "text/plain": [
              "'FIFA Ranking of teams'"
            ]
          },
          "metadata": {
            "tags": []
          }
        },
        {
          "output_type": "display_data",
          "data": {
            "text/html": [
              "<div>\n",
              "<style scoped>\n",
              "    .dataframe tbody tr th:only-of-type {\n",
              "        vertical-align: middle;\n",
              "    }\n",
              "\n",
              "    .dataframe tbody tr th {\n",
              "        vertical-align: top;\n",
              "    }\n",
              "\n",
              "    .dataframe thead th {\n",
              "        text-align: right;\n",
              "    }\n",
              "</style>\n",
              "<table border=\"1\" class=\"dataframe\">\n",
              "  <thead>\n",
              "    <tr style=\"text-align: right;\">\n",
              "      <th></th>\n",
              "      <th>rank</th>\n",
              "      <th>country_full</th>\n",
              "      <th>country_abrv</th>\n",
              "      <th>total_points</th>\n",
              "      <th>previous_points</th>\n",
              "      <th>rank_change</th>\n",
              "      <th>cur_year_avg</th>\n",
              "      <th>cur_year_avg_weighted</th>\n",
              "      <th>last_year_avg</th>\n",
              "      <th>last_year_avg_weighted</th>\n",
              "      <th>two_year_ago_avg</th>\n",
              "      <th>two_year_ago_weighted</th>\n",
              "      <th>three_year_ago_avg</th>\n",
              "      <th>three_year_ago_weighted</th>\n",
              "      <th>confederation</th>\n",
              "      <th>rank_date</th>\n",
              "    </tr>\n",
              "  </thead>\n",
              "  <tbody>\n",
              "    <tr>\n",
              "      <th>0</th>\n",
              "      <td>1</td>\n",
              "      <td>Germany</td>\n",
              "      <td>GER</td>\n",
              "      <td>0.0</td>\n",
              "      <td>57</td>\n",
              "      <td>0</td>\n",
              "      <td>0.0</td>\n",
              "      <td>0.0</td>\n",
              "      <td>0.0</td>\n",
              "      <td>0.0</td>\n",
              "      <td>0.0</td>\n",
              "      <td>0.0</td>\n",
              "      <td>0.0</td>\n",
              "      <td>0.0</td>\n",
              "      <td>UEFA</td>\n",
              "      <td>1993-08-08</td>\n",
              "    </tr>\n",
              "    <tr>\n",
              "      <th>1</th>\n",
              "      <td>2</td>\n",
              "      <td>Italy</td>\n",
              "      <td>ITA</td>\n",
              "      <td>0.0</td>\n",
              "      <td>57</td>\n",
              "      <td>0</td>\n",
              "      <td>0.0</td>\n",
              "      <td>0.0</td>\n",
              "      <td>0.0</td>\n",
              "      <td>0.0</td>\n",
              "      <td>0.0</td>\n",
              "      <td>0.0</td>\n",
              "      <td>0.0</td>\n",
              "      <td>0.0</td>\n",
              "      <td>UEFA</td>\n",
              "      <td>1993-08-08</td>\n",
              "    </tr>\n",
              "    <tr>\n",
              "      <th>2</th>\n",
              "      <td>3</td>\n",
              "      <td>Switzerland</td>\n",
              "      <td>SUI</td>\n",
              "      <td>0.0</td>\n",
              "      <td>50</td>\n",
              "      <td>9</td>\n",
              "      <td>0.0</td>\n",
              "      <td>0.0</td>\n",
              "      <td>0.0</td>\n",
              "      <td>0.0</td>\n",
              "      <td>0.0</td>\n",
              "      <td>0.0</td>\n",
              "      <td>0.0</td>\n",
              "      <td>0.0</td>\n",
              "      <td>UEFA</td>\n",
              "      <td>1993-08-08</td>\n",
              "    </tr>\n",
              "  </tbody>\n",
              "</table>\n",
              "</div>"
            ],
            "text/plain": [
              "   rank country_full  ... confederation   rank_date\n",
              "0     1      Germany  ...          UEFA  1993-08-08\n",
              "1     2        Italy  ...          UEFA  1993-08-08\n",
              "2     3  Switzerland  ...          UEFA  1993-08-08\n",
              "\n",
              "[3 rows x 16 columns]"
            ]
          },
          "metadata": {
            "tags": []
          }
        },
        {
          "output_type": "display_data",
          "data": {
            "application/vnd.google.colaboratory.intrinsic+json": {
              "type": "string"
            },
            "text/plain": [
              "'FIFA Results of teams'"
            ]
          },
          "metadata": {
            "tags": []
          }
        },
        {
          "output_type": "display_data",
          "data": {
            "text/html": [
              "<div>\n",
              "<style scoped>\n",
              "    .dataframe tbody tr th:only-of-type {\n",
              "        vertical-align: middle;\n",
              "    }\n",
              "\n",
              "    .dataframe tbody tr th {\n",
              "        vertical-align: top;\n",
              "    }\n",
              "\n",
              "    .dataframe thead th {\n",
              "        text-align: right;\n",
              "    }\n",
              "</style>\n",
              "<table border=\"1\" class=\"dataframe\">\n",
              "  <thead>\n",
              "    <tr style=\"text-align: right;\">\n",
              "      <th></th>\n",
              "      <th>date</th>\n",
              "      <th>home_team</th>\n",
              "      <th>away_team</th>\n",
              "      <th>home_score</th>\n",
              "      <th>away_score</th>\n",
              "      <th>tournament</th>\n",
              "      <th>city</th>\n",
              "      <th>country</th>\n",
              "      <th>neutral</th>\n",
              "    </tr>\n",
              "  </thead>\n",
              "  <tbody>\n",
              "    <tr>\n",
              "      <th>0</th>\n",
              "      <td>1872-11-30</td>\n",
              "      <td>Scotland</td>\n",
              "      <td>England</td>\n",
              "      <td>0</td>\n",
              "      <td>0</td>\n",
              "      <td>Friendly</td>\n",
              "      <td>Glasgow</td>\n",
              "      <td>Scotland</td>\n",
              "      <td>False</td>\n",
              "    </tr>\n",
              "    <tr>\n",
              "      <th>1</th>\n",
              "      <td>1873-03-08</td>\n",
              "      <td>England</td>\n",
              "      <td>Scotland</td>\n",
              "      <td>4</td>\n",
              "      <td>2</td>\n",
              "      <td>Friendly</td>\n",
              "      <td>London</td>\n",
              "      <td>England</td>\n",
              "      <td>False</td>\n",
              "    </tr>\n",
              "    <tr>\n",
              "      <th>2</th>\n",
              "      <td>1874-03-07</td>\n",
              "      <td>Scotland</td>\n",
              "      <td>England</td>\n",
              "      <td>2</td>\n",
              "      <td>1</td>\n",
              "      <td>Friendly</td>\n",
              "      <td>Glasgow</td>\n",
              "      <td>Scotland</td>\n",
              "      <td>False</td>\n",
              "    </tr>\n",
              "  </tbody>\n",
              "</table>\n",
              "</div>"
            ],
            "text/plain": [
              "         date home_team away_team  ...     city   country neutral\n",
              "0  1872-11-30  Scotland   England  ...  Glasgow  Scotland   False\n",
              "1  1873-03-08   England  Scotland  ...   London   England   False\n",
              "2  1874-03-07  Scotland   England  ...  Glasgow  Scotland   False\n",
              "\n",
              "[3 rows x 9 columns]"
            ]
          },
          "metadata": {
            "tags": []
          }
        }
      ]
    },
    {
      "cell_type": "code",
      "metadata": {
        "id": "7FBPjVCZK-w0",
        "colab_type": "code",
        "colab": {
          "base_uri": "https://localhost:8080/",
          "height": 0
        },
        "outputId": "c05aa826-88c4-4408-d2c2-9f982046297e"
      },
      "source": [
        "# Previewing the bottom part of the datasets \n",
        "display(\"FIFA Ranking of teams\")\n",
        "display(ranking.tail(3))\n",
        "display(\"FIFA Results of teams\")\n",
        "display(result.tail(3))"
      ],
      "execution_count": 850,
      "outputs": [
        {
          "output_type": "display_data",
          "data": {
            "application/vnd.google.colaboratory.intrinsic+json": {
              "type": "string"
            },
            "text/plain": [
              "'FIFA Ranking of teams'"
            ]
          },
          "metadata": {
            "tags": []
          }
        },
        {
          "output_type": "display_data",
          "data": {
            "text/html": [
              "<div>\n",
              "<style scoped>\n",
              "    .dataframe tbody tr th:only-of-type {\n",
              "        vertical-align: middle;\n",
              "    }\n",
              "\n",
              "    .dataframe tbody tr th {\n",
              "        vertical-align: top;\n",
              "    }\n",
              "\n",
              "    .dataframe thead th {\n",
              "        text-align: right;\n",
              "    }\n",
              "</style>\n",
              "<table border=\"1\" class=\"dataframe\">\n",
              "  <thead>\n",
              "    <tr style=\"text-align: right;\">\n",
              "      <th></th>\n",
              "      <th>rank</th>\n",
              "      <th>country_full</th>\n",
              "      <th>country_abrv</th>\n",
              "      <th>total_points</th>\n",
              "      <th>previous_points</th>\n",
              "      <th>rank_change</th>\n",
              "      <th>cur_year_avg</th>\n",
              "      <th>cur_year_avg_weighted</th>\n",
              "      <th>last_year_avg</th>\n",
              "      <th>last_year_avg_weighted</th>\n",
              "      <th>two_year_ago_avg</th>\n",
              "      <th>two_year_ago_weighted</th>\n",
              "      <th>three_year_ago_avg</th>\n",
              "      <th>three_year_ago_weighted</th>\n",
              "      <th>confederation</th>\n",
              "      <th>rank_date</th>\n",
              "    </tr>\n",
              "  </thead>\n",
              "  <tbody>\n",
              "    <tr>\n",
              "      <th>57790</th>\n",
              "      <td>206</td>\n",
              "      <td>Eritrea</td>\n",
              "      <td>ERI</td>\n",
              "      <td>0.0</td>\n",
              "      <td>0</td>\n",
              "      <td>1</td>\n",
              "      <td>0.0</td>\n",
              "      <td>0.0</td>\n",
              "      <td>0.0</td>\n",
              "      <td>0.0</td>\n",
              "      <td>0.0</td>\n",
              "      <td>0.0</td>\n",
              "      <td>0.0</td>\n",
              "      <td>0.0</td>\n",
              "      <td>CAF</td>\n",
              "      <td>2018-06-07</td>\n",
              "    </tr>\n",
              "    <tr>\n",
              "      <th>57791</th>\n",
              "      <td>206</td>\n",
              "      <td>Somalia</td>\n",
              "      <td>SOM</td>\n",
              "      <td>0.0</td>\n",
              "      <td>0</td>\n",
              "      <td>1</td>\n",
              "      <td>0.0</td>\n",
              "      <td>0.0</td>\n",
              "      <td>0.0</td>\n",
              "      <td>0.0</td>\n",
              "      <td>0.0</td>\n",
              "      <td>0.0</td>\n",
              "      <td>0.0</td>\n",
              "      <td>0.0</td>\n",
              "      <td>CAF</td>\n",
              "      <td>2018-06-07</td>\n",
              "    </tr>\n",
              "    <tr>\n",
              "      <th>57792</th>\n",
              "      <td>206</td>\n",
              "      <td>Tonga</td>\n",
              "      <td>TGA</td>\n",
              "      <td>0.0</td>\n",
              "      <td>0</td>\n",
              "      <td>1</td>\n",
              "      <td>0.0</td>\n",
              "      <td>0.0</td>\n",
              "      <td>0.0</td>\n",
              "      <td>0.0</td>\n",
              "      <td>0.0</td>\n",
              "      <td>0.0</td>\n",
              "      <td>0.0</td>\n",
              "      <td>0.0</td>\n",
              "      <td>OFC</td>\n",
              "      <td>2018-06-07</td>\n",
              "    </tr>\n",
              "  </tbody>\n",
              "</table>\n",
              "</div>"
            ],
            "text/plain": [
              "       rank country_full  ... confederation   rank_date\n",
              "57790   206      Eritrea  ...           CAF  2018-06-07\n",
              "57791   206      Somalia  ...           CAF  2018-06-07\n",
              "57792   206        Tonga  ...           OFC  2018-06-07\n",
              "\n",
              "[3 rows x 16 columns]"
            ]
          },
          "metadata": {
            "tags": []
          }
        },
        {
          "output_type": "display_data",
          "data": {
            "application/vnd.google.colaboratory.intrinsic+json": {
              "type": "string"
            },
            "text/plain": [
              "'FIFA Results of teams'"
            ]
          },
          "metadata": {
            "tags": []
          }
        },
        {
          "output_type": "display_data",
          "data": {
            "text/html": [
              "<div>\n",
              "<style scoped>\n",
              "    .dataframe tbody tr th:only-of-type {\n",
              "        vertical-align: middle;\n",
              "    }\n",
              "\n",
              "    .dataframe tbody tr th {\n",
              "        vertical-align: top;\n",
              "    }\n",
              "\n",
              "    .dataframe thead th {\n",
              "        text-align: right;\n",
              "    }\n",
              "</style>\n",
              "<table border=\"1\" class=\"dataframe\">\n",
              "  <thead>\n",
              "    <tr style=\"text-align: right;\">\n",
              "      <th></th>\n",
              "      <th>date</th>\n",
              "      <th>home_team</th>\n",
              "      <th>away_team</th>\n",
              "      <th>home_score</th>\n",
              "      <th>away_score</th>\n",
              "      <th>tournament</th>\n",
              "      <th>city</th>\n",
              "      <th>country</th>\n",
              "      <th>neutral</th>\n",
              "    </tr>\n",
              "  </thead>\n",
              "  <tbody>\n",
              "    <tr>\n",
              "      <th>40836</th>\n",
              "      <td>2019-07-19</td>\n",
              "      <td>Senegal</td>\n",
              "      <td>Algeria</td>\n",
              "      <td>0</td>\n",
              "      <td>1</td>\n",
              "      <td>African Cup of Nations</td>\n",
              "      <td>Cairo</td>\n",
              "      <td>Egypt</td>\n",
              "      <td>True</td>\n",
              "    </tr>\n",
              "    <tr>\n",
              "      <th>40837</th>\n",
              "      <td>2019-07-19</td>\n",
              "      <td>Tajikistan</td>\n",
              "      <td>North Korea</td>\n",
              "      <td>0</td>\n",
              "      <td>1</td>\n",
              "      <td>Intercontinental Cup</td>\n",
              "      <td>Ahmedabad</td>\n",
              "      <td>India</td>\n",
              "      <td>True</td>\n",
              "    </tr>\n",
              "    <tr>\n",
              "      <th>40838</th>\n",
              "      <td>2019-07-20</td>\n",
              "      <td>Papua New Guinea</td>\n",
              "      <td>Fiji</td>\n",
              "      <td>1</td>\n",
              "      <td>1</td>\n",
              "      <td>Pacific Games</td>\n",
              "      <td>Apia</td>\n",
              "      <td>Samoa</td>\n",
              "      <td>True</td>\n",
              "    </tr>\n",
              "  </tbody>\n",
              "</table>\n",
              "</div>"
            ],
            "text/plain": [
              "             date         home_team    away_team  ...       city  country neutral\n",
              "40836  2019-07-19           Senegal      Algeria  ...      Cairo    Egypt    True\n",
              "40837  2019-07-19        Tajikistan  North Korea  ...  Ahmedabad    India    True\n",
              "40838  2019-07-20  Papua New Guinea         Fiji  ...       Apia    Samoa    True\n",
              "\n",
              "[3 rows x 9 columns]"
            ]
          },
          "metadata": {
            "tags": []
          }
        }
      ]
    },
    {
      "cell_type": "code",
      "metadata": {
        "id": "OHlJ4KNYSZgk",
        "colab_type": "code",
        "colab": {
          "base_uri": "https://localhost:8080/",
          "height": 0
        },
        "outputId": "fbc928bc-0405-4071-9909-8a70f4aec96e"
      },
      "source": [
        "# Check  information on datatypes of datasets \n",
        "display(\"FIFA Results\")\n",
        "display(result.info())\n",
        "display(\"FIFA Ranking\")\n",
        "display(ranking.info())"
      ],
      "execution_count": 851,
      "outputs": [
        {
          "output_type": "display_data",
          "data": {
            "application/vnd.google.colaboratory.intrinsic+json": {
              "type": "string"
            },
            "text/plain": [
              "'FIFA Results'"
            ]
          },
          "metadata": {
            "tags": []
          }
        },
        {
          "output_type": "stream",
          "text": [
            "<class 'pandas.core.frame.DataFrame'>\n",
            "RangeIndex: 40839 entries, 0 to 40838\n",
            "Data columns (total 9 columns):\n",
            " #   Column      Non-Null Count  Dtype \n",
            "---  ------      --------------  ----- \n",
            " 0   date        40839 non-null  object\n",
            " 1   home_team   40839 non-null  object\n",
            " 2   away_team   40839 non-null  object\n",
            " 3   home_score  40839 non-null  int64 \n",
            " 4   away_score  40839 non-null  int64 \n",
            " 5   tournament  40839 non-null  object\n",
            " 6   city        40839 non-null  object\n",
            " 7   country     40839 non-null  object\n",
            " 8   neutral     40839 non-null  bool  \n",
            "dtypes: bool(1), int64(2), object(6)\n",
            "memory usage: 2.5+ MB\n"
          ],
          "name": "stdout"
        },
        {
          "output_type": "display_data",
          "data": {
            "text/plain": [
              "None"
            ]
          },
          "metadata": {
            "tags": []
          }
        },
        {
          "output_type": "display_data",
          "data": {
            "application/vnd.google.colaboratory.intrinsic+json": {
              "type": "string"
            },
            "text/plain": [
              "'FIFA Ranking'"
            ]
          },
          "metadata": {
            "tags": []
          }
        },
        {
          "output_type": "stream",
          "text": [
            "<class 'pandas.core.frame.DataFrame'>\n",
            "RangeIndex: 57793 entries, 0 to 57792\n",
            "Data columns (total 16 columns):\n",
            " #   Column                   Non-Null Count  Dtype  \n",
            "---  ------                   --------------  -----  \n",
            " 0   rank                     57793 non-null  int64  \n",
            " 1   country_full             57793 non-null  object \n",
            " 2   country_abrv             57793 non-null  object \n",
            " 3   total_points             57793 non-null  float64\n",
            " 4   previous_points          57793 non-null  int64  \n",
            " 5   rank_change              57793 non-null  int64  \n",
            " 6   cur_year_avg             57793 non-null  float64\n",
            " 7   cur_year_avg_weighted    57793 non-null  float64\n",
            " 8   last_year_avg            57793 non-null  float64\n",
            " 9   last_year_avg_weighted   57793 non-null  float64\n",
            " 10  two_year_ago_avg         57793 non-null  float64\n",
            " 11  two_year_ago_weighted    57793 non-null  float64\n",
            " 12  three_year_ago_avg       57793 non-null  float64\n",
            " 13  three_year_ago_weighted  57793 non-null  float64\n",
            " 14  confederation            57793 non-null  object \n",
            " 15  rank_date                57793 non-null  object \n",
            "dtypes: float64(9), int64(3), object(4)\n",
            "memory usage: 7.1+ MB\n"
          ],
          "name": "stdout"
        },
        {
          "output_type": "display_data",
          "data": {
            "text/plain": [
              "None"
            ]
          },
          "metadata": {
            "tags": []
          }
        }
      ]
    },
    {
      "cell_type": "code",
      "metadata": {
        "id": "QtQTvAd2HgIV",
        "colab_type": "code",
        "colab": {
          "base_uri": "https://localhost:8080/",
          "height": 0
        },
        "outputId": "1c80f029-e7e8-4ad6-a98b-2f8bf7346aa0"
      },
      "source": [
        "#Checking the columns in datasets\n",
        "display(\"FIFA Ranking of teams\")\n",
        "display(ranking.columns)\n",
        "display(\"FIFA Results of teams\")\n",
        "display(result.columns) \n"
      ],
      "execution_count": 852,
      "outputs": [
        {
          "output_type": "display_data",
          "data": {
            "application/vnd.google.colaboratory.intrinsic+json": {
              "type": "string"
            },
            "text/plain": [
              "'FIFA Ranking of teams'"
            ]
          },
          "metadata": {
            "tags": []
          }
        },
        {
          "output_type": "display_data",
          "data": {
            "text/plain": [
              "Index(['rank', 'country_full', 'country_abrv', 'total_points',\n",
              "       'previous_points', 'rank_change', 'cur_year_avg',\n",
              "       'cur_year_avg_weighted', 'last_year_avg', 'last_year_avg_weighted',\n",
              "       'two_year_ago_avg', 'two_year_ago_weighted', 'three_year_ago_avg',\n",
              "       'three_year_ago_weighted', 'confederation', 'rank_date'],\n",
              "      dtype='object')"
            ]
          },
          "metadata": {
            "tags": []
          }
        },
        {
          "output_type": "display_data",
          "data": {
            "application/vnd.google.colaboratory.intrinsic+json": {
              "type": "string"
            },
            "text/plain": [
              "'FIFA Results of teams'"
            ]
          },
          "metadata": {
            "tags": []
          }
        },
        {
          "output_type": "display_data",
          "data": {
            "text/plain": [
              "Index(['date', 'home_team', 'away_team', 'home_score', 'away_score',\n",
              "       'tournament', 'city', 'country', 'neutral'],\n",
              "      dtype='object')"
            ]
          },
          "metadata": {
            "tags": []
          }
        }
      ]
    },
    {
      "cell_type": "code",
      "metadata": {
        "id": "Dxhvh5_BVKMU",
        "colab_type": "code",
        "colab": {
          "base_uri": "https://localhost:8080/",
          "height": 0
        },
        "outputId": "b6887c3f-e4b2-4ff4-b118-11c47dcf5554"
      },
      "source": [
        "#Rename rank_date to date for easier merging \n",
        "rankings = ranking.rename(columns={\"rank_date\": \"date\"})\n",
        "rankings.head()"
      ],
      "execution_count": 853,
      "outputs": [
        {
          "output_type": "execute_result",
          "data": {
            "text/html": [
              "<div>\n",
              "<style scoped>\n",
              "    .dataframe tbody tr th:only-of-type {\n",
              "        vertical-align: middle;\n",
              "    }\n",
              "\n",
              "    .dataframe tbody tr th {\n",
              "        vertical-align: top;\n",
              "    }\n",
              "\n",
              "    .dataframe thead th {\n",
              "        text-align: right;\n",
              "    }\n",
              "</style>\n",
              "<table border=\"1\" class=\"dataframe\">\n",
              "  <thead>\n",
              "    <tr style=\"text-align: right;\">\n",
              "      <th></th>\n",
              "      <th>rank</th>\n",
              "      <th>country_full</th>\n",
              "      <th>country_abrv</th>\n",
              "      <th>total_points</th>\n",
              "      <th>previous_points</th>\n",
              "      <th>rank_change</th>\n",
              "      <th>cur_year_avg</th>\n",
              "      <th>cur_year_avg_weighted</th>\n",
              "      <th>last_year_avg</th>\n",
              "      <th>last_year_avg_weighted</th>\n",
              "      <th>two_year_ago_avg</th>\n",
              "      <th>two_year_ago_weighted</th>\n",
              "      <th>three_year_ago_avg</th>\n",
              "      <th>three_year_ago_weighted</th>\n",
              "      <th>confederation</th>\n",
              "      <th>date</th>\n",
              "    </tr>\n",
              "  </thead>\n",
              "  <tbody>\n",
              "    <tr>\n",
              "      <th>0</th>\n",
              "      <td>1</td>\n",
              "      <td>Germany</td>\n",
              "      <td>GER</td>\n",
              "      <td>0.0</td>\n",
              "      <td>57</td>\n",
              "      <td>0</td>\n",
              "      <td>0.0</td>\n",
              "      <td>0.0</td>\n",
              "      <td>0.0</td>\n",
              "      <td>0.0</td>\n",
              "      <td>0.0</td>\n",
              "      <td>0.0</td>\n",
              "      <td>0.0</td>\n",
              "      <td>0.0</td>\n",
              "      <td>UEFA</td>\n",
              "      <td>1993-08-08</td>\n",
              "    </tr>\n",
              "    <tr>\n",
              "      <th>1</th>\n",
              "      <td>2</td>\n",
              "      <td>Italy</td>\n",
              "      <td>ITA</td>\n",
              "      <td>0.0</td>\n",
              "      <td>57</td>\n",
              "      <td>0</td>\n",
              "      <td>0.0</td>\n",
              "      <td>0.0</td>\n",
              "      <td>0.0</td>\n",
              "      <td>0.0</td>\n",
              "      <td>0.0</td>\n",
              "      <td>0.0</td>\n",
              "      <td>0.0</td>\n",
              "      <td>0.0</td>\n",
              "      <td>UEFA</td>\n",
              "      <td>1993-08-08</td>\n",
              "    </tr>\n",
              "    <tr>\n",
              "      <th>2</th>\n",
              "      <td>3</td>\n",
              "      <td>Switzerland</td>\n",
              "      <td>SUI</td>\n",
              "      <td>0.0</td>\n",
              "      <td>50</td>\n",
              "      <td>9</td>\n",
              "      <td>0.0</td>\n",
              "      <td>0.0</td>\n",
              "      <td>0.0</td>\n",
              "      <td>0.0</td>\n",
              "      <td>0.0</td>\n",
              "      <td>0.0</td>\n",
              "      <td>0.0</td>\n",
              "      <td>0.0</td>\n",
              "      <td>UEFA</td>\n",
              "      <td>1993-08-08</td>\n",
              "    </tr>\n",
              "    <tr>\n",
              "      <th>3</th>\n",
              "      <td>4</td>\n",
              "      <td>Sweden</td>\n",
              "      <td>SWE</td>\n",
              "      <td>0.0</td>\n",
              "      <td>55</td>\n",
              "      <td>0</td>\n",
              "      <td>0.0</td>\n",
              "      <td>0.0</td>\n",
              "      <td>0.0</td>\n",
              "      <td>0.0</td>\n",
              "      <td>0.0</td>\n",
              "      <td>0.0</td>\n",
              "      <td>0.0</td>\n",
              "      <td>0.0</td>\n",
              "      <td>UEFA</td>\n",
              "      <td>1993-08-08</td>\n",
              "    </tr>\n",
              "    <tr>\n",
              "      <th>4</th>\n",
              "      <td>5</td>\n",
              "      <td>Argentina</td>\n",
              "      <td>ARG</td>\n",
              "      <td>0.0</td>\n",
              "      <td>51</td>\n",
              "      <td>5</td>\n",
              "      <td>0.0</td>\n",
              "      <td>0.0</td>\n",
              "      <td>0.0</td>\n",
              "      <td>0.0</td>\n",
              "      <td>0.0</td>\n",
              "      <td>0.0</td>\n",
              "      <td>0.0</td>\n",
              "      <td>0.0</td>\n",
              "      <td>CONMEBOL</td>\n",
              "      <td>1993-08-08</td>\n",
              "    </tr>\n",
              "  </tbody>\n",
              "</table>\n",
              "</div>"
            ],
            "text/plain": [
              "   rank country_full  ... confederation        date\n",
              "0     1      Germany  ...          UEFA  1993-08-08\n",
              "1     2        Italy  ...          UEFA  1993-08-08\n",
              "2     3  Switzerland  ...          UEFA  1993-08-08\n",
              "3     4       Sweden  ...          UEFA  1993-08-08\n",
              "4     5    Argentina  ...      CONMEBOL  1993-08-08\n",
              "\n",
              "[5 rows x 16 columns]"
            ]
          },
          "metadata": {
            "tags": []
          },
          "execution_count": 853
        }
      ]
    },
    {
      "cell_type": "code",
      "metadata": {
        "id": "YqPzOD6tVl1l",
        "colab_type": "code",
        "colab": {
          "base_uri": "https://localhost:8080/",
          "height": 0
        },
        "outputId": "7c6ba21e-ca84-45fd-a66a-91180973af25"
      },
      "source": [
        "\n",
        "#SET THE date_time as the index\n",
        "\n",
        "import datetime \n",
        "from datetime import  datetime\n",
        "rankings.date.sort_values(ascending=True)\n",
        "rankings.set_index(pd.DatetimeIndex(rankings['date']), drop=True, inplace = True)\n",
        "result.date.sort_values(ascending=True)\n",
        "result.set_index(pd.DatetimeIndex(result['date']), drop=True, inplace = True)\n",
        "print(result.head())\n",
        "print(result.tail())\n",
        "print(rankings.head())\n",
        "print(rankings.tail())"
      ],
      "execution_count": 854,
      "outputs": [
        {
          "output_type": "stream",
          "text": [
            "                  date home_team away_team  ...     city   country neutral\n",
            "date                                        ...                           \n",
            "1872-11-30  1872-11-30  Scotland   England  ...  Glasgow  Scotland   False\n",
            "1873-03-08  1873-03-08   England  Scotland  ...   London   England   False\n",
            "1874-03-07  1874-03-07  Scotland   England  ...  Glasgow  Scotland   False\n",
            "1875-03-06  1875-03-06   England  Scotland  ...   London   England   False\n",
            "1876-03-04  1876-03-04  Scotland   England  ...  Glasgow  Scotland   False\n",
            "\n",
            "[5 rows x 9 columns]\n",
            "                  date         home_team  ... country  neutral\n",
            "date                                      ...                 \n",
            "2019-07-18  2019-07-18    American Samoa  ...   Samoa     True\n",
            "2019-07-18  2019-07-18              Fiji  ...   Samoa     True\n",
            "2019-07-19  2019-07-19           Senegal  ...   Egypt     True\n",
            "2019-07-19  2019-07-19        Tajikistan  ...   India     True\n",
            "2019-07-20  2019-07-20  Papua New Guinea  ...   Samoa     True\n",
            "\n",
            "[5 rows x 9 columns]\n",
            "            rank country_full  ... confederation        date\n",
            "date                           ...                          \n",
            "1993-08-08     1      Germany  ...          UEFA  1993-08-08\n",
            "1993-08-08     2        Italy  ...          UEFA  1993-08-08\n",
            "1993-08-08     3  Switzerland  ...          UEFA  1993-08-08\n",
            "1993-08-08     4       Sweden  ...          UEFA  1993-08-08\n",
            "1993-08-08     5    Argentina  ...      CONMEBOL  1993-08-08\n",
            "\n",
            "[5 rows x 16 columns]\n",
            "            rank country_full  ... confederation        date\n",
            "date                           ...                          \n",
            "2018-06-07   206     Anguilla  ...      CONCACAF  2018-06-07\n",
            "2018-06-07   206      Bahamas  ...      CONCACAF  2018-06-07\n",
            "2018-06-07   206      Eritrea  ...           CAF  2018-06-07\n",
            "2018-06-07   206      Somalia  ...           CAF  2018-06-07\n",
            "2018-06-07   206        Tonga  ...           OFC  2018-06-07\n",
            "\n",
            "[5 rows x 16 columns]\n"
          ],
          "name": "stdout"
        }
      ]
    },
    {
      "cell_type": "markdown",
      "metadata": {
        "id": "RcU-GSmWNHzy",
        "colab_type": "text"
      },
      "source": [
        "Merging the dataset"
      ]
    },
    {
      "cell_type": "code",
      "metadata": {
        "id": "4Ku5c_gWNK_E",
        "colab_type": "code",
        "colab": {}
      },
      "source": [
        "# Merge two Dataframes on index of both the dataframes\n",
        "mergeddata = rankings.merge(result, left_index=True, right_index=True)"
      ],
      "execution_count": 855,
      "outputs": []
    },
    {
      "cell_type": "code",
      "metadata": {
        "id": "DkbpRlbTZzlo",
        "colab_type": "code",
        "colab": {
          "base_uri": "https://localhost:8080/",
          "height": 0
        },
        "outputId": "024cb4a8-75c3-4a28-dcbd-77216a1ab532"
      },
      "source": [
        "# Previewing the bottom part of the datasets \n",
        "display(\"FIFA Ranking and Results of teams\")\n",
        "display(mergeddata.head(3))\n",
        "display(mergeddata.tail(3))"
      ],
      "execution_count": 856,
      "outputs": [
        {
          "output_type": "display_data",
          "data": {
            "application/vnd.google.colaboratory.intrinsic+json": {
              "type": "string"
            },
            "text/plain": [
              "'FIFA Ranking and Results of teams'"
            ]
          },
          "metadata": {
            "tags": []
          }
        },
        {
          "output_type": "display_data",
          "data": {
            "text/html": [
              "<div>\n",
              "<style scoped>\n",
              "    .dataframe tbody tr th:only-of-type {\n",
              "        vertical-align: middle;\n",
              "    }\n",
              "\n",
              "    .dataframe tbody tr th {\n",
              "        vertical-align: top;\n",
              "    }\n",
              "\n",
              "    .dataframe thead th {\n",
              "        text-align: right;\n",
              "    }\n",
              "</style>\n",
              "<table border=\"1\" class=\"dataframe\">\n",
              "  <thead>\n",
              "    <tr style=\"text-align: right;\">\n",
              "      <th></th>\n",
              "      <th>rank</th>\n",
              "      <th>country_full</th>\n",
              "      <th>country_abrv</th>\n",
              "      <th>total_points</th>\n",
              "      <th>previous_points</th>\n",
              "      <th>rank_change</th>\n",
              "      <th>cur_year_avg</th>\n",
              "      <th>cur_year_avg_weighted</th>\n",
              "      <th>last_year_avg</th>\n",
              "      <th>last_year_avg_weighted</th>\n",
              "      <th>two_year_ago_avg</th>\n",
              "      <th>two_year_ago_weighted</th>\n",
              "      <th>three_year_ago_avg</th>\n",
              "      <th>three_year_ago_weighted</th>\n",
              "      <th>confederation</th>\n",
              "      <th>date_x</th>\n",
              "      <th>date_y</th>\n",
              "      <th>home_team</th>\n",
              "      <th>away_team</th>\n",
              "      <th>home_score</th>\n",
              "      <th>away_score</th>\n",
              "      <th>tournament</th>\n",
              "      <th>city</th>\n",
              "      <th>country</th>\n",
              "      <th>neutral</th>\n",
              "    </tr>\n",
              "    <tr>\n",
              "      <th>date</th>\n",
              "      <th></th>\n",
              "      <th></th>\n",
              "      <th></th>\n",
              "      <th></th>\n",
              "      <th></th>\n",
              "      <th></th>\n",
              "      <th></th>\n",
              "      <th></th>\n",
              "      <th></th>\n",
              "      <th></th>\n",
              "      <th></th>\n",
              "      <th></th>\n",
              "      <th></th>\n",
              "      <th></th>\n",
              "      <th></th>\n",
              "      <th></th>\n",
              "      <th></th>\n",
              "      <th></th>\n",
              "      <th></th>\n",
              "      <th></th>\n",
              "      <th></th>\n",
              "      <th></th>\n",
              "      <th></th>\n",
              "      <th></th>\n",
              "      <th></th>\n",
              "    </tr>\n",
              "  </thead>\n",
              "  <tbody>\n",
              "    <tr>\n",
              "      <th>1993-08-08</th>\n",
              "      <td>1</td>\n",
              "      <td>Germany</td>\n",
              "      <td>GER</td>\n",
              "      <td>0.0</td>\n",
              "      <td>57</td>\n",
              "      <td>0</td>\n",
              "      <td>0.0</td>\n",
              "      <td>0.0</td>\n",
              "      <td>0.0</td>\n",
              "      <td>0.0</td>\n",
              "      <td>0.0</td>\n",
              "      <td>0.0</td>\n",
              "      <td>0.0</td>\n",
              "      <td>0.0</td>\n",
              "      <td>UEFA</td>\n",
              "      <td>1993-08-08</td>\n",
              "      <td>1993-08-08</td>\n",
              "      <td>Bolivia</td>\n",
              "      <td>Uruguay</td>\n",
              "      <td>3</td>\n",
              "      <td>1</td>\n",
              "      <td>FIFA World Cup qualification</td>\n",
              "      <td>La Paz</td>\n",
              "      <td>Bolivia</td>\n",
              "      <td>False</td>\n",
              "    </tr>\n",
              "    <tr>\n",
              "      <th>1993-08-08</th>\n",
              "      <td>1</td>\n",
              "      <td>Germany</td>\n",
              "      <td>GER</td>\n",
              "      <td>0.0</td>\n",
              "      <td>57</td>\n",
              "      <td>0</td>\n",
              "      <td>0.0</td>\n",
              "      <td>0.0</td>\n",
              "      <td>0.0</td>\n",
              "      <td>0.0</td>\n",
              "      <td>0.0</td>\n",
              "      <td>0.0</td>\n",
              "      <td>0.0</td>\n",
              "      <td>0.0</td>\n",
              "      <td>UEFA</td>\n",
              "      <td>1993-08-08</td>\n",
              "      <td>1993-08-08</td>\n",
              "      <td>Brazil</td>\n",
              "      <td>Mexico</td>\n",
              "      <td>1</td>\n",
              "      <td>1</td>\n",
              "      <td>Friendly</td>\n",
              "      <td>Maceió</td>\n",
              "      <td>Brazil</td>\n",
              "      <td>False</td>\n",
              "    </tr>\n",
              "    <tr>\n",
              "      <th>1993-08-08</th>\n",
              "      <td>1</td>\n",
              "      <td>Germany</td>\n",
              "      <td>GER</td>\n",
              "      <td>0.0</td>\n",
              "      <td>57</td>\n",
              "      <td>0</td>\n",
              "      <td>0.0</td>\n",
              "      <td>0.0</td>\n",
              "      <td>0.0</td>\n",
              "      <td>0.0</td>\n",
              "      <td>0.0</td>\n",
              "      <td>0.0</td>\n",
              "      <td>0.0</td>\n",
              "      <td>0.0</td>\n",
              "      <td>UEFA</td>\n",
              "      <td>1993-08-08</td>\n",
              "      <td>1993-08-08</td>\n",
              "      <td>Ecuador</td>\n",
              "      <td>Venezuela</td>\n",
              "      <td>5</td>\n",
              "      <td>0</td>\n",
              "      <td>FIFA World Cup qualification</td>\n",
              "      <td>Quito</td>\n",
              "      <td>Ecuador</td>\n",
              "      <td>False</td>\n",
              "    </tr>\n",
              "  </tbody>\n",
              "</table>\n",
              "</div>"
            ],
            "text/plain": [
              "            rank country_full country_abrv  ...    city  country  neutral\n",
              "date                                        ...                          \n",
              "1993-08-08     1      Germany          GER  ...  La Paz  Bolivia    False\n",
              "1993-08-08     1      Germany          GER  ...  Maceió   Brazil    False\n",
              "1993-08-08     1      Germany          GER  ...   Quito  Ecuador    False\n",
              "\n",
              "[3 rows x 25 columns]"
            ]
          },
          "metadata": {
            "tags": []
          }
        },
        {
          "output_type": "display_data",
          "data": {
            "text/html": [
              "<div>\n",
              "<style scoped>\n",
              "    .dataframe tbody tr th:only-of-type {\n",
              "        vertical-align: middle;\n",
              "    }\n",
              "\n",
              "    .dataframe tbody tr th {\n",
              "        vertical-align: top;\n",
              "    }\n",
              "\n",
              "    .dataframe thead th {\n",
              "        text-align: right;\n",
              "    }\n",
              "</style>\n",
              "<table border=\"1\" class=\"dataframe\">\n",
              "  <thead>\n",
              "    <tr style=\"text-align: right;\">\n",
              "      <th></th>\n",
              "      <th>rank</th>\n",
              "      <th>country_full</th>\n",
              "      <th>country_abrv</th>\n",
              "      <th>total_points</th>\n",
              "      <th>previous_points</th>\n",
              "      <th>rank_change</th>\n",
              "      <th>cur_year_avg</th>\n",
              "      <th>cur_year_avg_weighted</th>\n",
              "      <th>last_year_avg</th>\n",
              "      <th>last_year_avg_weighted</th>\n",
              "      <th>two_year_ago_avg</th>\n",
              "      <th>two_year_ago_weighted</th>\n",
              "      <th>three_year_ago_avg</th>\n",
              "      <th>three_year_ago_weighted</th>\n",
              "      <th>confederation</th>\n",
              "      <th>date_x</th>\n",
              "      <th>date_y</th>\n",
              "      <th>home_team</th>\n",
              "      <th>away_team</th>\n",
              "      <th>home_score</th>\n",
              "      <th>away_score</th>\n",
              "      <th>tournament</th>\n",
              "      <th>city</th>\n",
              "      <th>country</th>\n",
              "      <th>neutral</th>\n",
              "    </tr>\n",
              "    <tr>\n",
              "      <th>date</th>\n",
              "      <th></th>\n",
              "      <th></th>\n",
              "      <th></th>\n",
              "      <th></th>\n",
              "      <th></th>\n",
              "      <th></th>\n",
              "      <th></th>\n",
              "      <th></th>\n",
              "      <th></th>\n",
              "      <th></th>\n",
              "      <th></th>\n",
              "      <th></th>\n",
              "      <th></th>\n",
              "      <th></th>\n",
              "      <th></th>\n",
              "      <th></th>\n",
              "      <th></th>\n",
              "      <th></th>\n",
              "      <th></th>\n",
              "      <th></th>\n",
              "      <th></th>\n",
              "      <th></th>\n",
              "      <th></th>\n",
              "      <th></th>\n",
              "      <th></th>\n",
              "    </tr>\n",
              "  </thead>\n",
              "  <tbody>\n",
              "    <tr>\n",
              "      <th>2018-06-07</th>\n",
              "      <td>206</td>\n",
              "      <td>Tonga</td>\n",
              "      <td>TGA</td>\n",
              "      <td>0.0</td>\n",
              "      <td>0</td>\n",
              "      <td>1</td>\n",
              "      <td>0.0</td>\n",
              "      <td>0.0</td>\n",
              "      <td>0.0</td>\n",
              "      <td>0.0</td>\n",
              "      <td>0.0</td>\n",
              "      <td>0.0</td>\n",
              "      <td>0.0</td>\n",
              "      <td>0.0</td>\n",
              "      <td>OFC</td>\n",
              "      <td>2018-06-07</td>\n",
              "      <td>2018-06-07</td>\n",
              "      <td>Cascadia</td>\n",
              "      <td>Western Armenia</td>\n",
              "      <td>4</td>\n",
              "      <td>0</td>\n",
              "      <td>CONIFA World Football Cup</td>\n",
              "      <td>Bromley</td>\n",
              "      <td>England</td>\n",
              "      <td>True</td>\n",
              "    </tr>\n",
              "    <tr>\n",
              "      <th>2018-06-07</th>\n",
              "      <td>206</td>\n",
              "      <td>Tonga</td>\n",
              "      <td>TGA</td>\n",
              "      <td>0.0</td>\n",
              "      <td>0</td>\n",
              "      <td>1</td>\n",
              "      <td>0.0</td>\n",
              "      <td>0.0</td>\n",
              "      <td>0.0</td>\n",
              "      <td>0.0</td>\n",
              "      <td>0.0</td>\n",
              "      <td>0.0</td>\n",
              "      <td>0.0</td>\n",
              "      <td>0.0</td>\n",
              "      <td>OFC</td>\n",
              "      <td>2018-06-07</td>\n",
              "      <td>2018-06-07</td>\n",
              "      <td>Northern Cyprus</td>\n",
              "      <td>Padania</td>\n",
              "      <td>3</td>\n",
              "      <td>2</td>\n",
              "      <td>CONIFA World Football Cup</td>\n",
              "      <td>Carshalton</td>\n",
              "      <td>England</td>\n",
              "      <td>True</td>\n",
              "    </tr>\n",
              "    <tr>\n",
              "      <th>2018-06-07</th>\n",
              "      <td>206</td>\n",
              "      <td>Tonga</td>\n",
              "      <td>TGA</td>\n",
              "      <td>0.0</td>\n",
              "      <td>0</td>\n",
              "      <td>1</td>\n",
              "      <td>0.0</td>\n",
              "      <td>0.0</td>\n",
              "      <td>0.0</td>\n",
              "      <td>0.0</td>\n",
              "      <td>0.0</td>\n",
              "      <td>0.0</td>\n",
              "      <td>0.0</td>\n",
              "      <td>0.0</td>\n",
              "      <td>OFC</td>\n",
              "      <td>2018-06-07</td>\n",
              "      <td>2018-06-07</td>\n",
              "      <td>Kárpátalja</td>\n",
              "      <td>Székely Land</td>\n",
              "      <td>4</td>\n",
              "      <td>2</td>\n",
              "      <td>CONIFA World Football Cup</td>\n",
              "      <td>Carshalton</td>\n",
              "      <td>England</td>\n",
              "      <td>True</td>\n",
              "    </tr>\n",
              "  </tbody>\n",
              "</table>\n",
              "</div>"
            ],
            "text/plain": [
              "            rank country_full country_abrv  ...        city  country  neutral\n",
              "date                                        ...                              \n",
              "2018-06-07   206        Tonga          TGA  ...     Bromley  England     True\n",
              "2018-06-07   206        Tonga          TGA  ...  Carshalton  England     True\n",
              "2018-06-07   206        Tonga          TGA  ...  Carshalton  England     True\n",
              "\n",
              "[3 rows x 25 columns]"
            ]
          },
          "metadata": {
            "tags": []
          }
        }
      ]
    },
    {
      "cell_type": "code",
      "metadata": {
        "id": "_D1QMty2SZnE",
        "colab_type": "code",
        "colab": {
          "base_uri": "https://localhost:8080/",
          "height": 0
        },
        "outputId": "8df6d1bd-7330-473c-c26a-851bda22f5e8"
      },
      "source": [
        "# Check The number of records in merged dataset\n",
        "#Checking information in merged dataset\n",
        "#Checking columns in merged dataset\n",
        "print('Merged dataset has ',mergeddata.shape[0],'records and ', mergeddata.shape[1], 'rows' )\n",
        "print(mergeddata.info())\n",
        "print(mergeddata.columns)"
      ],
      "execution_count": 857,
      "outputs": [
        {
          "output_type": "stream",
          "text": [
            "Merged dataset has  212831 records and  25 rows\n",
            "<class 'pandas.core.frame.DataFrame'>\n",
            "DatetimeIndex: 212831 entries, 1993-08-08 to 2018-06-07\n",
            "Data columns (total 25 columns):\n",
            " #   Column                   Non-Null Count   Dtype  \n",
            "---  ------                   --------------   -----  \n",
            " 0   rank                     212831 non-null  int64  \n",
            " 1   country_full             212831 non-null  object \n",
            " 2   country_abrv             212831 non-null  object \n",
            " 3   total_points             212831 non-null  float64\n",
            " 4   previous_points          212831 non-null  int64  \n",
            " 5   rank_change              212831 non-null  int64  \n",
            " 6   cur_year_avg             212831 non-null  float64\n",
            " 7   cur_year_avg_weighted    212831 non-null  float64\n",
            " 8   last_year_avg            212831 non-null  float64\n",
            " 9   last_year_avg_weighted   212831 non-null  float64\n",
            " 10  two_year_ago_avg         212831 non-null  float64\n",
            " 11  two_year_ago_weighted    212831 non-null  float64\n",
            " 12  three_year_ago_avg       212831 non-null  float64\n",
            " 13  three_year_ago_weighted  212831 non-null  float64\n",
            " 14  confederation            212831 non-null  object \n",
            " 15  date_x                   212831 non-null  object \n",
            " 16  date_y                   212831 non-null  object \n",
            " 17  home_team                212831 non-null  object \n",
            " 18  away_team                212831 non-null  object \n",
            " 19  home_score               212831 non-null  int64  \n",
            " 20  away_score               212831 non-null  int64  \n",
            " 21  tournament               212831 non-null  object \n",
            " 22  city                     212831 non-null  object \n",
            " 23  country                  212831 non-null  object \n",
            " 24  neutral                  212831 non-null  bool   \n",
            "dtypes: bool(1), float64(9), int64(5), object(10)\n",
            "memory usage: 40.8+ MB\n",
            "None\n",
            "Index(['rank', 'country_full', 'country_abrv', 'total_points',\n",
            "       'previous_points', 'rank_change', 'cur_year_avg',\n",
            "       'cur_year_avg_weighted', 'last_year_avg', 'last_year_avg_weighted',\n",
            "       'two_year_ago_avg', 'two_year_ago_weighted', 'three_year_ago_avg',\n",
            "       'three_year_ago_weighted', 'confederation', 'date_x', 'date_y',\n",
            "       'home_team', 'away_team', 'home_score', 'away_score', 'tournament',\n",
            "       'city', 'country', 'neutral'],\n",
            "      dtype='object')\n"
          ],
          "name": "stdout"
        }
      ]
    },
    {
      "cell_type": "code",
      "metadata": {
        "id": "BU-GRJJcn8Ez",
        "colab_type": "code",
        "colab": {}
      },
      "source": [
        "#Dropping irrelevant columns \n",
        "to_drop = [ 'country_abrv','rank_change', 'cur_year_avg',\n",
        "       'cur_year_avg_weighted', 'last_year_avg', 'last_year_avg_weighted',\n",
        "       'two_year_ago_avg', 'two_year_ago_weighted', 'three_year_ago_avg',\n",
        "       'three_year_ago_weighted', 'confederation', 'date_x', 'date_y']\n",
        "mergeddata.drop(to_drop, axis=1,inplace=True)"
      ],
      "execution_count": 858,
      "outputs": []
    },
    {
      "cell_type": "code",
      "metadata": {
        "id": "9NwUxcOaYGfY",
        "colab_type": "code",
        "colab": {
          "base_uri": "https://localhost:8080/",
          "height": 0
        },
        "outputId": "86852ec0-39a1-4ccb-9033-e22bed3b942f"
      },
      "source": [
        "\n",
        "# Selecting the ranking details of the home teams only\n",
        "#\n",
        "home_teams = mergeddata[mergeddata.home_team == mergeddata.country_full]\n",
        "#previewing the first five rows of the home_teams\n",
        "#\n",
        "home_teams.shape"
      ],
      "execution_count": 859,
      "outputs": [
        {
          "output_type": "execute_result",
          "data": {
            "text/plain": [
              "(957, 12)"
            ]
          },
          "metadata": {
            "tags": []
          },
          "execution_count": 859
        }
      ]
    },
    {
      "cell_type": "code",
      "metadata": {
        "id": "UXCFwDmMSZrA",
        "colab_type": "code",
        "colab": {
          "base_uri": "https://localhost:8080/",
          "height": 0
        },
        "outputId": "ee4814d7-f890-405d-cf90-6058206a3165"
      },
      "source": [
        "\n",
        "# Selecting the ranking details of the away teams only\n",
        "#\n",
        "away_teams = mergeddata[mergeddata.away_team == mergeddata.country_full]\n",
        "#previewing the first five rows of the away_teams\n",
        "#\n",
        "away_teams.shape"
      ],
      "execution_count": 860,
      "outputs": [
        {
          "output_type": "execute_result",
          "data": {
            "text/plain": [
              "(933, 12)"
            ]
          },
          "metadata": {
            "tags": []
          },
          "execution_count": 860
        }
      ]
    },
    {
      "cell_type": "code",
      "metadata": {
        "id": "xEYaQAyfoJLV",
        "colab_type": "code",
        "colab": {}
      },
      "source": [
        "# Merging the home_teams dataframe to the away_teams dataframe\n",
        "# The two dataframes have been merged on date, home_team and away_team columns\n",
        "#\n",
        "final_df = pd.merge(home_teams, away_teams, how = 'left' , left_on =['date', 'home_team', 'away_team'],\\\n",
        "                    right_on = ['date', 'home_team', 'away_team'])"
      ],
      "execution_count": 861,
      "outputs": []
    },
    {
      "cell_type": "code",
      "metadata": {
        "id": "-PWkjN3VpK2v",
        "colab_type": "code",
        "colab": {
          "base_uri": "https://localhost:8080/",
          "height": 0
        },
        "outputId": "7f1d13f2-80a7-460c-ca99-1d74bab3fac1"
      },
      "source": [
        "final_df"
      ],
      "execution_count": 862,
      "outputs": [
        {
          "output_type": "execute_result",
          "data": {
            "text/html": [
              "<div>\n",
              "<style scoped>\n",
              "    .dataframe tbody tr th:only-of-type {\n",
              "        vertical-align: middle;\n",
              "    }\n",
              "\n",
              "    .dataframe tbody tr th {\n",
              "        vertical-align: top;\n",
              "    }\n",
              "\n",
              "    .dataframe thead th {\n",
              "        text-align: right;\n",
              "    }\n",
              "</style>\n",
              "<table border=\"1\" class=\"dataframe\">\n",
              "  <thead>\n",
              "    <tr style=\"text-align: right;\">\n",
              "      <th></th>\n",
              "      <th>rank_x</th>\n",
              "      <th>country_full_x</th>\n",
              "      <th>total_points_x</th>\n",
              "      <th>previous_points_x</th>\n",
              "      <th>home_team</th>\n",
              "      <th>away_team</th>\n",
              "      <th>home_score_x</th>\n",
              "      <th>away_score_x</th>\n",
              "      <th>tournament_x</th>\n",
              "      <th>city_x</th>\n",
              "      <th>country_x</th>\n",
              "      <th>neutral_x</th>\n",
              "      <th>rank_y</th>\n",
              "      <th>country_full_y</th>\n",
              "      <th>total_points_y</th>\n",
              "      <th>previous_points_y</th>\n",
              "      <th>home_score_y</th>\n",
              "      <th>away_score_y</th>\n",
              "      <th>tournament_y</th>\n",
              "      <th>city_y</th>\n",
              "      <th>country_y</th>\n",
              "      <th>neutral_y</th>\n",
              "    </tr>\n",
              "    <tr>\n",
              "      <th>date</th>\n",
              "      <th></th>\n",
              "      <th></th>\n",
              "      <th></th>\n",
              "      <th></th>\n",
              "      <th></th>\n",
              "      <th></th>\n",
              "      <th></th>\n",
              "      <th></th>\n",
              "      <th></th>\n",
              "      <th></th>\n",
              "      <th></th>\n",
              "      <th></th>\n",
              "      <th></th>\n",
              "      <th></th>\n",
              "      <th></th>\n",
              "      <th></th>\n",
              "      <th></th>\n",
              "      <th></th>\n",
              "      <th></th>\n",
              "      <th></th>\n",
              "      <th></th>\n",
              "      <th></th>\n",
              "    </tr>\n",
              "  </thead>\n",
              "  <tbody>\n",
              "    <tr>\n",
              "      <th>1993-08-08</th>\n",
              "      <td>8</td>\n",
              "      <td>Brazil</td>\n",
              "      <td>0.00</td>\n",
              "      <td>55</td>\n",
              "      <td>Brazil</td>\n",
              "      <td>Mexico</td>\n",
              "      <td>1</td>\n",
              "      <td>1</td>\n",
              "      <td>Friendly</td>\n",
              "      <td>Maceió</td>\n",
              "      <td>Brazil</td>\n",
              "      <td>False</td>\n",
              "      <td>14.0</td>\n",
              "      <td>Mexico</td>\n",
              "      <td>0.00</td>\n",
              "      <td>42.0</td>\n",
              "      <td>1.0</td>\n",
              "      <td>1.0</td>\n",
              "      <td>Friendly</td>\n",
              "      <td>Maceió</td>\n",
              "      <td>Brazil</td>\n",
              "      <td>False</td>\n",
              "    </tr>\n",
              "    <tr>\n",
              "      <th>1993-08-08</th>\n",
              "      <td>35</td>\n",
              "      <td>Ecuador</td>\n",
              "      <td>0.00</td>\n",
              "      <td>23</td>\n",
              "      <td>Ecuador</td>\n",
              "      <td>Venezuela</td>\n",
              "      <td>5</td>\n",
              "      <td>0</td>\n",
              "      <td>FIFA World Cup qualification</td>\n",
              "      <td>Quito</td>\n",
              "      <td>Ecuador</td>\n",
              "      <td>False</td>\n",
              "      <td>94.0</td>\n",
              "      <td>Venezuela</td>\n",
              "      <td>0.00</td>\n",
              "      <td>4.0</td>\n",
              "      <td>5.0</td>\n",
              "      <td>0.0</td>\n",
              "      <td>FIFA World Cup qualification</td>\n",
              "      <td>Quito</td>\n",
              "      <td>Ecuador</td>\n",
              "      <td>False</td>\n",
              "    </tr>\n",
              "    <tr>\n",
              "      <th>1993-08-08</th>\n",
              "      <td>50</td>\n",
              "      <td>Zimbabwe</td>\n",
              "      <td>0.00</td>\n",
              "      <td>27</td>\n",
              "      <td>Zimbabwe</td>\n",
              "      <td>Eswatini</td>\n",
              "      <td>2</td>\n",
              "      <td>0</td>\n",
              "      <td>Friendly</td>\n",
              "      <td>Harare</td>\n",
              "      <td>Zimbabwe</td>\n",
              "      <td>False</td>\n",
              "      <td>NaN</td>\n",
              "      <td>NaN</td>\n",
              "      <td>NaN</td>\n",
              "      <td>NaN</td>\n",
              "      <td>NaN</td>\n",
              "      <td>NaN</td>\n",
              "      <td>NaN</td>\n",
              "      <td>NaN</td>\n",
              "      <td>NaN</td>\n",
              "      <td>NaN</td>\n",
              "    </tr>\n",
              "    <tr>\n",
              "      <th>1993-08-08</th>\n",
              "      <td>59</td>\n",
              "      <td>Bolivia</td>\n",
              "      <td>0.00</td>\n",
              "      <td>13</td>\n",
              "      <td>Bolivia</td>\n",
              "      <td>Uruguay</td>\n",
              "      <td>3</td>\n",
              "      <td>1</td>\n",
              "      <td>FIFA World Cup qualification</td>\n",
              "      <td>La Paz</td>\n",
              "      <td>Bolivia</td>\n",
              "      <td>False</td>\n",
              "      <td>22.0</td>\n",
              "      <td>Uruguay</td>\n",
              "      <td>0.00</td>\n",
              "      <td>47.0</td>\n",
              "      <td>3.0</td>\n",
              "      <td>1.0</td>\n",
              "      <td>FIFA World Cup qualification</td>\n",
              "      <td>La Paz</td>\n",
              "      <td>Bolivia</td>\n",
              "      <td>False</td>\n",
              "    </tr>\n",
              "    <tr>\n",
              "      <th>1993-08-08</th>\n",
              "      <td>65</td>\n",
              "      <td>Guinea</td>\n",
              "      <td>0.00</td>\n",
              "      <td>23</td>\n",
              "      <td>Guinea</td>\n",
              "      <td>Sierra Leone</td>\n",
              "      <td>1</td>\n",
              "      <td>0</td>\n",
              "      <td>Friendly</td>\n",
              "      <td>Conakry</td>\n",
              "      <td>Guinea</td>\n",
              "      <td>False</td>\n",
              "      <td>86.0</td>\n",
              "      <td>Sierra Leone</td>\n",
              "      <td>0.00</td>\n",
              "      <td>16.0</td>\n",
              "      <td>1.0</td>\n",
              "      <td>0.0</td>\n",
              "      <td>Friendly</td>\n",
              "      <td>Conakry</td>\n",
              "      <td>Guinea</td>\n",
              "      <td>False</td>\n",
              "    </tr>\n",
              "    <tr>\n",
              "      <th>...</th>\n",
              "      <td>...</td>\n",
              "      <td>...</td>\n",
              "      <td>...</td>\n",
              "      <td>...</td>\n",
              "      <td>...</td>\n",
              "      <td>...</td>\n",
              "      <td>...</td>\n",
              "      <td>...</td>\n",
              "      <td>...</td>\n",
              "      <td>...</td>\n",
              "      <td>...</td>\n",
              "      <td>...</td>\n",
              "      <td>...</td>\n",
              "      <td>...</td>\n",
              "      <td>...</td>\n",
              "      <td>...</td>\n",
              "      <td>...</td>\n",
              "      <td>...</td>\n",
              "      <td>...</td>\n",
              "      <td>...</td>\n",
              "      <td>...</td>\n",
              "      <td>...</td>\n",
              "    </tr>\n",
              "    <tr>\n",
              "      <th>2018-06-07</th>\n",
              "      <td>4</td>\n",
              "      <td>Portugal</td>\n",
              "      <td>1273.69</td>\n",
              "      <td>1306</td>\n",
              "      <td>Portugal</td>\n",
              "      <td>Algeria</td>\n",
              "      <td>3</td>\n",
              "      <td>0</td>\n",
              "      <td>Friendly</td>\n",
              "      <td>Lisbon</td>\n",
              "      <td>Portugal</td>\n",
              "      <td>False</td>\n",
              "      <td>66.0</td>\n",
              "      <td>Algeria</td>\n",
              "      <td>473.83</td>\n",
              "      <td>499.0</td>\n",
              "      <td>3.0</td>\n",
              "      <td>0.0</td>\n",
              "      <td>Friendly</td>\n",
              "      <td>Lisbon</td>\n",
              "      <td>Portugal</td>\n",
              "      <td>False</td>\n",
              "    </tr>\n",
              "    <tr>\n",
              "      <th>2018-06-07</th>\n",
              "      <td>12</td>\n",
              "      <td>England</td>\n",
              "      <td>1050.84</td>\n",
              "      <td>1040</td>\n",
              "      <td>England</td>\n",
              "      <td>Costa Rica</td>\n",
              "      <td>2</td>\n",
              "      <td>0</td>\n",
              "      <td>Friendly</td>\n",
              "      <td>Leeds</td>\n",
              "      <td>England</td>\n",
              "      <td>False</td>\n",
              "      <td>23.0</td>\n",
              "      <td>Costa Rica</td>\n",
              "      <td>884.04</td>\n",
              "      <td>858.0</td>\n",
              "      <td>2.0</td>\n",
              "      <td>0.0</td>\n",
              "      <td>Friendly</td>\n",
              "      <td>Leeds</td>\n",
              "      <td>England</td>\n",
              "      <td>False</td>\n",
              "    </tr>\n",
              "    <tr>\n",
              "      <th>2018-06-07</th>\n",
              "      <td>14</td>\n",
              "      <td>Uruguay</td>\n",
              "      <td>1018.41</td>\n",
              "      <td>976</td>\n",
              "      <td>Uruguay</td>\n",
              "      <td>Uzbekistan</td>\n",
              "      <td>3</td>\n",
              "      <td>0</td>\n",
              "      <td>Friendly</td>\n",
              "      <td>Montevideo</td>\n",
              "      <td>Uruguay</td>\n",
              "      <td>False</td>\n",
              "      <td>95.0</td>\n",
              "      <td>Uzbekistan</td>\n",
              "      <td>353.91</td>\n",
              "      <td>381.0</td>\n",
              "      <td>3.0</td>\n",
              "      <td>0.0</td>\n",
              "      <td>Friendly</td>\n",
              "      <td>Montevideo</td>\n",
              "      <td>Uruguay</td>\n",
              "      <td>False</td>\n",
              "    </tr>\n",
              "    <tr>\n",
              "      <th>2018-06-07</th>\n",
              "      <td>22</td>\n",
              "      <td>Iceland</td>\n",
              "      <td>908.01</td>\n",
              "      <td>930</td>\n",
              "      <td>Iceland</td>\n",
              "      <td>Ghana</td>\n",
              "      <td>2</td>\n",
              "      <td>2</td>\n",
              "      <td>Friendly</td>\n",
              "      <td>Reykjavík</td>\n",
              "      <td>Iceland</td>\n",
              "      <td>False</td>\n",
              "      <td>47.0</td>\n",
              "      <td>Ghana</td>\n",
              "      <td>623.69</td>\n",
              "      <td>603.0</td>\n",
              "      <td>2.0</td>\n",
              "      <td>2.0</td>\n",
              "      <td>Friendly</td>\n",
              "      <td>Reykjavík</td>\n",
              "      <td>Iceland</td>\n",
              "      <td>False</td>\n",
              "    </tr>\n",
              "    <tr>\n",
              "      <th>2018-06-07</th>\n",
              "      <td>97</td>\n",
              "      <td>India</td>\n",
              "      <td>349.92</td>\n",
              "      <td>354</td>\n",
              "      <td>India</td>\n",
              "      <td>New Zealand</td>\n",
              "      <td>1</td>\n",
              "      <td>2</td>\n",
              "      <td>Intercontinental Cup</td>\n",
              "      <td>Mumbai</td>\n",
              "      <td>India</td>\n",
              "      <td>False</td>\n",
              "      <td>120.0</td>\n",
              "      <td>New Zealand</td>\n",
              "      <td>255.78</td>\n",
              "      <td>229.0</td>\n",
              "      <td>1.0</td>\n",
              "      <td>2.0</td>\n",
              "      <td>Intercontinental Cup</td>\n",
              "      <td>Mumbai</td>\n",
              "      <td>India</td>\n",
              "      <td>False</td>\n",
              "    </tr>\n",
              "  </tbody>\n",
              "</table>\n",
              "<p>957 rows × 22 columns</p>\n",
              "</div>"
            ],
            "text/plain": [
              "            rank_x country_full_x  ...  country_y  neutral_y\n",
              "date                               ...                      \n",
              "1993-08-08       8         Brazil  ...     Brazil      False\n",
              "1993-08-08      35        Ecuador  ...    Ecuador      False\n",
              "1993-08-08      50       Zimbabwe  ...        NaN        NaN\n",
              "1993-08-08      59        Bolivia  ...    Bolivia      False\n",
              "1993-08-08      65         Guinea  ...     Guinea      False\n",
              "...            ...            ...  ...        ...        ...\n",
              "2018-06-07       4       Portugal  ...   Portugal      False\n",
              "2018-06-07      12        England  ...    England      False\n",
              "2018-06-07      14        Uruguay  ...    Uruguay      False\n",
              "2018-06-07      22        Iceland  ...    Iceland      False\n",
              "2018-06-07      97          India  ...      India      False\n",
              "\n",
              "[957 rows x 22 columns]"
            ]
          },
          "metadata": {
            "tags": []
          },
          "execution_count": 862
        }
      ]
    },
    {
      "cell_type": "code",
      "metadata": {
        "id": "8oJMUoGRsjn-",
        "colab_type": "code",
        "colab": {}
      },
      "source": [
        "#Dropping irrelevant columns \n",
        "to_drop = ['country_full_x','country_full_y','home_score_y',\n",
        "       'away_score_y', 'tournament_y', 'city_y', 'country_y', 'neutral_y' ]\n",
        "final_df.drop(to_drop, axis=1,inplace=True)"
      ],
      "execution_count": 863,
      "outputs": []
    },
    {
      "cell_type": "code",
      "metadata": {
        "id": "FuT4DIsntnFn",
        "colab_type": "code",
        "colab": {
          "base_uri": "https://localhost:8080/",
          "height": 0
        },
        "outputId": "3c0b0f92-7f15-4e20-9db8-3bd481b8ff7c"
      },
      "source": [
        "final_df.head()"
      ],
      "execution_count": 864,
      "outputs": [
        {
          "output_type": "execute_result",
          "data": {
            "text/html": [
              "<div>\n",
              "<style scoped>\n",
              "    .dataframe tbody tr th:only-of-type {\n",
              "        vertical-align: middle;\n",
              "    }\n",
              "\n",
              "    .dataframe tbody tr th {\n",
              "        vertical-align: top;\n",
              "    }\n",
              "\n",
              "    .dataframe thead th {\n",
              "        text-align: right;\n",
              "    }\n",
              "</style>\n",
              "<table border=\"1\" class=\"dataframe\">\n",
              "  <thead>\n",
              "    <tr style=\"text-align: right;\">\n",
              "      <th></th>\n",
              "      <th>rank_x</th>\n",
              "      <th>total_points_x</th>\n",
              "      <th>previous_points_x</th>\n",
              "      <th>home_team</th>\n",
              "      <th>away_team</th>\n",
              "      <th>home_score_x</th>\n",
              "      <th>away_score_x</th>\n",
              "      <th>tournament_x</th>\n",
              "      <th>city_x</th>\n",
              "      <th>country_x</th>\n",
              "      <th>neutral_x</th>\n",
              "      <th>rank_y</th>\n",
              "      <th>total_points_y</th>\n",
              "      <th>previous_points_y</th>\n",
              "    </tr>\n",
              "    <tr>\n",
              "      <th>date</th>\n",
              "      <th></th>\n",
              "      <th></th>\n",
              "      <th></th>\n",
              "      <th></th>\n",
              "      <th></th>\n",
              "      <th></th>\n",
              "      <th></th>\n",
              "      <th></th>\n",
              "      <th></th>\n",
              "      <th></th>\n",
              "      <th></th>\n",
              "      <th></th>\n",
              "      <th></th>\n",
              "      <th></th>\n",
              "    </tr>\n",
              "  </thead>\n",
              "  <tbody>\n",
              "    <tr>\n",
              "      <th>1993-08-08</th>\n",
              "      <td>8</td>\n",
              "      <td>0.0</td>\n",
              "      <td>55</td>\n",
              "      <td>Brazil</td>\n",
              "      <td>Mexico</td>\n",
              "      <td>1</td>\n",
              "      <td>1</td>\n",
              "      <td>Friendly</td>\n",
              "      <td>Maceió</td>\n",
              "      <td>Brazil</td>\n",
              "      <td>False</td>\n",
              "      <td>14.0</td>\n",
              "      <td>0.0</td>\n",
              "      <td>42.0</td>\n",
              "    </tr>\n",
              "    <tr>\n",
              "      <th>1993-08-08</th>\n",
              "      <td>35</td>\n",
              "      <td>0.0</td>\n",
              "      <td>23</td>\n",
              "      <td>Ecuador</td>\n",
              "      <td>Venezuela</td>\n",
              "      <td>5</td>\n",
              "      <td>0</td>\n",
              "      <td>FIFA World Cup qualification</td>\n",
              "      <td>Quito</td>\n",
              "      <td>Ecuador</td>\n",
              "      <td>False</td>\n",
              "      <td>94.0</td>\n",
              "      <td>0.0</td>\n",
              "      <td>4.0</td>\n",
              "    </tr>\n",
              "    <tr>\n",
              "      <th>1993-08-08</th>\n",
              "      <td>50</td>\n",
              "      <td>0.0</td>\n",
              "      <td>27</td>\n",
              "      <td>Zimbabwe</td>\n",
              "      <td>Eswatini</td>\n",
              "      <td>2</td>\n",
              "      <td>0</td>\n",
              "      <td>Friendly</td>\n",
              "      <td>Harare</td>\n",
              "      <td>Zimbabwe</td>\n",
              "      <td>False</td>\n",
              "      <td>NaN</td>\n",
              "      <td>NaN</td>\n",
              "      <td>NaN</td>\n",
              "    </tr>\n",
              "    <tr>\n",
              "      <th>1993-08-08</th>\n",
              "      <td>59</td>\n",
              "      <td>0.0</td>\n",
              "      <td>13</td>\n",
              "      <td>Bolivia</td>\n",
              "      <td>Uruguay</td>\n",
              "      <td>3</td>\n",
              "      <td>1</td>\n",
              "      <td>FIFA World Cup qualification</td>\n",
              "      <td>La Paz</td>\n",
              "      <td>Bolivia</td>\n",
              "      <td>False</td>\n",
              "      <td>22.0</td>\n",
              "      <td>0.0</td>\n",
              "      <td>47.0</td>\n",
              "    </tr>\n",
              "    <tr>\n",
              "      <th>1993-08-08</th>\n",
              "      <td>65</td>\n",
              "      <td>0.0</td>\n",
              "      <td>23</td>\n",
              "      <td>Guinea</td>\n",
              "      <td>Sierra Leone</td>\n",
              "      <td>1</td>\n",
              "      <td>0</td>\n",
              "      <td>Friendly</td>\n",
              "      <td>Conakry</td>\n",
              "      <td>Guinea</td>\n",
              "      <td>False</td>\n",
              "      <td>86.0</td>\n",
              "      <td>0.0</td>\n",
              "      <td>16.0</td>\n",
              "    </tr>\n",
              "  </tbody>\n",
              "</table>\n",
              "</div>"
            ],
            "text/plain": [
              "            rank_x  total_points_x  ...  total_points_y previous_points_y\n",
              "date                                ...                                  \n",
              "1993-08-08       8             0.0  ...             0.0              42.0\n",
              "1993-08-08      35             0.0  ...             0.0               4.0\n",
              "1993-08-08      50             0.0  ...             NaN               NaN\n",
              "1993-08-08      59             0.0  ...             0.0              47.0\n",
              "1993-08-08      65             0.0  ...             0.0              16.0\n",
              "\n",
              "[5 rows x 14 columns]"
            ]
          },
          "metadata": {
            "tags": []
          },
          "execution_count": 864
        }
      ]
    },
    {
      "cell_type": "code",
      "metadata": {
        "id": "HxNBG8CNSZuX",
        "colab_type": "code",
        "colab": {
          "base_uri": "https://localhost:8080/",
          "height": 0
        },
        "outputId": "806e7768-fc3e-464a-adc2-080151c252b7"
      },
      "source": [
        "#Rearrage and Renaming columns\n",
        "df2=final_df.reindex(columns= ['home_team', 'away_team', 'home_score_x', 'away_score_x','rank_x', 'rank_y','total_points_x','total_points_y' ,'previous_points_x', 'previous_points_y',\n",
        "    'neutral_x','tournament_x', 'city_x', 'country_x'])\n",
        "# changing cols with rename() \n",
        "new_data = df2.rename(columns = {\"home_score_x\": \"home_score\", \n",
        "                                  \"away_score_x\":\"away_score\", \n",
        "                                  \"rank_x\": \"home rank\",\n",
        "                                 \"rank_y\": \"away rank\",\n",
        "                                 \"tournament_x\" : \"tournament_type\",\n",
        "                                 'total_points_x' : \"home_total_points\",\n",
        "                                 'total_points_y' : \"away_total_points\" ,\n",
        "                                 'previous_points_x': \"home_previous_points\",\n",
        "                                 'previous_points_y' : \"away_previous_points\",\n",
        "                                 \"neutral_x\" : \"neutral\",\n",
        "                                 \"city_x\" : \"city\",\n",
        "                                 \"country_x\": \"country\"}) \n",
        "  \n",
        "new_data.head()\n"
      ],
      "execution_count": 865,
      "outputs": [
        {
          "output_type": "execute_result",
          "data": {
            "text/html": [
              "<div>\n",
              "<style scoped>\n",
              "    .dataframe tbody tr th:only-of-type {\n",
              "        vertical-align: middle;\n",
              "    }\n",
              "\n",
              "    .dataframe tbody tr th {\n",
              "        vertical-align: top;\n",
              "    }\n",
              "\n",
              "    .dataframe thead th {\n",
              "        text-align: right;\n",
              "    }\n",
              "</style>\n",
              "<table border=\"1\" class=\"dataframe\">\n",
              "  <thead>\n",
              "    <tr style=\"text-align: right;\">\n",
              "      <th></th>\n",
              "      <th>home_team</th>\n",
              "      <th>away_team</th>\n",
              "      <th>home_score</th>\n",
              "      <th>away_score</th>\n",
              "      <th>home rank</th>\n",
              "      <th>away rank</th>\n",
              "      <th>home_total_points</th>\n",
              "      <th>away_total_points</th>\n",
              "      <th>home_previous_points</th>\n",
              "      <th>away_previous_points</th>\n",
              "      <th>neutral</th>\n",
              "      <th>tournament_type</th>\n",
              "      <th>city</th>\n",
              "      <th>country</th>\n",
              "    </tr>\n",
              "    <tr>\n",
              "      <th>date</th>\n",
              "      <th></th>\n",
              "      <th></th>\n",
              "      <th></th>\n",
              "      <th></th>\n",
              "      <th></th>\n",
              "      <th></th>\n",
              "      <th></th>\n",
              "      <th></th>\n",
              "      <th></th>\n",
              "      <th></th>\n",
              "      <th></th>\n",
              "      <th></th>\n",
              "      <th></th>\n",
              "      <th></th>\n",
              "    </tr>\n",
              "  </thead>\n",
              "  <tbody>\n",
              "    <tr>\n",
              "      <th>1993-08-08</th>\n",
              "      <td>Brazil</td>\n",
              "      <td>Mexico</td>\n",
              "      <td>1</td>\n",
              "      <td>1</td>\n",
              "      <td>8</td>\n",
              "      <td>14.0</td>\n",
              "      <td>0.0</td>\n",
              "      <td>0.0</td>\n",
              "      <td>55</td>\n",
              "      <td>42.0</td>\n",
              "      <td>False</td>\n",
              "      <td>Friendly</td>\n",
              "      <td>Maceió</td>\n",
              "      <td>Brazil</td>\n",
              "    </tr>\n",
              "    <tr>\n",
              "      <th>1993-08-08</th>\n",
              "      <td>Ecuador</td>\n",
              "      <td>Venezuela</td>\n",
              "      <td>5</td>\n",
              "      <td>0</td>\n",
              "      <td>35</td>\n",
              "      <td>94.0</td>\n",
              "      <td>0.0</td>\n",
              "      <td>0.0</td>\n",
              "      <td>23</td>\n",
              "      <td>4.0</td>\n",
              "      <td>False</td>\n",
              "      <td>FIFA World Cup qualification</td>\n",
              "      <td>Quito</td>\n",
              "      <td>Ecuador</td>\n",
              "    </tr>\n",
              "    <tr>\n",
              "      <th>1993-08-08</th>\n",
              "      <td>Zimbabwe</td>\n",
              "      <td>Eswatini</td>\n",
              "      <td>2</td>\n",
              "      <td>0</td>\n",
              "      <td>50</td>\n",
              "      <td>NaN</td>\n",
              "      <td>0.0</td>\n",
              "      <td>NaN</td>\n",
              "      <td>27</td>\n",
              "      <td>NaN</td>\n",
              "      <td>False</td>\n",
              "      <td>Friendly</td>\n",
              "      <td>Harare</td>\n",
              "      <td>Zimbabwe</td>\n",
              "    </tr>\n",
              "    <tr>\n",
              "      <th>1993-08-08</th>\n",
              "      <td>Bolivia</td>\n",
              "      <td>Uruguay</td>\n",
              "      <td>3</td>\n",
              "      <td>1</td>\n",
              "      <td>59</td>\n",
              "      <td>22.0</td>\n",
              "      <td>0.0</td>\n",
              "      <td>0.0</td>\n",
              "      <td>13</td>\n",
              "      <td>47.0</td>\n",
              "      <td>False</td>\n",
              "      <td>FIFA World Cup qualification</td>\n",
              "      <td>La Paz</td>\n",
              "      <td>Bolivia</td>\n",
              "    </tr>\n",
              "    <tr>\n",
              "      <th>1993-08-08</th>\n",
              "      <td>Guinea</td>\n",
              "      <td>Sierra Leone</td>\n",
              "      <td>1</td>\n",
              "      <td>0</td>\n",
              "      <td>65</td>\n",
              "      <td>86.0</td>\n",
              "      <td>0.0</td>\n",
              "      <td>0.0</td>\n",
              "      <td>23</td>\n",
              "      <td>16.0</td>\n",
              "      <td>False</td>\n",
              "      <td>Friendly</td>\n",
              "      <td>Conakry</td>\n",
              "      <td>Guinea</td>\n",
              "    </tr>\n",
              "  </tbody>\n",
              "</table>\n",
              "</div>"
            ],
            "text/plain": [
              "           home_team     away_team  ...     city   country\n",
              "date                                ...                   \n",
              "1993-08-08    Brazil        Mexico  ...   Maceió    Brazil\n",
              "1993-08-08   Ecuador     Venezuela  ...    Quito   Ecuador\n",
              "1993-08-08  Zimbabwe      Eswatini  ...   Harare  Zimbabwe\n",
              "1993-08-08   Bolivia       Uruguay  ...   La Paz   Bolivia\n",
              "1993-08-08    Guinea  Sierra Leone  ...  Conakry    Guinea\n",
              "\n",
              "[5 rows x 14 columns]"
            ]
          },
          "metadata": {
            "tags": []
          },
          "execution_count": 865
        }
      ]
    },
    {
      "cell_type": "code",
      "metadata": {
        "id": "cZJ4G6ZsSZxm",
        "colab_type": "code",
        "colab": {
          "base_uri": "https://localhost:8080/",
          "height": 0
        },
        "outputId": "038dfebd-0f6d-42a7-f9cc-b83930de8196"
      },
      "source": [
        "# Creating a year column from the datetime index\n",
        "#\n",
        "new_data['date'] =new_data.index\n",
        "new_data['year']= new_data.date.dt.year\n",
        "to_drop = ['date']\n",
        "new_data.drop(to_drop, axis=1,inplace=True)\n",
        "new_data.head()"
      ],
      "execution_count": 866,
      "outputs": [
        {
          "output_type": "execute_result",
          "data": {
            "text/html": [
              "<div>\n",
              "<style scoped>\n",
              "    .dataframe tbody tr th:only-of-type {\n",
              "        vertical-align: middle;\n",
              "    }\n",
              "\n",
              "    .dataframe tbody tr th {\n",
              "        vertical-align: top;\n",
              "    }\n",
              "\n",
              "    .dataframe thead th {\n",
              "        text-align: right;\n",
              "    }\n",
              "</style>\n",
              "<table border=\"1\" class=\"dataframe\">\n",
              "  <thead>\n",
              "    <tr style=\"text-align: right;\">\n",
              "      <th></th>\n",
              "      <th>home_team</th>\n",
              "      <th>away_team</th>\n",
              "      <th>home_score</th>\n",
              "      <th>away_score</th>\n",
              "      <th>home rank</th>\n",
              "      <th>away rank</th>\n",
              "      <th>home_total_points</th>\n",
              "      <th>away_total_points</th>\n",
              "      <th>home_previous_points</th>\n",
              "      <th>away_previous_points</th>\n",
              "      <th>neutral</th>\n",
              "      <th>tournament_type</th>\n",
              "      <th>city</th>\n",
              "      <th>country</th>\n",
              "      <th>year</th>\n",
              "    </tr>\n",
              "    <tr>\n",
              "      <th>date</th>\n",
              "      <th></th>\n",
              "      <th></th>\n",
              "      <th></th>\n",
              "      <th></th>\n",
              "      <th></th>\n",
              "      <th></th>\n",
              "      <th></th>\n",
              "      <th></th>\n",
              "      <th></th>\n",
              "      <th></th>\n",
              "      <th></th>\n",
              "      <th></th>\n",
              "      <th></th>\n",
              "      <th></th>\n",
              "      <th></th>\n",
              "    </tr>\n",
              "  </thead>\n",
              "  <tbody>\n",
              "    <tr>\n",
              "      <th>1993-08-08</th>\n",
              "      <td>Brazil</td>\n",
              "      <td>Mexico</td>\n",
              "      <td>1</td>\n",
              "      <td>1</td>\n",
              "      <td>8</td>\n",
              "      <td>14.0</td>\n",
              "      <td>0.0</td>\n",
              "      <td>0.0</td>\n",
              "      <td>55</td>\n",
              "      <td>42.0</td>\n",
              "      <td>False</td>\n",
              "      <td>Friendly</td>\n",
              "      <td>Maceió</td>\n",
              "      <td>Brazil</td>\n",
              "      <td>1993</td>\n",
              "    </tr>\n",
              "    <tr>\n",
              "      <th>1993-08-08</th>\n",
              "      <td>Ecuador</td>\n",
              "      <td>Venezuela</td>\n",
              "      <td>5</td>\n",
              "      <td>0</td>\n",
              "      <td>35</td>\n",
              "      <td>94.0</td>\n",
              "      <td>0.0</td>\n",
              "      <td>0.0</td>\n",
              "      <td>23</td>\n",
              "      <td>4.0</td>\n",
              "      <td>False</td>\n",
              "      <td>FIFA World Cup qualification</td>\n",
              "      <td>Quito</td>\n",
              "      <td>Ecuador</td>\n",
              "      <td>1993</td>\n",
              "    </tr>\n",
              "    <tr>\n",
              "      <th>1993-08-08</th>\n",
              "      <td>Zimbabwe</td>\n",
              "      <td>Eswatini</td>\n",
              "      <td>2</td>\n",
              "      <td>0</td>\n",
              "      <td>50</td>\n",
              "      <td>NaN</td>\n",
              "      <td>0.0</td>\n",
              "      <td>NaN</td>\n",
              "      <td>27</td>\n",
              "      <td>NaN</td>\n",
              "      <td>False</td>\n",
              "      <td>Friendly</td>\n",
              "      <td>Harare</td>\n",
              "      <td>Zimbabwe</td>\n",
              "      <td>1993</td>\n",
              "    </tr>\n",
              "    <tr>\n",
              "      <th>1993-08-08</th>\n",
              "      <td>Bolivia</td>\n",
              "      <td>Uruguay</td>\n",
              "      <td>3</td>\n",
              "      <td>1</td>\n",
              "      <td>59</td>\n",
              "      <td>22.0</td>\n",
              "      <td>0.0</td>\n",
              "      <td>0.0</td>\n",
              "      <td>13</td>\n",
              "      <td>47.0</td>\n",
              "      <td>False</td>\n",
              "      <td>FIFA World Cup qualification</td>\n",
              "      <td>La Paz</td>\n",
              "      <td>Bolivia</td>\n",
              "      <td>1993</td>\n",
              "    </tr>\n",
              "    <tr>\n",
              "      <th>1993-08-08</th>\n",
              "      <td>Guinea</td>\n",
              "      <td>Sierra Leone</td>\n",
              "      <td>1</td>\n",
              "      <td>0</td>\n",
              "      <td>65</td>\n",
              "      <td>86.0</td>\n",
              "      <td>0.0</td>\n",
              "      <td>0.0</td>\n",
              "      <td>23</td>\n",
              "      <td>16.0</td>\n",
              "      <td>False</td>\n",
              "      <td>Friendly</td>\n",
              "      <td>Conakry</td>\n",
              "      <td>Guinea</td>\n",
              "      <td>1993</td>\n",
              "    </tr>\n",
              "  </tbody>\n",
              "</table>\n",
              "</div>"
            ],
            "text/plain": [
              "           home_team     away_team  home_score  ...     city   country  year\n",
              "date                                            ...                         \n",
              "1993-08-08    Brazil        Mexico           1  ...   Maceió    Brazil  1993\n",
              "1993-08-08   Ecuador     Venezuela           5  ...    Quito   Ecuador  1993\n",
              "1993-08-08  Zimbabwe      Eswatini           2  ...   Harare  Zimbabwe  1993\n",
              "1993-08-08   Bolivia       Uruguay           3  ...   La Paz   Bolivia  1993\n",
              "1993-08-08    Guinea  Sierra Leone           1  ...  Conakry    Guinea  1993\n",
              "\n",
              "[5 rows x 15 columns]"
            ]
          },
          "metadata": {
            "tags": []
          },
          "execution_count": 866
        }
      ]
    },
    {
      "cell_type": "markdown",
      "metadata": {
        "id": "Zew02I4I7qJD",
        "colab_type": "text"
      },
      "source": [
        "## External Data Source Validation "
      ]
    },
    {
      "cell_type": "code",
      "metadata": {
        "id": "WH8_a1mW7wxQ",
        "colab_type": "code",
        "colab": {
          "base_uri": "https://localhost:8080/",
          "height": 1000
        },
        "outputId": "45804ee1-7929-46f7-f9b9-bdb99f6c68da"
      },
      "source": [
        "print(new_data.mean())\n",
        "print(new_data.mode())\n",
        "print(new_data.median())\n",
        "print(new_data.var())\n",
        "print(new_data.std())\n"
      ],
      "execution_count": 906,
      "outputs": [
        {
          "output_type": "stream",
          "text": [
            "home_score                 1.632606\n",
            "away_score                 1.004592\n",
            "home rank                 65.549943\n",
            "away rank                 69.918485\n",
            "home_total_points         38.543123\n",
            "away_total_points         30.606923\n",
            "home_previous_points     464.027555\n",
            "away_previous_points     448.623421\n",
            "neutral                    0.158439\n",
            "tournament_type            1.058553\n",
            "year                    2004.789897\n",
            "score                      0.628014\n",
            "status                     1.222732\n",
            "dtype: float64\n",
            "  home_team  away_team  home_score  ...    year  score  status\n",
            "0    Mexico  Argentina         1.0  ...  2010.0    0.0     2.0\n",
            "1       NaN    Uruguay         NaN  ...     NaN    NaN     NaN\n",
            "2       NaN        NaN         NaN  ...     NaN    NaN     NaN\n",
            "\n",
            "[3 rows x 17 columns]\n",
            "home_score                 1.0\n",
            "away_score                 1.0\n",
            "home rank                 58.0\n",
            "away rank                 61.0\n",
            "home_total_points          0.0\n",
            "away_total_points          0.0\n",
            "home_previous_points     485.0\n",
            "away_previous_points     452.0\n",
            "neutral                    0.0\n",
            "tournament_type            1.0\n",
            "year                    2005.0\n",
            "score                      0.0\n",
            "status                     1.0\n",
            "dtype: float64\n",
            "home_score                  3.632683\n",
            "away_score                  1.333312\n",
            "home rank                2261.762733\n",
            "away rank                2550.012888\n",
            "home_total_points       25912.932092\n",
            "away_total_points       18154.201124\n",
            "home_previous_points    90925.465907\n",
            "away_previous_points    99761.945382\n",
            "neutral                     0.133489\n",
            "tournament_type             0.301165\n",
            "year                       29.223622\n",
            "score                       5.548824\n",
            "status                      0.692862\n",
            "dtype: float64\n",
            "home_score                1.905960\n",
            "away_score                1.154691\n",
            "home rank                47.557993\n",
            "away rank                50.497652\n",
            "home_total_points       160.974942\n",
            "away_total_points       134.737527\n",
            "home_previous_points    301.538498\n",
            "away_previous_points    315.851144\n",
            "neutral                   0.365362\n",
            "tournament_type           0.548785\n",
            "year                      5.405888\n",
            "score                     2.355594\n",
            "status                    0.832383\n",
            "dtype: float64\n"
          ],
          "name": "stdout"
        }
      ]
    },
    {
      "cell_type": "markdown",
      "metadata": {
        "id": "jjUJDhor3qty",
        "colab_type": "text"
      },
      "source": [
        "https://www.kaggle.com/martj42/international-football-results-from-1872-to-2017\n",
        "\n",
        "\n",
        "Data alost matches from this "
      ]
    },
    {
      "cell_type": "markdown",
      "metadata": {
        "id": "E9Zs9RSr7ym-",
        "colab_type": "text"
      },
      "source": [
        "##Tidying the dataset "
      ]
    },
    {
      "cell_type": "code",
      "metadata": {
        "id": "yY74RNVM7_g8",
        "colab_type": "code",
        "colab": {
          "base_uri": "https://localhost:8080/",
          "height": 0
        },
        "outputId": "00877133-e5e2-4ba3-916e-f0a8c1f9d5ef"
      },
      "source": [
        "#Detecting outliers\n",
        "\n",
        "# Checking for Outliers\n",
        "fig, ((ax1, ax2), (ax3, ax4) ) = plt.subplots(2,2, figsize=(14, 20))\n",
        "fig.suptitle('Boxplots')\n",
        "ax1.set_xlabel('xlabel',fontsize=14)\n",
        "ax2.set_xlabel('xlabel',fontsize=14)\n",
        "ax3.set_xlabel('xlabel',fontsize=14)\n",
        "ax4.set_xlabel('xlabel',fontsize=14)\n",
        "\n",
        "sns.boxplot(new_data['home_score'], ax=ax1)\n",
        "sns.boxplot(new_data['away_score'], ax=ax2)\n",
        "sns.boxplot(new_data['home rank'], ax=ax3)\n",
        "sns.boxplot(new_data['away rank'], ax=ax4)\n"
      ],
      "execution_count": 867,
      "outputs": [
        {
          "output_type": "execute_result",
          "data": {
            "text/plain": [
              "<matplotlib.axes._subplots.AxesSubplot at 0x7ff30fb497f0>"
            ]
          },
          "metadata": {
            "tags": []
          },
          "execution_count": 867
        },
        {
          "output_type": "display_data",
          "data": {
            "image/png": "[encoded data removed]",
            "text/plain": [
              "<Figure size 1008x1440 with 4 Axes>"
            ]
          },
          "metadata": {
            "tags": [],
            "needs_background": "light"
          }
        }
      ]
    },
    {
      "cell_type": "markdown",
      "metadata": {
        "id": "D2XmMbcFmGFz",
        "colab_type": "text"
      },
      "source": [
        "There seems to be minimal outliers "
      ]
    },
    {
      "cell_type": "code",
      "metadata": {
        "id": "lw_QOdY27_rs",
        "colab_type": "code",
        "colab": {
          "base_uri": "https://localhost:8080/",
          "height": 0
        },
        "outputId": "7aacb727-a2e5-4ee1-882b-0ab28cc83391"
      },
      "source": [
        "#Checking for Anomalies \n",
        "# Calculating our first, third quantiles and then later our IQR\n",
        "\n",
        "#\n",
        "Q1= new_data.quantile(0.25)\n",
        "Q3 =new_data.quantile(0.75)\n",
        "IQR = Q3-Q1\n",
        "print(Q1)\n",
        "print('----------------------------------------')\n",
        "print(Q3)\n",
        "print('----------------------------------------')\n",
        "print(IQR)"
      ],
      "execution_count": 868,
      "outputs": [
        {
          "output_type": "stream",
          "text": [
            "home_score                 0.0\n",
            "away_score                 0.0\n",
            "home rank                 27.0\n",
            "away rank                 28.0\n",
            "home_total_points          0.0\n",
            "away_total_points          0.0\n",
            "home_previous_points     218.0\n",
            "away_previous_points     172.5\n",
            "neutral                    0.0\n",
            "year                    2000.0\n",
            "Name: 0.25, dtype: float64\n",
            "----------------------------------------\n",
            "home_score                 2.0\n",
            "away_score                 2.0\n",
            "home rank                 97.0\n",
            "away rank                102.5\n",
            "home_total_points          0.0\n",
            "away_total_points          0.0\n",
            "home_previous_points     649.0\n",
            "away_previous_points     629.5\n",
            "neutral                    0.0\n",
            "year                    2010.0\n",
            "Name: 0.75, dtype: float64\n",
            "----------------------------------------\n",
            "home_score                2.0\n",
            "away_score                2.0\n",
            "home rank                70.0\n",
            "away rank                74.5\n",
            "home_total_points         0.0\n",
            "away_total_points         0.0\n",
            "home_previous_points    431.0\n",
            "away_previous_points    457.0\n",
            "neutral                   0.0\n",
            "year                     10.0\n",
            "dtype: float64\n"
          ],
          "name": "stdout"
        }
      ]
    },
    {
      "cell_type": "markdown",
      "metadata": {
        "id": "Emvn84K4mPF-",
        "colab_type": "text"
      },
      "source": [
        "No outrageous anomalies."
      ]
    },
    {
      "cell_type": "code",
      "metadata": {
        "id": "YI9ZesF57_vX",
        "colab_type": "code",
        "colab": {
          "base_uri": "https://localhost:8080/",
          "height": 0
        },
        "outputId": "39b74bc0-243f-4f2e-a7d9-47e50b96d659"
      },
      "source": [
        "# Checking for missing values \n",
        "new_data.isnull().sum()"
      ],
      "execution_count": 869,
      "outputs": [
        {
          "output_type": "execute_result",
          "data": {
            "text/plain": [
              "home_team                0\n",
              "away_team                0\n",
              "home_score               0\n",
              "away_score               0\n",
              "home rank                0\n",
              "away rank               86\n",
              "home_total_points        0\n",
              "away_total_points       86\n",
              "home_previous_points     0\n",
              "away_previous_points    86\n",
              "neutral                  0\n",
              "tournament_type          0\n",
              "city                     0\n",
              "country                  0\n",
              "year                     0\n",
              "dtype: int64"
            ]
          },
          "metadata": {
            "tags": []
          },
          "execution_count": 869
        }
      ]
    },
    {
      "cell_type": "code",
      "metadata": {
        "id": "bGGD_7177_zE",
        "colab_type": "code",
        "colab": {
          "base_uri": "https://localhost:8080/",
          "height": 0
        },
        "outputId": "a8ed484e-f3be-453a-ae94-416acc5a8433"
      },
      "source": [
        "#Dealing with missing data \n",
        "new_data = new_data.dropna(axis=0, how='any')\n",
        "new_data.isnull().sum()"
      ],
      "execution_count": 870,
      "outputs": [
        {
          "output_type": "execute_result",
          "data": {
            "text/plain": [
              "home_team               0\n",
              "away_team               0\n",
              "home_score              0\n",
              "away_score              0\n",
              "home rank               0\n",
              "away rank               0\n",
              "home_total_points       0\n",
              "away_total_points       0\n",
              "home_previous_points    0\n",
              "away_previous_points    0\n",
              "neutral                 0\n",
              "tournament_type         0\n",
              "city                    0\n",
              "country                 0\n",
              "year                    0\n",
              "dtype: int64"
            ]
          },
          "metadata": {
            "tags": []
          },
          "execution_count": 870
        }
      ]
    },
    {
      "cell_type": "markdown",
      "metadata": {
        "id": "7vGTGe8561ny",
        "colab_type": "text"
      },
      "source": [
        "##Feature Engineering "
      ]
    },
    {
      "cell_type": "code",
      "metadata": {
        "id": "i19JbGXx65jv",
        "colab_type": "code",
        "colab": {
          "base_uri": "https://localhost:8080/",
          "height": 0
        },
        "outputId": "5039a3f7-e46b-44d0-91d1-f93f050a6780"
      },
      "source": [
        "#Creating a scores- to show {home_score - away_score} and status column using bins and labels  to show if it is a win,loss and draw frome score column \n",
        "new_data['score'] = new_data['home_score']- new_data['away_score']\n",
        "print(new_data.score.unique())\n",
        "status =[-8, -1, 0,32]\n",
        "labels= ['L', 'D', 'W']\n",
        "new_data['status'] = pd.cut(new_data.score, bins=status , labels=labels,  include_lowest=True)\n",
        "print(new_data.status.unique())\n",
        "new_data.head()"
      ],
      "execution_count": 871,
      "outputs": [
        {
          "output_type": "stream",
          "text": [
            "[ 0  5  2  1 -2 -1  6 -4  3 -3  4  9 -5 31  8 11 -8  7 -6 -7 10 15]\n",
            "[D, W, L]\n",
            "Categories (3, object): [L < D < W]\n"
          ],
          "name": "stdout"
        },
        {
          "output_type": "execute_result",
          "data": {
            "text/html": [
              "<div>\n",
              "<style scoped>\n",
              "    .dataframe tbody tr th:only-of-type {\n",
              "        vertical-align: middle;\n",
              "    }\n",
              "\n",
              "    .dataframe tbody tr th {\n",
              "        vertical-align: top;\n",
              "    }\n",
              "\n",
              "    .dataframe thead th {\n",
              "        text-align: right;\n",
              "    }\n",
              "</style>\n",
              "<table border=\"1\" class=\"dataframe\">\n",
              "  <thead>\n",
              "    <tr style=\"text-align: right;\">\n",
              "      <th></th>\n",
              "      <th>home_team</th>\n",
              "      <th>away_team</th>\n",
              "      <th>home_score</th>\n",
              "      <th>away_score</th>\n",
              "      <th>home rank</th>\n",
              "      <th>away rank</th>\n",
              "      <th>home_total_points</th>\n",
              "      <th>away_total_points</th>\n",
              "      <th>home_previous_points</th>\n",
              "      <th>away_previous_points</th>\n",
              "      <th>neutral</th>\n",
              "      <th>tournament_type</th>\n",
              "      <th>city</th>\n",
              "      <th>country</th>\n",
              "      <th>year</th>\n",
              "      <th>score</th>\n",
              "      <th>status</th>\n",
              "    </tr>\n",
              "    <tr>\n",
              "      <th>date</th>\n",
              "      <th></th>\n",
              "      <th></th>\n",
              "      <th></th>\n",
              "      <th></th>\n",
              "      <th></th>\n",
              "      <th></th>\n",
              "      <th></th>\n",
              "      <th></th>\n",
              "      <th></th>\n",
              "      <th></th>\n",
              "      <th></th>\n",
              "      <th></th>\n",
              "      <th></th>\n",
              "      <th></th>\n",
              "      <th></th>\n",
              "      <th></th>\n",
              "      <th></th>\n",
              "    </tr>\n",
              "  </thead>\n",
              "  <tbody>\n",
              "    <tr>\n",
              "      <th>1993-08-08</th>\n",
              "      <td>Brazil</td>\n",
              "      <td>Mexico</td>\n",
              "      <td>1</td>\n",
              "      <td>1</td>\n",
              "      <td>8</td>\n",
              "      <td>14.0</td>\n",
              "      <td>0.0</td>\n",
              "      <td>0.0</td>\n",
              "      <td>55</td>\n",
              "      <td>42.0</td>\n",
              "      <td>False</td>\n",
              "      <td>Friendly</td>\n",
              "      <td>Maceió</td>\n",
              "      <td>Brazil</td>\n",
              "      <td>1993</td>\n",
              "      <td>0</td>\n",
              "      <td>D</td>\n",
              "    </tr>\n",
              "    <tr>\n",
              "      <th>1993-08-08</th>\n",
              "      <td>Ecuador</td>\n",
              "      <td>Venezuela</td>\n",
              "      <td>5</td>\n",
              "      <td>0</td>\n",
              "      <td>35</td>\n",
              "      <td>94.0</td>\n",
              "      <td>0.0</td>\n",
              "      <td>0.0</td>\n",
              "      <td>23</td>\n",
              "      <td>4.0</td>\n",
              "      <td>False</td>\n",
              "      <td>FIFA World Cup qualification</td>\n",
              "      <td>Quito</td>\n",
              "      <td>Ecuador</td>\n",
              "      <td>1993</td>\n",
              "      <td>5</td>\n",
              "      <td>W</td>\n",
              "    </tr>\n",
              "    <tr>\n",
              "      <th>1993-08-08</th>\n",
              "      <td>Bolivia</td>\n",
              "      <td>Uruguay</td>\n",
              "      <td>3</td>\n",
              "      <td>1</td>\n",
              "      <td>59</td>\n",
              "      <td>22.0</td>\n",
              "      <td>0.0</td>\n",
              "      <td>0.0</td>\n",
              "      <td>13</td>\n",
              "      <td>47.0</td>\n",
              "      <td>False</td>\n",
              "      <td>FIFA World Cup qualification</td>\n",
              "      <td>La Paz</td>\n",
              "      <td>Bolivia</td>\n",
              "      <td>1993</td>\n",
              "      <td>2</td>\n",
              "      <td>W</td>\n",
              "    </tr>\n",
              "    <tr>\n",
              "      <th>1993-08-08</th>\n",
              "      <td>Guinea</td>\n",
              "      <td>Sierra Leone</td>\n",
              "      <td>1</td>\n",
              "      <td>0</td>\n",
              "      <td>65</td>\n",
              "      <td>86.0</td>\n",
              "      <td>0.0</td>\n",
              "      <td>0.0</td>\n",
              "      <td>23</td>\n",
              "      <td>16.0</td>\n",
              "      <td>False</td>\n",
              "      <td>Friendly</td>\n",
              "      <td>Conakry</td>\n",
              "      <td>Guinea</td>\n",
              "      <td>1993</td>\n",
              "      <td>1</td>\n",
              "      <td>W</td>\n",
              "    </tr>\n",
              "    <tr>\n",
              "      <th>1993-08-08</th>\n",
              "      <td>Paraguay</td>\n",
              "      <td>Argentina</td>\n",
              "      <td>1</td>\n",
              "      <td>3</td>\n",
              "      <td>67</td>\n",
              "      <td>5.0</td>\n",
              "      <td>0.0</td>\n",
              "      <td>0.0</td>\n",
              "      <td>22</td>\n",
              "      <td>51.0</td>\n",
              "      <td>False</td>\n",
              "      <td>FIFA World Cup qualification</td>\n",
              "      <td>Asunción</td>\n",
              "      <td>Paraguay</td>\n",
              "      <td>1993</td>\n",
              "      <td>-2</td>\n",
              "      <td>L</td>\n",
              "    </tr>\n",
              "  </tbody>\n",
              "</table>\n",
              "</div>"
            ],
            "text/plain": [
              "           home_team     away_team  home_score  ...  year  score  status\n",
              "date                                            ...                     \n",
              "1993-08-08    Brazil        Mexico           1  ...  1993      0       D\n",
              "1993-08-08   Ecuador     Venezuela           5  ...  1993      5       W\n",
              "1993-08-08   Bolivia       Uruguay           3  ...  1993      2       W\n",
              "1993-08-08    Guinea  Sierra Leone           1  ...  1993      1       W\n",
              "1993-08-08  Paraguay     Argentina           1  ...  1993     -2       L\n",
              "\n",
              "[5 rows x 17 columns]"
            ]
          },
          "metadata": {
            "tags": []
          },
          "execution_count": 871
        }
      ]
    },
    {
      "cell_type": "code",
      "metadata": {
        "id": "mJQps7kM46dv",
        "colab_type": "code",
        "colab": {
          "base_uri": "https://localhost:8080/",
          "height": 0
        },
        "outputId": "671f99aa-3304-4c1b-b885-5587e4c53d1d"
      },
      "source": [
        "new_data.tournament_type.unique()"
      ],
      "execution_count": 872,
      "outputs": [
        {
          "output_type": "execute_result",
          "data": {
            "text/plain": [
              "array(['Friendly', 'FIFA World Cup qualification', 'Merdeka Tournament',\n",
              "       'South Pacific Games', 'African Cup of Nations',\n",
              "       'CFU Caribbean Cup qualification', 'Copa América',\n",
              "       'UEFA Euro qualification',\n",
              "       'United Arab Emirates Friendship Tournament', 'UNCAF Cup',\n",
              "       'Korea Cup', 'Gold Cup', 'AFC Asian Cup qualification', 'USA Cup',\n",
              "       'Millennium Cup', \"King's Cup\", 'CFU Caribbean Cup', 'Gulf Cup',\n",
              "       'Cyprus International Tournament',\n",
              "       'Malta International Tournament', 'AFF Championship', 'UAFA Cup',\n",
              "       'SAFF Cup', 'Gold Cup qualification', \"Prime Minister's Cup\",\n",
              "       'Confederations Cup', 'AFC Asian Cup', 'Nehru Cup', 'COSAFA Cup',\n",
              "       'CECAFA Cup', 'EAFF Championship',\n",
              "       'AFC Challenge Cup qualification',\n",
              "       'African Cup of Nations qualification', 'Copa del Pacífico',\n",
              "       'Oceania Nations Cup', 'African Nations Championship',\n",
              "       'Windward Islands Tournament', 'Intercontinental Cup'],\n",
              "      dtype=object)"
            ]
          },
          "metadata": {
            "tags": []
          },
          "execution_count": 872
        }
      ]
    },
    {
      "cell_type": "markdown",
      "metadata": {
        "id": "HfPOd222-olx",
        "colab_type": "text"
      },
      "source": [
        "Try and get the friendly, continental and international matches "
      ]
    },
    {
      "cell_type": "code",
      "metadata": {
        "id": "vqTmM3MG4Zf6",
        "colab_type": "code",
        "colab": {
          "base_uri": "https://localhost:8080/",
          "height": 0
        },
        "outputId": "3d8b0c4f-cbea-46bc-c26e-dbb493fd4473"
      },
      "source": [
        "new_data.tournament_type = new_data.tournament_type.replace({'FIFA World Cup qualification': 'International', 'Merdeka Tournament': 'Friendly', 'South Pacific Games': 'Continental', 'African Cup of Nations': 'Continental',\n",
        "                 'CFU Caribbean Cup qualification': 'Continental', 'Copa América': 'Friendly', 'South Pacific Games': 'Continental', 'UEFA Euro qualification': 'Continental',\n",
        "                 'UNCAF Cup': 'International', 'United Arab Emirates Friendship Tournament': 'Friendly', 'South Pacific Games': 'Continental', 'AFC Asian Cup qualification': 'Continental',\n",
        "                  'Gold Cup': 'International', 'Korea Cup': 'Friendly', 'AFF Championship' : 'Continental', 'AFC Asian Cup qualification': 'Continental',\n",
        "                 'Millennium Cup': 'International', 'USA Cup': 'Friendly', 'South Pacific Games': 'Continental', 'Gulf Cup': 'Continental',\n",
        "                 \"King's Cup\" : 'International', 'CFU Caribbean Cup': 'Friendly', 'South Pacific Games': 'Continental', 'UAFA Cup': 'Continental',\n",
        "                 'Intercontinental Cup':  'International',   'Cyprus International Tournament':   'International' ,'Malta International Tournament':  'International' ,\n",
        "                 'SAFF Cup': 'Friendly', 'Gold Cup qualification' : 'International', \"Prime Minister's Cup\": 'Friendly',\n",
        "                 'Confederations Cup': 'Continental', 'AFC Asian Cup' : 'Continental', 'Nehru Cup' : 'Friendly', 'COSAFA Cup' : 'Friendly',\n",
        "                 'CECAFA Cup' : 'Friendly', 'EAFF Championship' : 'Friendly',\n",
        "              'AFC Challenge Cup qualification' : 'Continental',\n",
        "            'African Cup of Nations qualification' : 'Continental', 'Copa del Pacífico' : 'Friendly',\n",
        "           'Oceania Nations Cup' : 'Continental', 'African Nations Championship' : 'Continental',\n",
        "           'Windward Islands Tournament' : 'Friendly', 'Intercontinental Cup' : 'International'})\n",
        "new_data.tournament_type.unique()"
      ],
      "execution_count": 873,
      "outputs": [
        {
          "output_type": "execute_result",
          "data": {
            "text/plain": [
              "array(['Friendly', 'International', 'Continental'], dtype=object)"
            ]
          },
          "metadata": {
            "tags": []
          },
          "execution_count": 873
        }
      ]
    },
    {
      "cell_type": "markdown",
      "metadata": {
        "id": "fTP44Un_684F",
        "colab_type": "text"
      },
      "source": [
        "## Exploratory Analysis "
      ]
    },
    {
      "cell_type": "code",
      "metadata": {
        "id": "DenxYg9i7Efv",
        "colab_type": "code",
        "colab": {
          "base_uri": "https://localhost:8080/",
          "height": 294
        },
        "outputId": "23b54597-429c-43b5-839a-8542296af7b7"
      },
      "source": [
        "#satatstistical analysis of daatset\n",
        "new_data.describe()"
      ],
      "execution_count": 874,
      "outputs": [
        {
          "output_type": "execute_result",
          "data": {
            "text/html": [
              "<div>\n",
              "<style scoped>\n",
              "    .dataframe tbody tr th:only-of-type {\n",
              "        vertical-align: middle;\n",
              "    }\n",
              "\n",
              "    .dataframe tbody tr th {\n",
              "        vertical-align: top;\n",
              "    }\n",
              "\n",
              "    .dataframe thead th {\n",
              "        text-align: right;\n",
              "    }\n",
              "</style>\n",
              "<table border=\"1\" class=\"dataframe\">\n",
              "  <thead>\n",
              "    <tr style=\"text-align: right;\">\n",
              "      <th></th>\n",
              "      <th>home_score</th>\n",
              "      <th>away_score</th>\n",
              "      <th>home rank</th>\n",
              "      <th>away rank</th>\n",
              "      <th>home_total_points</th>\n",
              "      <th>away_total_points</th>\n",
              "      <th>home_previous_points</th>\n",
              "      <th>away_previous_points</th>\n",
              "      <th>year</th>\n",
              "      <th>score</th>\n",
              "    </tr>\n",
              "  </thead>\n",
              "  <tbody>\n",
              "    <tr>\n",
              "      <th>count</th>\n",
              "      <td>871.000000</td>\n",
              "      <td>871.000000</td>\n",
              "      <td>871.000000</td>\n",
              "      <td>871.000000</td>\n",
              "      <td>871.000000</td>\n",
              "      <td>871.000000</td>\n",
              "      <td>871.000000</td>\n",
              "      <td>871.000000</td>\n",
              "      <td>871.000000</td>\n",
              "      <td>871.000000</td>\n",
              "    </tr>\n",
              "    <tr>\n",
              "      <th>mean</th>\n",
              "      <td>1.632606</td>\n",
              "      <td>1.004592</td>\n",
              "      <td>65.549943</td>\n",
              "      <td>69.918485</td>\n",
              "      <td>38.543123</td>\n",
              "      <td>30.606923</td>\n",
              "      <td>464.027555</td>\n",
              "      <td>448.623421</td>\n",
              "      <td>2004.789897</td>\n",
              "      <td>0.628014</td>\n",
              "    </tr>\n",
              "    <tr>\n",
              "      <th>std</th>\n",
              "      <td>1.905960</td>\n",
              "      <td>1.154691</td>\n",
              "      <td>47.557993</td>\n",
              "      <td>50.497652</td>\n",
              "      <td>160.974942</td>\n",
              "      <td>134.737527</td>\n",
              "      <td>301.538498</td>\n",
              "      <td>315.851144</td>\n",
              "      <td>5.405888</td>\n",
              "      <td>2.355594</td>\n",
              "    </tr>\n",
              "    <tr>\n",
              "      <th>min</th>\n",
              "      <td>0.000000</td>\n",
              "      <td>0.000000</td>\n",
              "      <td>1.000000</td>\n",
              "      <td>1.000000</td>\n",
              "      <td>0.000000</td>\n",
              "      <td>0.000000</td>\n",
              "      <td>0.000000</td>\n",
              "      <td>0.000000</td>\n",
              "      <td>1993.000000</td>\n",
              "      <td>-8.000000</td>\n",
              "    </tr>\n",
              "    <tr>\n",
              "      <th>25%</th>\n",
              "      <td>0.000000</td>\n",
              "      <td>0.000000</td>\n",
              "      <td>27.000000</td>\n",
              "      <td>28.000000</td>\n",
              "      <td>0.000000</td>\n",
              "      <td>0.000000</td>\n",
              "      <td>231.000000</td>\n",
              "      <td>172.500000</td>\n",
              "      <td>2000.000000</td>\n",
              "      <td>-1.000000</td>\n",
              "    </tr>\n",
              "    <tr>\n",
              "      <th>50%</th>\n",
              "      <td>1.000000</td>\n",
              "      <td>1.000000</td>\n",
              "      <td>58.000000</td>\n",
              "      <td>61.000000</td>\n",
              "      <td>0.000000</td>\n",
              "      <td>0.000000</td>\n",
              "      <td>485.000000</td>\n",
              "      <td>452.000000</td>\n",
              "      <td>2005.000000</td>\n",
              "      <td>0.000000</td>\n",
              "    </tr>\n",
              "    <tr>\n",
              "      <th>75%</th>\n",
              "      <td>2.000000</td>\n",
              "      <td>2.000000</td>\n",
              "      <td>95.000000</td>\n",
              "      <td>102.500000</td>\n",
              "      <td>0.000000</td>\n",
              "      <td>0.000000</td>\n",
              "      <td>652.000000</td>\n",
              "      <td>629.500000</td>\n",
              "      <td>2010.000000</td>\n",
              "      <td>2.000000</td>\n",
              "    </tr>\n",
              "    <tr>\n",
              "      <th>max</th>\n",
              "      <td>31.000000</td>\n",
              "      <td>9.000000</td>\n",
              "      <td>206.000000</td>\n",
              "      <td>209.000000</td>\n",
              "      <td>1273.690000</td>\n",
              "      <td>1181.430000</td>\n",
              "      <td>1683.000000</td>\n",
              "      <td>1883.000000</td>\n",
              "      <td>2018.000000</td>\n",
              "      <td>31.000000</td>\n",
              "    </tr>\n",
              "  </tbody>\n",
              "</table>\n",
              "</div>"
            ],
            "text/plain": [
              "       home_score  away_score  ...         year       score\n",
              "count  871.000000  871.000000  ...   871.000000  871.000000\n",
              "mean     1.632606    1.004592  ...  2004.789897    0.628014\n",
              "std      1.905960    1.154691  ...     5.405888    2.355594\n",
              "min      0.000000    0.000000  ...  1993.000000   -8.000000\n",
              "25%      0.000000    0.000000  ...  2000.000000   -1.000000\n",
              "50%      1.000000    1.000000  ...  2005.000000    0.000000\n",
              "75%      2.000000    2.000000  ...  2010.000000    2.000000\n",
              "max     31.000000    9.000000  ...  2018.000000   31.000000\n",
              "\n",
              "[8 rows x 10 columns]"
            ]
          },
          "metadata": {
            "tags": []
          },
          "execution_count": 874
        }
      ]
    },
    {
      "cell_type": "code",
      "metadata": {
        "id": "OH_6NcrA7Exs",
        "colab_type": "code",
        "colab": {
          "base_uri": "https://localhost:8080/",
          "height": 390
        },
        "outputId": "77f47311-1332-45a9-ca82-87d69b7c9d76"
      },
      "source": [
        "#Getting the number of goals per year\n",
        "goals = new_data.copy()\n",
        "goals['total_goals'] = goals.home_score + goals.away_score\n",
        "\n",
        "GB = goals.groupby([goals.year]).sum()\n",
        "GB.total_goals.plot(figsize=(10,5), linewidth=5, fontsize=20)\n",
        "plt.title('Number of goals per year', fontsize=20)\n",
        "plt.xlabel('year', fontsize=20);\n",
        "plt.legend()"
      ],
      "execution_count": 875,
      "outputs": [
        {
          "output_type": "execute_result",
          "data": {
            "text/plain": [
              "<matplotlib.legend.Legend at 0x7ff311a91c50>"
            ]
          },
          "metadata": {
            "tags": []
          },
          "execution_count": 875
        },
        {
          "output_type": "display_data",
          "data": {
            "image/png": "[encoded data removed]",
            "text/plain": [
              "<Figure size 720x360 with 1 Axes>"
            ]
          },
          "metadata": {
            "tags": [],
            "needs_background": "light"
          }
        }
      ]
    },
    {
      "cell_type": "markdown",
      "metadata": {
        "id": "ZN2ftY0dmmHX",
        "colab_type": "text"
      },
      "source": [
        "2010 seem to have recorded the highest number of goals "
      ]
    },
    {
      "cell_type": "code",
      "metadata": {
        "id": "zw-cb7E1_8TN",
        "colab_type": "code",
        "colab": {
          "base_uri": "https://localhost:8080/",
          "height": 493
        },
        "outputId": "ac0271a1-e08e-4d50-cc1d-e7756d166dc8"
      },
      "source": [
        "#Top 10 and Bottom 10 countries based on total goals scored over the years \n",
        "analysis = new_data.copy()\n",
        "home_scores= pd.DataFrame(analysis.groupby(analysis.home_team)['home_score'].sum())\n",
        "homes= home_scores.rename(columns= {\"home_team\" : \"team\"})\n",
        "away_scores= pd.DataFrame(analysis.groupby(analysis.away_team)['away_score'].sum())\n",
        "aways =away_scores.rename(columns= {\"away_team\" : \"team\"})\n",
        "# Merge two Dataframes on index of both the dataframes\n",
        "scores =homes.merge(aways,  left_index=True, right_index=True)\n",
        "scores['team'] = scores.index\n",
        "scores['goals'] = scores.home_score + scores.away_score\n",
        "score =scores.sort_values(by='goals', ascending=False)\n",
        "score.head()\n",
        "\n",
        "fig, ((ax1, ax2))= plt.subplots(1,2, figsize=(20, 7)) # \n",
        "sns.barplot(\"goals\",\"team\",data=score[:10],palette=\"pastel\",linewidth=1, ax=ax1)\n",
        "sns.barplot(\"goals\",\"team\",data=score[:-11:-1],palette=\"pastel\",linewidth=1, ax=ax2)\n",
        "\n",
        "fig.suptitle(\"Teams with highest and lowest goals in all of the seasons and years - Top 10 and Bottom 10\",color='b')\n",
        "plt.grid(True)\n",
        "plt.show()"
      ],
      "execution_count": 876,
      "outputs": [
        {
          "output_type": "display_data",
          "data": {
            "image/png": "[encoded data removed]",
            "text/plain": [
              "<Figure size 1440x504 with 2 Axes>"
            ]
          },
          "metadata": {
            "tags": [],
            "needs_background": "light"
          }
        }
      ]
    },
    {
      "cell_type": "code",
      "metadata": {
        "id": "gJnt7PYf7FEs",
        "colab_type": "code",
        "colab": {
          "base_uri": "https://localhost:8080/",
          "height": 662
        },
        "outputId": "848754e9-d56d-47bc-8796-76233c91e423"
      },
      "source": [
        "#Analysis of the homescore and away_scores over the years \n",
        "GB.home_score.plot(figsize=(20,10), linewidth=5, fontsize=20, color='lightcoral')\n",
        "GB.away_score.plot(figsize=(20,10), linewidth=5, fontsize=20, color='cyan')\n",
        "plt.title('Number of homescores and awayscores per year', fontsize=20)\n",
        "plt.xlabel('year', fontsize=20);\n",
        "plt.legend()"
      ],
      "execution_count": 877,
      "outputs": [
        {
          "output_type": "execute_result",
          "data": {
            "text/plain": [
              "<matplotlib.legend.Legend at 0x7ff30febecc0>"
            ]
          },
          "metadata": {
            "tags": []
          },
          "execution_count": 877
        },
        {
          "output_type": "display_data",
          "data": {
            "image/png": "[encoded data removed]",
            "text/plain": [
              "<Figure size 1440x720 with 1 Axes>"
            ]
          },
          "metadata": {
            "tags": [],
            "needs_background": "light"
          }
        }
      ]
    },
    {
      "cell_type": "code",
      "metadata": {
        "id": "fR-VAAMc7FHl",
        "colab_type": "code",
        "colab": {
          "base_uri": "https://localhost:8080/",
          "height": 294
        },
        "outputId": "cfd7f95d-aea4-401b-8bba-c700fe2d05ec"
      },
      "source": [
        "# Scatterplot of the homescore and away_colums columns\n",
        "plt.scatter(x=new_data['home_score'], y=new_data['away_score'], c='red')\n",
        "plt.title('Scatterplot of home score vs away_score')\n",
        "plt.xlabel('Home Scores')\n",
        "plt.ylabel('Away Scores')\n",
        "plt.show()"
      ],
      "execution_count": 878,
      "outputs": [
        {
          "output_type": "display_data",
          "data": {
            "image/png": "[encoded data removed]",
            "text/plain": [
              "<Figure size 432x288 with 1 Axes>"
            ]
          },
          "metadata": {
            "tags": [],
            "needs_background": "light"
          }
        }
      ]
    },
    {
      "cell_type": "code",
      "metadata": {
        "id": "1whU_eHaAex6",
        "colab_type": "code",
        "colab": {
          "base_uri": "https://localhost:8080/",
          "height": 272
        },
        "outputId": "f5dd82c5-c3e0-4e72-9761-ac99e721d216"
      },
      "source": [
        "#The percentage of wins,draws and loses over the year\n",
        "team_status = new_data[['home_score','status']]\n",
        "new_df = new_data.groupby('status')['home_score'].count()\n",
        "new_df =pd.DataFrame({'status':new_df.index, 'home_score':new_df.values})\n",
        "new_df\n",
        "homescore= new_df['home_score']\n",
        "thestatus = new_df['status']\n",
        "colors_list = ['cyan', 'yellow', 'lightcoral']\n",
        "plt.title(\"Percentage of wins, draws and loses\",\n",
        "     color = 'darkolivegreen', fontweight = 'bold', fontsize = '20')\n",
        "plt.pie(homescore, labels=thestatus, autopct='%1.1f%%', shadow=True, startangle=140, colors=colors_list)\n",
        "plt.axis('equal')\n",
        "plt.show()"
      ],
      "execution_count": 879,
      "outputs": [
        {
          "output_type": "display_data",
          "data": {
            "image/png": "[encoded data removed]",
            "text/plain": [
              "<Figure size 432x288 with 1 Axes>"
            ]
          },
          "metadata": {
            "tags": []
          }
        }
      ]
    },
    {
      "cell_type": "code",
      "metadata": {
        "id": "Rdkrb3EAqmDW",
        "colab_type": "code",
        "colab": {
          "base_uri": "https://localhost:8080/",
          "height": 624
        },
        "outputId": "29732a13-86f6-41b1-f0a6-a260b85412d3"
      },
      "source": [
        "#Which tournament was recorded most\n",
        "fig = plt.gcf()\n",
        "fig.set_size_inches(10,10)\n",
        "sns.countplot(new_data.tournament_type, color='pink',saturation=0.7)\n",
        "\n",
        "plt.xlabel('country')\n",
        "plt.ylabel('Count')\n"
      ],
      "execution_count": 880,
      "outputs": [
        {
          "output_type": "execute_result",
          "data": {
            "text/plain": [
              "Text(0, 0.5, 'Count')"
            ]
          },
          "metadata": {
            "tags": []
          },
          "execution_count": 880
        },
        {
          "output_type": "display_data",
          "data": {
            "image/png": "[encoded data removed]",
            "text/plain": [
              "<Figure size 720x720 with 1 Axes>"
            ]
          },
          "metadata": {
            "tags": [],
            "needs_background": "light"
          }
        }
      ]
    },
    {
      "cell_type": "code",
      "metadata": {
        "id": "i90_fcjI-cTm",
        "colab_type": "code",
        "colab": {
          "base_uri": "https://localhost:8080/",
          "height": 969
        },
        "outputId": "f5f209fc-ee30-4885-bdaf-5d2b4c4f4424"
      },
      "source": [
        "#correlation of each variable \n",
        "correlation_mat = new_data.corr()\n",
        "plt.figure(figsize=(15,15))\n",
        "sns.heatmap(correlation_mat,annot=True )\n",
        "plt.show()"
      ],
      "execution_count": 881,
      "outputs": [
        {
          "output_type": "display_data",
          "data": {
            "image/png": "[encoded data removed]",
            "text/plain": [
              "<Figure size 1080x1080 with 2 Axes>"
            ]
          },
          "metadata": {
            "tags": [],
            "needs_background": "light"
          }
        }
      ]
    },
    {
      "cell_type": "markdown",
      "metadata": {
        "id": "mKsNz_dK7Gm5",
        "colab_type": "text"
      },
      "source": [
        "## Implementing the solution "
      ]
    },
    {
      "cell_type": "code",
      "metadata": {
        "id": "VmyytiLx7Nel",
        "colab_type": "code",
        "colab": {
          "base_uri": "https://localhost:8080/",
          "height": 172
        },
        "outputId": "fb9571ee-4d5d-462f-a217-8232966474d6"
      },
      "source": [
        "#Detecting multi-colinearity \n",
        "# Remove the serial and admit chance columns, we want to focus on our independent variables only.\n",
        "independent_only = new_data.iloc[:,2:6]\n",
        "# Let's display the correlations between the variables\n",
        "correlations = independent_only.corr()\n",
        "correlations"
      ],
      "execution_count": 882,
      "outputs": [
        {
          "output_type": "execute_result",
          "data": {
            "text/html": [
              "<div>\n",
              "<style scoped>\n",
              "    .dataframe tbody tr th:only-of-type {\n",
              "        vertical-align: middle;\n",
              "    }\n",
              "\n",
              "    .dataframe tbody tr th {\n",
              "        vertical-align: top;\n",
              "    }\n",
              "\n",
              "    .dataframe thead th {\n",
              "        text-align: right;\n",
              "    }\n",
              "</style>\n",
              "<table border=\"1\" class=\"dataframe\">\n",
              "  <thead>\n",
              "    <tr style=\"text-align: right;\">\n",
              "      <th></th>\n",
              "      <th>home_score</th>\n",
              "      <th>away_score</th>\n",
              "      <th>home rank</th>\n",
              "      <th>away rank</th>\n",
              "    </tr>\n",
              "  </thead>\n",
              "  <tbody>\n",
              "    <tr>\n",
              "      <th>home_score</th>\n",
              "      <td>1.000000</td>\n",
              "      <td>-0.132413</td>\n",
              "      <td>-0.043381</td>\n",
              "      <td>0.309322</td>\n",
              "    </tr>\n",
              "    <tr>\n",
              "      <th>away_score</th>\n",
              "      <td>-0.132413</td>\n",
              "      <td>1.000000</td>\n",
              "      <td>0.143060</td>\n",
              "      <td>-0.151524</td>\n",
              "    </tr>\n",
              "    <tr>\n",
              "      <th>home rank</th>\n",
              "      <td>-0.043381</td>\n",
              "      <td>0.143060</td>\n",
              "      <td>1.000000</td>\n",
              "      <td>0.534618</td>\n",
              "    </tr>\n",
              "    <tr>\n",
              "      <th>away rank</th>\n",
              "      <td>0.309322</td>\n",
              "      <td>-0.151524</td>\n",
              "      <td>0.534618</td>\n",
              "      <td>1.000000</td>\n",
              "    </tr>\n",
              "  </tbody>\n",
              "</table>\n",
              "</div>"
            ],
            "text/plain": [
              "            home_score  away_score  home rank  away rank\n",
              "home_score    1.000000   -0.132413  -0.043381   0.309322\n",
              "away_score   -0.132413    1.000000   0.143060  -0.151524\n",
              "home rank    -0.043381    0.143060   1.000000   0.534618\n",
              "away rank     0.309322   -0.151524   0.534618   1.000000"
            ]
          },
          "metadata": {
            "tags": []
          },
          "execution_count": 882
        }
      ]
    },
    {
      "cell_type": "markdown",
      "metadata": {
        "id": "_rpcKEIuAZBd",
        "colab_type": "text"
      },
      "source": [
        "The tabe above shows us how each variable relates to another. The coefficient of 1 across the diagonal makes sense, as a variable is perfectly correlated to itself. Let's use these correlations to compute the VIF score for each variable. This will require a little bit of linear algebra, but the approach is straightforward: we create a new dataframe with the inverse of the matrix above."
      ]
    },
    {
      "cell_type": "code",
      "metadata": {
        "id": "anPQT3Nv7Njg",
        "colab_type": "code",
        "colab": {
          "base_uri": "https://localhost:8080/",
          "height": 172
        },
        "outputId": "beca52a2-2c16-4ac9-d9d0-30631d2a59ab"
      },
      "source": [
        "pd.DataFrame(np.linalg.inv(correlations.values), index = correlations.index, columns=correlations.columns)\n"
      ],
      "execution_count": 883,
      "outputs": [
        {
          "output_type": "execute_result",
          "data": {
            "text/html": [
              "<div>\n",
              "<style scoped>\n",
              "    .dataframe tbody tr th:only-of-type {\n",
              "        vertical-align: middle;\n",
              "    }\n",
              "\n",
              "    .dataframe tbody tr th {\n",
              "        vertical-align: top;\n",
              "    }\n",
              "\n",
              "    .dataframe thead th {\n",
              "        text-align: right;\n",
              "    }\n",
              "</style>\n",
              "<table border=\"1\" class=\"dataframe\">\n",
              "  <thead>\n",
              "    <tr style=\"text-align: right;\">\n",
              "      <th></th>\n",
              "      <th>home_score</th>\n",
              "      <th>away_score</th>\n",
              "      <th>home rank</th>\n",
              "      <th>away rank</th>\n",
              "    </tr>\n",
              "  </thead>\n",
              "  <tbody>\n",
              "    <tr>\n",
              "      <th>home_score</th>\n",
              "      <td>1.186436</td>\n",
              "      <td>0.026235</td>\n",
              "      <td>0.338555</td>\n",
              "      <td>-0.544013</td>\n",
              "    </tr>\n",
              "    <tr>\n",
              "      <th>away_score</th>\n",
              "      <td>0.026235</td>\n",
              "      <td>1.103430</td>\n",
              "      <td>-0.338521</td>\n",
              "      <td>0.340060</td>\n",
              "    </tr>\n",
              "    <tr>\n",
              "      <th>home rank</th>\n",
              "      <td>0.338555</td>\n",
              "      <td>-0.338521</td>\n",
              "      <td>1.605364</td>\n",
              "      <td>-1.014273</td>\n",
              "    </tr>\n",
              "    <tr>\n",
              "      <th>away rank</th>\n",
              "      <td>-0.544013</td>\n",
              "      <td>0.340060</td>\n",
              "      <td>-1.014273</td>\n",
              "      <td>1.762051</td>\n",
              "    </tr>\n",
              "  </tbody>\n",
              "</table>\n",
              "</div>"
            ],
            "text/plain": [
              "            home_score  away_score  home rank  away rank\n",
              "home_score    1.186436    0.026235   0.338555  -0.544013\n",
              "away_score    0.026235    1.103430  -0.338521   0.340060\n",
              "home rank     0.338555   -0.338521   1.605364  -1.014273\n",
              "away rank    -0.544013    0.340060  -1.014273   1.762051"
            ]
          },
          "metadata": {
            "tags": []
          },
          "execution_count": 883
        }
      ]
    },
    {
      "cell_type": "markdown",
      "metadata": {
        "id": "RJNNRDiYAcNs",
        "colab_type": "text"
      },
      "source": [
        "Interpreting the table is straightforward: The VIF score for each variable is found alongside the downwards sloping diagonal. home_score has a score of 1.89, away_score has a score of 1.10, home_rank a score of 1.62 and away rank has a score of 1.8\n",
        "\n",
        "There is none nearing 5 hence no multi-colinearity detected between the independent variables "
      ]
    },
    {
      "cell_type": "markdown",
      "metadata": {
        "id": "rubsESJUntx0",
        "colab_type": "text"
      },
      "source": [
        "**Polynomial approach**"
      ]
    },
    {
      "cell_type": "markdown",
      "metadata": {
        "id": "1ShNqCj4w2fl",
        "colab_type": "text"
      },
      "source": [
        "**Model 1 **\n",
        "\n",
        "Do a home_score prediction given rank of home team "
      ]
    },
    {
      "cell_type": "code",
      "metadata": {
        "id": "jzieZg2inzMP",
        "colab_type": "code",
        "colab": {
          "base_uri": "https://localhost:8080/",
          "height": 574
        },
        "outputId": "fc915ee0-5af7-4dd3-90e6-38e53761d7f5"
      },
      "source": [
        "# X= Rank of home team \n",
        "# Y = Home_score \n",
        "X = new_data.iloc[:, 4].values\n",
        "y = new_data.iloc[:, 2].values \n",
        "X = np.reshape(X, (-1,1))\n",
        "# Split the dataset into train and test sets\n",
        "X_train, Y_train, X_test, Y_test = train_test_split(X,y, test_size = 0.2, random_state=0)\n",
        "\n",
        "\n",
        "# Fit Linear Regression model to the dataset(this is optional. We are doing this for the sole purpose of comparing the linear regression model to the polynomial regression model)\n",
        "reg_line = LinearRegression()\n",
        "reg_line.fit(X,y)\n",
        "\n",
        "# Visualize the Linear Regression results\n",
        "plt.scatter(X, y, color='blue') # You can put any color you like. This just helps us highlight the data points\n",
        "plt.plot(X, reg_line.predict(X), color='red')\n",
        "plt.title('Home_score Prediction(Linear Regression)')\n",
        "plt.xlabel('home_rank')\n",
        "plt.ylabel('home_score')\n",
        "plt.show()\n",
        "\n",
        "\n",
        "# Fit polynomial Regression to the dataset\n",
        "poly_reg = PolynomialFeatures(degree = 15) \n",
        "X_poly = poly_reg.fit_transform(X)\n",
        "\n",
        "\n",
        "pol_reg = LinearRegression()\n",
        "pol_reg.fit(X_poly, y)\n",
        "\n",
        "#Visualize the Polynomial Regression results\n",
        "plt.scatter(X, y, color='blue') # You can put any color you like. This just helps us highlight the data points\n",
        "plt.plot(X, pol_reg.predict(X_poly), color='red')\n",
        "plt.title('Home score Prediction (Polynomial Regression)')\n",
        "plt.xlabel('home rank')\n",
        "plt.ylabel('Hom_score')\n",
        "plt.show()\n",
        "  \n",
        "plt.show() "
      ],
      "execution_count": 885,
      "outputs": [
        {
          "output_type": "display_data",
          "data": {
            "image/png": "[encoded data removed]",
            "text/plain": [
              "<Figure size 432x288 with 1 Axes>"
            ]
          },
          "metadata": {
            "tags": [],
            "needs_background": "light"
          }
        },
        {
          "output_type": "display_data",
          "data": {
            "image/png": "[encoded data removed]",
            "text/plain": [
              "<Figure size 432x288 with 1 Axes>"
            ]
          },
          "metadata": {
            "tags": [],
            "needs_background": "light"
          }
        }
      ]
    },
    {
      "cell_type": "markdown",
      "metadata": {
        "id": "KJlPzNdA0C7C",
        "colab_type": "text"
      },
      "source": [
        "Polynomial touches more values than linear hence might be more accurate in predicting. Also there is no overfitting in polynomial "
      ]
    },
    {
      "cell_type": "code",
      "metadata": {
        "id": "BOV7tRYebDoz",
        "colab_type": "code",
        "colab": {
          "base_uri": "https://localhost:8080/",
          "height": 104
        },
        "outputId": "2f3e17c7-181f-42e8-9101-fb988f0a8b9f"
      },
      "source": [
        "#display the intercept / bias\n",
        "print(pol_reg.intercept_)\n",
        "\n",
        "#display the coefficient\n",
        "print(pol_reg.coef_)"
      ],
      "execution_count": 886,
      "outputs": [
        {
          "output_type": "stream",
          "text": [
            "1.7039879269220535\n",
            "[ 0.00000000e+00 -1.13707891e-25  1.49765660e-29 -2.39293421e-32\n",
            " -6.33867880e-35 -6.05166548e-33 -5.73336004e-31 -5.07278744e-29\n",
            " -4.07815879e-27 -2.83735775e-25 -1.54980128e-23 -5.12397372e-22\n",
            "  1.17528101e-23 -1.00392001e-25  3.78598916e-28 -5.32004425e-31]\n"
          ],
          "name": "stdout"
        }
      ]
    },
    {
      "cell_type": "markdown",
      "metadata": {
        "id": "YYzZJVRJ1GsA",
        "colab_type": "text"
      },
      "source": [
        "coefficients are the values that multiply the predictor values in a model \n",
        "In our case we haave 15values as our degrees were also 15\n",
        "\n",
        "is the expected mean value of dependent variable when all  dependent variables=0"
      ]
    },
    {
      "cell_type": "code",
      "metadata": {
        "id": "Ydific2rZ9gg",
        "colab_type": "code",
        "colab": {
          "base_uri": "https://localhost:8080/",
          "height": 86
        },
        "outputId": "75fd896d-9842-4d6a-8835-e425c349a335"
      },
      "source": [
        "\n",
        "# View the metrics\n",
        "from sklearn import metrics\n",
        "\n",
        "#MAE\n",
        "print(metrics.mean_absolute_error(y_test, y_predict))\n",
        "#RMSE\n",
        "print(np.sqrt(metrics.mean_squared_error(y_test, y_predict)))\n",
        "\n",
        "# Predict using Polynomial Regression\n",
        "poly_pred = pol_reg.predict(poly_reg.fit_transform([[10.10]]))\n",
        "print('Polynomial prediction: %d' %poly_pred)\n",
        "\n",
        "#how well does my model fit \n",
        "from sklearn.metrics import r2_score\n",
        "print(r2_score(y_test, y_predict))\n"
      ],
      "execution_count": 887,
      "outputs": [
        {
          "output_type": "stream",
          "text": [
            "0.6674311926605505\n",
            "1.0327215314245608\n",
            "Polynomial prediction: 1\n",
            "-0.5499644503566432\n"
          ],
          "name": "stdout"
        }
      ]
    },
    {
      "cell_type": "markdown",
      "metadata": {
        "id": "AgE8fvxjfAqP",
        "colab_type": "text"
      },
      "source": [
        "Lower values of RMSE indicate better fit.\n",
        "\n",
        "However the RMSE is higher than 10%  of home_score total mean meaning the prediction is not the best.\n",
        "\n",
        "The result -0.54 shows Negative R-squared  which is often encountered when you test a model (that has high bias and/or high variance)\n"
      ]
    },
    {
      "cell_type": "markdown",
      "metadata": {
        "id": "8IvTAAfSkswc",
        "colab_type": "text"
      },
      "source": [
        "**Model 2 **\n",
        "\n",
        "Do a away_score prediction given rank of home team "
      ]
    },
    {
      "cell_type": "markdown",
      "metadata": {
        "id": "Q0MO_SUPk1Fb",
        "colab_type": "text"
      },
      "source": [
        "Rank of home teams"
      ]
    },
    {
      "cell_type": "code",
      "metadata": {
        "id": "YYtKwxjeny1S",
        "colab_type": "code",
        "colab": {
          "base_uri": "https://localhost:8080/",
          "height": 574
        },
        "outputId": "45d0a4d6-ef17-4654-cf68-d0555165ed82"
      },
      "source": [
        "# X= Rank of home team \n",
        "# Y = away_score\n",
        "\n",
        "X = new_data.iloc[:, 4].values\n",
        "y = new_data.iloc[:, 3].values \n",
        "X = np.reshape(X, (-1,1))\n",
        "# Split the dataset into train and test sets\n",
        "X_train, Y_train, X_test, Y_test = train_test_split(X,y, test_size = 0.2, random_state=0)\n",
        "\n",
        "\n",
        "# Fit Linear Regression model to the dataset(this is optional. We are doing this for the sole purpose of comparing the linear regression model to the polynomial regression model)\n",
        "reg_line = LinearRegression()\n",
        "reg_line.fit(X,y)\n",
        "\n",
        "# Visualize the Linear Regression results\n",
        "plt.scatter(X, y, color='blue') # You can put any color you like. This just helps us highlight the data points\n",
        "plt.plot(X, reg_line.predict(X), color='red')\n",
        "plt.title('Home_score Prediction(Linear Regression)')\n",
        "plt.xlabel('home_rank')\n",
        "plt.ylabel('home_score')\n",
        "plt.show()\n",
        "\n",
        "\n",
        "# Fit polynomial Regression to the dataset\n",
        "poly_reg = PolynomialFeatures(degree = 2) \n",
        "X_poly = poly_reg.fit_transform(X)\n",
        "\n",
        "\n",
        "pol_reg = LinearRegression()\n",
        "pol_reg.fit(X_poly, y)\n",
        "\n",
        "#Visualize the Polynomial Regression results\n",
        "plt.scatter(X, y, color='blue') # You can put any color you like. This just helps us highlight the data points\n",
        "plt.plot(X, pol_reg.predict(X_poly), color='red')\n",
        "plt.title('Home score Prediction (Polynomial Regression)')\n",
        "plt.xlabel('home rank')\n",
        "plt.ylabel('Hom_score')\n",
        "plt.show()\n",
        "  \n",
        "plt.show() "
      ],
      "execution_count": 888,
      "outputs": [
        {
          "output_type": "display_data",
          "data": {
            "image/png": "[encoded data removed]",
            "text/plain": [
              "<Figure size 432x288 with 1 Axes>"
            ]
          },
          "metadata": {
            "tags": [],
            "needs_background": "light"
          }
        },
        {
          "output_type": "display_data",
          "data": {
            "image/png": "[encoded data removed]",
            "text/plain": [
              "<Figure size 432x288 with 1 Axes>"
            ]
          },
          "metadata": {
            "tags": [],
            "needs_background": "light"
          }
        }
      ]
    },
    {
      "cell_type": "markdown",
      "metadata": {
        "id": "VwIR4AX02Bpz",
        "colab_type": "text"
      },
      "source": [
        "Polynomial touches more values than linear hence might be more accurate in predicting. Also there is no overfitting in polynomial "
      ]
    },
    {
      "cell_type": "code",
      "metadata": {
        "id": "GPhgVWjOkSBu",
        "colab_type": "code",
        "colab": {
          "base_uri": "https://localhost:8080/",
          "height": 52
        },
        "outputId": "45de0a0f-35b8-472a-946f-63e0ebb2bae6"
      },
      "source": [
        "#display the intercept / bias\n",
        "print(pol_reg.intercept_)\n",
        "\n",
        "#display the coefficient\n",
        "print(pol_reg.coef_)"
      ],
      "execution_count": 889,
      "outputs": [
        {
          "output_type": "stream",
          "text": [
            "0.9162694362302793\n",
            "[ 0.00000000e+00 -1.83485604e-03  3.18180196e-05]\n"
          ],
          "name": "stdout"
        }
      ]
    },
    {
      "cell_type": "markdown",
      "metadata": {
        "id": "2k6IKvUh2J0Y",
        "colab_type": "text"
      },
      "source": [
        "coefficients are the values that multiply the predictor values in a model \n",
        "In our case we haave 3values as our degrees were also 3\n",
        "\n",
        "is the expected mean value of dependent variable when all  dependent variables=0"
      ]
    },
    {
      "cell_type": "code",
      "metadata": {
        "id": "nFTm2-AQka7B",
        "colab_type": "code",
        "colab": {
          "base_uri": "https://localhost:8080/",
          "height": 86
        },
        "outputId": "2a2e63f8-d2ba-4b3b-fc9a-9215739ff7f5"
      },
      "source": [
        "\n",
        "# View the metrics\n",
        "from sklearn import metrics\n",
        "\n",
        "#MAE\n",
        "print(metrics.mean_absolute_error(y_test, y_predict))\n",
        "#RMSE\n",
        "print(np.sqrt(metrics.mean_squared_error(y_test, y_predict)))\n",
        "\n",
        "# Predict using Polynomial Regression\n",
        "poly_pred = pol_reg.predict(poly_reg.fit_transform([[10.10]]))\n",
        "print('Polynomial prediction: %d' %poly_pred)\n",
        "\n",
        "#how well does my model fit \n",
        "from sklearn.metrics import r2_score\n",
        "print(r2_score(y_test, y_predict))\n"
      ],
      "execution_count": 890,
      "outputs": [
        {
          "output_type": "stream",
          "text": [
            "0.6674311926605505\n",
            "1.0327215314245608\n",
            "Polynomial prediction: 0\n",
            "-0.5499644503566432\n"
          ],
          "name": "stdout"
        }
      ]
    },
    {
      "cell_type": "markdown",
      "metadata": {
        "id": "arQz-dIhlSrL",
        "colab_type": "text"
      },
      "source": [
        "Lower values of RMSE indicate better fit pf prediction.\n",
        "\n",
        "However the RMSE is higher than 10%  of home_score total mean meaning the prediction is not the best.\n",
        "\n",
        "The result -0.54 shows Negative R-squared  which is often encountered when you test a model (that has high bias and/or high variance)\n",
        "\n"
      ]
    },
    {
      "cell_type": "markdown",
      "metadata": {
        "id": "cc2wVSvuME7m",
        "colab_type": "text"
      },
      "source": [
        "**Logistic Approach**"
      ]
    },
    {
      "cell_type": "code",
      "metadata": {
        "id": "pmma8rSR7Nm4",
        "colab_type": "code",
        "colab": {}
      },
      "source": [
        "#Checking for any correlation between variables \n",
        "\n",
        "# Encode labels in column 'status' and 'neutral\n",
        "new_data['status']= label_encoder.fit_transform(new_data['status']) \n",
        "new_data['neutral']= label_encoder.fit_transform(new_data['neutral']) \n",
        "new_data['tournament_type']= label_encoder.fit_transform(new_data['tournament_type']) \n",
        " "
      ],
      "execution_count": 891,
      "outputs": []
    },
    {
      "cell_type": "code",
      "metadata": {
        "id": "FdRPoHRiYo9h",
        "colab_type": "code",
        "colab": {
          "base_uri": "https://localhost:8080/",
          "height": 202
        },
        "outputId": "b2a0b24b-595b-45cf-9846-86f0f645b361"
      },
      "source": [
        "#Detecting correlations\n",
        "# Remove the serial and admit chance columns, we want to focus on our independent variables only.\n",
        "independent_only1 = new_data[['home_score','home_total_points', 'away_previous_points', 'tournament_type','neutral']] \n",
        "# Let's display the correlations between the variables\n",
        "correlations1 = independent_only1.corr()\n",
        "correlations1"
      ],
      "execution_count": 892,
      "outputs": [
        {
          "output_type": "execute_result",
          "data": {
            "text/html": [
              "<div>\n",
              "<style scoped>\n",
              "    .dataframe tbody tr th:only-of-type {\n",
              "        vertical-align: middle;\n",
              "    }\n",
              "\n",
              "    .dataframe tbody tr th {\n",
              "        vertical-align: top;\n",
              "    }\n",
              "\n",
              "    .dataframe thead th {\n",
              "        text-align: right;\n",
              "    }\n",
              "</style>\n",
              "<table border=\"1\" class=\"dataframe\">\n",
              "  <thead>\n",
              "    <tr style=\"text-align: right;\">\n",
              "      <th></th>\n",
              "      <th>home_score</th>\n",
              "      <th>home_total_points</th>\n",
              "      <th>away_previous_points</th>\n",
              "      <th>tournament_type</th>\n",
              "      <th>neutral</th>\n",
              "    </tr>\n",
              "  </thead>\n",
              "  <tbody>\n",
              "    <tr>\n",
              "      <th>home_score</th>\n",
              "      <td>1.000000</td>\n",
              "      <td>0.060914</td>\n",
              "      <td>-0.200664</td>\n",
              "      <td>0.128284</td>\n",
              "      <td>0.001156</td>\n",
              "    </tr>\n",
              "    <tr>\n",
              "      <th>home_total_points</th>\n",
              "      <td>0.060914</td>\n",
              "      <td>1.000000</td>\n",
              "      <td>0.015851</td>\n",
              "      <td>-0.063070</td>\n",
              "      <td>0.020065</td>\n",
              "    </tr>\n",
              "    <tr>\n",
              "      <th>away_previous_points</th>\n",
              "      <td>-0.200664</td>\n",
              "      <td>0.015851</td>\n",
              "      <td>1.000000</td>\n",
              "      <td>-0.039481</td>\n",
              "      <td>0.001105</td>\n",
              "    </tr>\n",
              "    <tr>\n",
              "      <th>tournament_type</th>\n",
              "      <td>0.128284</td>\n",
              "      <td>-0.063070</td>\n",
              "      <td>-0.039481</td>\n",
              "      <td>1.000000</td>\n",
              "      <td>-0.011926</td>\n",
              "    </tr>\n",
              "    <tr>\n",
              "      <th>neutral</th>\n",
              "      <td>0.001156</td>\n",
              "      <td>0.020065</td>\n",
              "      <td>0.001105</td>\n",
              "      <td>-0.011926</td>\n",
              "      <td>1.000000</td>\n",
              "    </tr>\n",
              "  </tbody>\n",
              "</table>\n",
              "</div>"
            ],
            "text/plain": [
              "                      home_score  home_total_points  ...  tournament_type   neutral\n",
              "home_score              1.000000           0.060914  ...         0.128284  0.001156\n",
              "home_total_points       0.060914           1.000000  ...        -0.063070  0.020065\n",
              "away_previous_points   -0.200664           0.015851  ...        -0.039481  0.001105\n",
              "tournament_type         0.128284          -0.063070  ...         1.000000 -0.011926\n",
              "neutral                 0.001156           0.020065  ...        -0.011926  1.000000\n",
              "\n",
              "[5 rows x 5 columns]"
            ]
          },
          "metadata": {
            "tags": []
          },
          "execution_count": 892
        }
      ]
    },
    {
      "cell_type": "code",
      "metadata": {
        "id": "1QpJsrcN7NuK",
        "colab_type": "code",
        "colab": {}
      },
      "source": [
        "\n",
        "from sklearn.preprocessing import StandardScaler\n",
        "X = (independent_only1.values)\n",
        "y = new_data['status']\n",
        "X = StandardScaler().fit_transform(X)\n",
        "from sklearn.model_selection import train_test_split\n",
        "\n",
        "X_train, X_test, y_train, y_test = train_test_split(X, y, test_size = .5, random_state=25)"
      ],
      "execution_count": 893,
      "outputs": []
    },
    {
      "cell_type": "code",
      "metadata": {
        "id": "NL1fP4GqNjAj",
        "colab_type": "code",
        "colab": {
          "base_uri": "https://localhost:8080/",
          "height": 104
        },
        "outputId": "9f297e4a-a3ed-4151-e688-c03857cf8947"
      },
      "source": [
        "# Fitting our model\n",
        "# \n",
        "from sklearn.linear_model import LogisticRegression\n",
        "\n",
        "LogReg = LogisticRegression()\n",
        "LogReg.fit(X_train, y_train)\n"
      ],
      "execution_count": 894,
      "outputs": [
        {
          "output_type": "execute_result",
          "data": {
            "text/plain": [
              "LogisticRegression(C=1.0, class_weight=None, dual=False, fit_intercept=True,\n",
              "                   intercept_scaling=1, l1_ratio=None, max_iter=100,\n",
              "                   multi_class='auto', n_jobs=None, penalty='l2',\n",
              "                   random_state=None, solver='lbfgs', tol=0.0001, verbose=0,\n",
              "                   warm_start=False)"
            ]
          },
          "metadata": {
            "tags": []
          },
          "execution_count": 894
        }
      ]
    },
    {
      "cell_type": "code",
      "metadata": {
        "id": "58-aBdse7N3G",
        "colab_type": "code",
        "colab": {}
      },
      "source": [
        "# Using our model to make a prediction\n",
        "#\n",
        "y_pred = LogReg.predict(X_test)"
      ],
      "execution_count": 895,
      "outputs": []
    },
    {
      "cell_type": "code",
      "metadata": {
        "id": "4nhqY9Y77N-g",
        "colab_type": "code",
        "colab": {
          "base_uri": "https://localhost:8080/",
          "height": 69
        },
        "outputId": "af3dc7a4-21ba-4980-af78-9e3cfdc0ea1d"
      },
      "source": [
        "# Evaluating the model\n",
        "#\n",
        "from sklearn.metrics import confusion_matrix\n",
        "confusion_matrix = confusion_matrix(y_test, y_pred)\n",
        "confusion_matrix"
      ],
      "execution_count": 896,
      "outputs": [
        {
          "output_type": "execute_result",
          "data": {
            "text/plain": [
              "array([[ 36,  45,  33],\n",
              "       [ 27,  70,  20],\n",
              "       [ 23,   2, 180]])"
            ]
          },
          "metadata": {
            "tags": []
          },
          "execution_count": 896
        }
      ]
    },
    {
      "cell_type": "code",
      "metadata": {
        "id": "Gt9HLVXD7OHV",
        "colab_type": "code",
        "colab": {
          "base_uri": "https://localhost:8080/",
          "height": 34
        },
        "outputId": "56571822-aeb8-40ea-b52b-4dcef68a20de"
      },
      "source": [
        "# sklearn accuracy score\n",
        "print('Accuracy of logistic regression classifier on test set: {:.2f}'.format(LogReg.score(X_test, y_test)))"
      ],
      "execution_count": 897,
      "outputs": [
        {
          "output_type": "stream",
          "text": [
            "Accuracy of logistic regression classifier on test set: 0.66\n"
          ],
          "name": "stdout"
        }
      ]
    },
    {
      "cell_type": "code",
      "metadata": {
        "id": "mbTSnbc1kK6w",
        "colab_type": "code",
        "colab": {
          "base_uri": "https://localhost:8080/",
          "height": 278
        },
        "outputId": "47954648-32b8-4b03-96af-729559148f06"
      },
      "source": [
        "#residual plot \n",
        "import matplotlib.pyplot as plt\n",
        "residuals = np.subtract(y_pred, y_test)\n",
        "plt.scatter(y_pred, residuals, color='black')\n",
        "plt.ylabel('residual')\n",
        "plt.xlabel('fitted values')\n",
        "plt.axhline(y= residuals.mean(), color='red', linewidth=1)\n",
        "plt.show()"
      ],
      "execution_count": 898,
      "outputs": [
        {
          "output_type": "display_data",
          "data": {
            "image/png": "[encoded data removed]",
            "text/plain": [
              "<Figure size 432x288 with 1 Axes>"
            ]
          },
          "metadata": {
            "tags": [],
            "needs_background": "light"
          }
        }
      ]
    },
    {
      "cell_type": "markdown",
      "metadata": {
        "id": "rk_nojcofSRk",
        "colab_type": "text"
      },
      "source": [
        "Using 'home_total_points', 'away_previous_points', 'tournament_type' , 'home_score' and 'neutral', the model  has 66% accuracy of predicting the status of the game. This is a fairly okay model for prediction. \n",
        "\n",
        "The mean is on close to 0 indicating also it is fairly correct \n",
        "\n",
        "This residual plot shows that there is no overfitting and underfitting of data "
      ]
    },
    {
      "cell_type": "code",
      "metadata": {
        "id": "PCgT5UtElPRM",
        "colab_type": "code",
        "colab": {
          "base_uri": "https://localhost:8080/",
          "height": 52
        },
        "outputId": "23d2b392-813c-49eb-cbe6-8267748791dc"
      },
      "source": [
        "#Checking for heteroskedascicity of model \n",
        "import scipy as sp\n",
        "\n",
        "test_result, p_value = sp.stats.bartlett(y_pred, residuals)\n",
        "\n",
        "# To interpret the results we must also compute a critical value of the chi squared distribution\n",
        "degree_of_freedom = len(y_pred)-1\n",
        "probability = 1 - p_value\n",
        "\n",
        "critical_value = sp.stats.chi2.ppf(probability, degree_of_freedom)\n",
        "print(critical_value)\n",
        "\n",
        "# If the test_result is greater than the critical value, then we reject our null\n",
        "# hypothesis. This would mean that there are patterns to the variance of the data\n",
        "\n",
        "# Otherwise, we can identify no patterns, and we accept the null hypothesis that \n",
        "# the variance is homogeneous across our data\n",
        "\n",
        "if (test_result > critical_value):\n",
        "  print('the variances are unequal, and the model should be reassessed')\n",
        "else:\n",
        "  print('the variances are homogeneous!')"
      ],
      "execution_count": 899,
      "outputs": [
        {
          "output_type": "stream",
          "text": [
            "467.4091559310991\n",
            "the variances are homogeneous!\n"
          ],
          "name": "stdout"
        }
      ]
    },
    {
      "cell_type": "markdown",
      "metadata": {
        "id": "GSBDKUiGlaPy",
        "colab_type": "text"
      },
      "source": [
        "No heteroskedasticity of the data \n",
        "\n",
        "Heteroscedasticity makes coefficient estimates less precise. Lower precision increases the likelihood that the coefficient estimates are further from the correct population value."
      ]
    },
    {
      "cell_type": "markdown",
      "metadata": {
        "id": "Vb1E_IJu7WWe",
        "colab_type": "text"
      },
      "source": [
        "## Challenging the Solution"
      ]
    },
    {
      "cell_type": "markdown",
      "metadata": {
        "id": "WVzwgYVpt5F8",
        "colab_type": "text"
      },
      "source": [
        "**Cross validation and Hyperparameter turning of away score and away_rank**"
      ]
    },
    {
      "cell_type": "markdown",
      "metadata": {
        "id": "XWvmhToTuLkA",
        "colab_type": "text"
      },
      "source": [
        "Cross validation "
      ]
    },
    {
      "cell_type": "code",
      "metadata": {
        "id": "KdseNTYPnqQE",
        "colab_type": "code",
        "colab": {
          "base_uri": "https://localhost:8080/",
          "height": 34
        },
        "outputId": "785e7977-6f02-429c-e32c-f3868f50173d"
      },
      "source": [
        "\n",
        "X = new_data.iloc[:, 4].values\n",
        "y = new_data.iloc[:, 2].values \n",
        "X = np.reshape(X, (-1,1))\n",
        "# Split the dataset into train and test sets\n",
        "X1, X2, y1, y2 = train_test_split(X, y, random_state=0,\n",
        "                                  train_size=0.5)\n",
        "\n",
        "# fit the model on one set of data\n",
        "model.fit(X1, y1)\n",
        "\n",
        "# evaluate the model on the second set of data\n",
        "y2_model = model.predict(X2)\n",
        "\n",
        "\n",
        "\n",
        "# Do a cross validation\n",
        "from sklearn.model_selection import cross_val_score\n",
        "cross_val_score(model, X, y, cv=5)\n",
        "\n",
        "\n"
      ],
      "execution_count": 900,
      "outputs": [
        {
          "output_type": "execute_result",
          "data": {
            "text/plain": [
              "array([ 0.00625799, -0.00244581, -0.01716263, -0.02208547,  0.0017152 ])"
            ]
          },
          "metadata": {
            "tags": []
          },
          "execution_count": 900
        }
      ]
    },
    {
      "cell_type": "markdown",
      "metadata": {
        "id": "AGKWq8eZp-hL",
        "colab_type": "text"
      },
      "source": [
        "Hyperparameter turning"
      ]
    },
    {
      "cell_type": "code",
      "metadata": {
        "id": "6NZW3omrnFd2",
        "colab_type": "code",
        "colab": {}
      },
      "source": [
        "logistic = linear_model.LogisticRegression()"
      ],
      "execution_count": 901,
      "outputs": []
    },
    {
      "cell_type": "code",
      "metadata": {
        "id": "eIp8Dlql7aDY",
        "colab_type": "code",
        "colab": {}
      },
      "source": [
        "# Creating regularization penalty space\n",
        "penalty = ['l1', 'l2']\n",
        "\n",
        "# Creating regularization hyperparameter space\n",
        "C = np.logspace(0, 4, 10)\n",
        "\n",
        "# Creating hyperparameter options\n",
        "hyperparameters = dict(C=C, penalty=penalty)"
      ],
      "execution_count": 902,
      "outputs": []
    },
    {
      "cell_type": "code",
      "metadata": {
        "id": "tGrKmD2r7aG3",
        "colab_type": "code",
        "colab": {}
      },
      "source": [
        "from sklearn.model_selection import GridSearchCV\n",
        "clf = GridSearchCV(logistic, hyperparameters, cv=5, verbose=0)"
      ],
      "execution_count": 903,
      "outputs": []
    },
    {
      "cell_type": "code",
      "metadata": {
        "id": "D9PZRhjc7aRt",
        "colab_type": "code",
        "colab": {
          "base_uri": "https://localhost:8080/",
          "height": 1000
        },
        "outputId": "d8603a8c-6dc4-40dc-804b-03f67de8b6f6"
      },
      "source": [
        "# Fitting grid search\n",
        "best_model = clf.fit(X, y)"
      ],
      "execution_count": 904,
      "outputs": [
        {
          "output_type": "stream",
          "text": [
            "/usr/local/lib/python3.6/dist-packages/sklearn/model_selection/_split.py:667: UserWarning: The least populated class in y has only 1 members, which is less than n_splits=5.\n",
            "  % (min_groups, self.n_splits)), UserWarning)\n",
            "/usr/local/lib/python3.6/dist-packages/sklearn/model_selection/_validation.py:536: FitFailedWarning: Estimator fit failed. The score on this train-test partition for these parameters will be set to nan. Details: \n",
            "ValueError: Solver lbfgs supports only 'l2' or 'none' penalties, got l1 penalty.\n",
            "\n",
            "  FitFailedWarning)\n",
            "/usr/local/lib/python3.6/dist-packages/sklearn/linear_model/_logistic.py:940: ConvergenceWarning: lbfgs failed to converge (status=1):\n",
            "STOP: TOTAL NO. of ITERATIONS REACHED LIMIT.\n",
            "\n",
            "Increase the number of iterations (max_iter) or scale the data as shown in:\n",
            "    https://scikit-learn.org/stable/modules/preprocessing.html\n",
            "Please also refer to the documentation for alternative solver options:\n",
            "    https://scikit-learn.org/stable/modules/linear_model.html#logistic-regression\n",
            "  extra_warning_msg=_LOGISTIC_SOLVER_CONVERGENCE_MSG)\n",
            "/usr/local/lib/python3.6/dist-packages/sklearn/linear_model/_logistic.py:940: ConvergenceWarning: lbfgs failed to converge (status=1):\n",
            "STOP: TOTAL NO. of ITERATIONS REACHED LIMIT.\n",
            "\n",
            "Increase the number of iterations (max_iter) or scale the data as shown in:\n",
            "    https://scikit-learn.org/stable/modules/preprocessing.html\n",
            "Please also refer to the documentation for alternative solver options:\n",
            "    https://scikit-learn.org/stable/modules/linear_model.html#logistic-regression\n",
            "  extra_warning_msg=_LOGISTIC_SOLVER_CONVERGENCE_MSG)\n",
            "/usr/local/lib/python3.6/dist-packages/sklearn/linear_model/_logistic.py:940: ConvergenceWarning: lbfgs failed to converge (status=1):\n",
            "STOP: TOTAL NO. of ITERATIONS REACHED LIMIT.\n",
            "\n",
            "Increase the number of iterations (max_iter) or scale the data as shown in:\n",
            "    https://scikit-learn.org/stable/modules/preprocessing.html\n",
            "Please also refer to the documentation for alternative solver options:\n",
            "    https://scikit-learn.org/stable/modules/linear_model.html#logistic-regression\n",
            "  extra_warning_msg=_LOGISTIC_SOLVER_CONVERGENCE_MSG)\n",
            "/usr/local/lib/python3.6/dist-packages/sklearn/linear_model/_logistic.py:940: ConvergenceWarning: lbfgs failed to converge (status=1):\n",
            "STOP: TOTAL NO. of ITERATIONS REACHED LIMIT.\n",
            "\n",
            "Increase the number of iterations (max_iter) or scale the data as shown in:\n",
            "    https://scikit-learn.org/stable/modules/preprocessing.html\n",
            "Please also refer to the documentation for alternative solver options:\n",
            "    https://scikit-learn.org/stable/modules/linear_model.html#logistic-regression\n",
            "  extra_warning_msg=_LOGISTIC_SOLVER_CONVERGENCE_MSG)\n",
            "/usr/local/lib/python3.6/dist-packages/sklearn/linear_model/_logistic.py:940: ConvergenceWarning: lbfgs failed to converge (status=1):\n",
            "STOP: TOTAL NO. of ITERATIONS REACHED LIMIT.\n",
            "\n",
            "Increase the number of iterations (max_iter) or scale the data as shown in:\n",
            "    https://scikit-learn.org/stable/modules/preprocessing.html\n",
            "Please also refer to the documentation for alternative solver options:\n",
            "    https://scikit-learn.org/stable/modules/linear_model.html#logistic-regression\n",
            "  extra_warning_msg=_LOGISTIC_SOLVER_CONVERGENCE_MSG)\n",
            "/usr/local/lib/python3.6/dist-packages/sklearn/model_selection/_validation.py:536: FitFailedWarning: Estimator fit failed. The score on this train-test partition for these parameters will be set to nan. Details: \n",
            "ValueError: Solver lbfgs supports only 'l2' or 'none' penalties, got l1 penalty.\n",
            "\n",
            "  FitFailedWarning)\n",
            "/usr/local/lib/python3.6/dist-packages/sklearn/linear_model/_logistic.py:940: ConvergenceWarning: lbfgs failed to converge (status=1):\n",
            "STOP: TOTAL NO. of ITERATIONS REACHED LIMIT.\n",
            "\n",
            "Increase the number of iterations (max_iter) or scale the data as shown in:\n",
            "    https://scikit-learn.org/stable/modules/preprocessing.html\n",
            "Please also refer to the documentation for alternative solver options:\n",
            "    https://scikit-learn.org/stable/modules/linear_model.html#logistic-regression\n",
            "  extra_warning_msg=_LOGISTIC_SOLVER_CONVERGENCE_MSG)\n",
            "/usr/local/lib/python3.6/dist-packages/sklearn/linear_model/_logistic.py:940: ConvergenceWarning: lbfgs failed to converge (status=1):\n",
            "STOP: TOTAL NO. of ITERATIONS REACHED LIMIT.\n",
            "\n",
            "Increase the number of iterations (max_iter) or scale the data as shown in:\n",
            "    https://scikit-learn.org/stable/modules/preprocessing.html\n",
            "Please also refer to the documentation for alternative solver options:\n",
            "    https://scikit-learn.org/stable/modules/linear_model.html#logistic-regression\n",
            "  extra_warning_msg=_LOGISTIC_SOLVER_CONVERGENCE_MSG)\n",
            "/usr/local/lib/python3.6/dist-packages/sklearn/linear_model/_logistic.py:940: ConvergenceWarning: lbfgs failed to converge (status=1):\n",
            "STOP: TOTAL NO. of ITERATIONS REACHED LIMIT.\n",
            "\n",
            "Increase the number of iterations (max_iter) or scale the data as shown in:\n",
            "    https://scikit-learn.org/stable/modules/preprocessing.html\n",
            "Please also refer to the documentation for alternative solver options:\n",
            "    https://scikit-learn.org/stable/modules/linear_model.html#logistic-regression\n",
            "  extra_warning_msg=_LOGISTIC_SOLVER_CONVERGENCE_MSG)\n",
            "/usr/local/lib/python3.6/dist-packages/sklearn/linear_model/_logistic.py:940: ConvergenceWarning: lbfgs failed to converge (status=1):\n",
            "STOP: TOTAL NO. of ITERATIONS REACHED LIMIT.\n",
            "\n",
            "Increase the number of iterations (max_iter) or scale the data as shown in:\n",
            "    https://scikit-learn.org/stable/modules/preprocessing.html\n",
            "Please also refer to the documentation for alternative solver options:\n",
            "    https://scikit-learn.org/stable/modules/linear_model.html#logistic-regression\n",
            "  extra_warning_msg=_LOGISTIC_SOLVER_CONVERGENCE_MSG)\n",
            "/usr/local/lib/python3.6/dist-packages/sklearn/linear_model/_logistic.py:940: ConvergenceWarning: lbfgs failed to converge (status=1):\n",
            "STOP: TOTAL NO. of ITERATIONS REACHED LIMIT.\n",
            "\n",
            "Increase the number of iterations (max_iter) or scale the data as shown in:\n",
            "    https://scikit-learn.org/stable/modules/preprocessing.html\n",
            "Please also refer to the documentation for alternative solver options:\n",
            "    https://scikit-learn.org/stable/modules/linear_model.html#logistic-regression\n",
            "  extra_warning_msg=_LOGISTIC_SOLVER_CONVERGENCE_MSG)\n",
            "/usr/local/lib/python3.6/dist-packages/sklearn/model_selection/_validation.py:536: FitFailedWarning: Estimator fit failed. The score on this train-test partition for these parameters will be set to nan. Details: \n",
            "ValueError: Solver lbfgs supports only 'l2' or 'none' penalties, got l1 penalty.\n",
            "\n",
            "  FitFailedWarning)\n",
            "/usr/local/lib/python3.6/dist-packages/sklearn/linear_model/_logistic.py:940: ConvergenceWarning: lbfgs failed to converge (status=1):\n",
            "STOP: TOTAL NO. of ITERATIONS REACHED LIMIT.\n",
            "\n",
            "Increase the number of iterations (max_iter) or scale the data as shown in:\n",
            "    https://scikit-learn.org/stable/modules/preprocessing.html\n",
            "Please also refer to the documentation for alternative solver options:\n",
            "    https://scikit-learn.org/stable/modules/linear_model.html#logistic-regression\n",
            "  extra_warning_msg=_LOGISTIC_SOLVER_CONVERGENCE_MSG)\n",
            "/usr/local/lib/python3.6/dist-packages/sklearn/linear_model/_logistic.py:940: ConvergenceWarning: lbfgs failed to converge (status=1):\n",
            "STOP: TOTAL NO. of ITERATIONS REACHED LIMIT.\n",
            "\n",
            "Increase the number of iterations (max_iter) or scale the data as shown in:\n",
            "    https://scikit-learn.org/stable/modules/preprocessing.html\n",
            "Please also refer to the documentation for alternative solver options:\n",
            "    https://scikit-learn.org/stable/modules/linear_model.html#logistic-regression\n",
            "  extra_warning_msg=_LOGISTIC_SOLVER_CONVERGENCE_MSG)\n",
            "/usr/local/lib/python3.6/dist-packages/sklearn/linear_model/_logistic.py:940: ConvergenceWarning: lbfgs failed to converge (status=1):\n",
            "STOP: TOTAL NO. of ITERATIONS REACHED LIMIT.\n",
            "\n",
            "Increase the number of iterations (max_iter) or scale the data as shown in:\n",
            "    https://scikit-learn.org/stable/modules/preprocessing.html\n",
            "Please also refer to the documentation for alternative solver options:\n",
            "    https://scikit-learn.org/stable/modules/linear_model.html#logistic-regression\n",
            "  extra_warning_msg=_LOGISTIC_SOLVER_CONVERGENCE_MSG)\n",
            "/usr/local/lib/python3.6/dist-packages/sklearn/linear_model/_logistic.py:940: ConvergenceWarning: lbfgs failed to converge (status=1):\n",
            "STOP: TOTAL NO. of ITERATIONS REACHED LIMIT.\n",
            "\n",
            "Increase the number of iterations (max_iter) or scale the data as shown in:\n",
            "    https://scikit-learn.org/stable/modules/preprocessing.html\n",
            "Please also refer to the documentation for alternative solver options:\n",
            "    https://scikit-learn.org/stable/modules/linear_model.html#logistic-regression\n",
            "  extra_warning_msg=_LOGISTIC_SOLVER_CONVERGENCE_MSG)\n",
            "/usr/local/lib/python3.6/dist-packages/sklearn/linear_model/_logistic.py:940: ConvergenceWarning: lbfgs failed to converge (status=1):\n",
            "STOP: TOTAL NO. of ITERATIONS REACHED LIMIT.\n",
            "\n",
            "Increase the number of iterations (max_iter) or scale the data as shown in:\n",
            "    https://scikit-learn.org/stable/modules/preprocessing.html\n",
            "Please also refer to the documentation for alternative solver options:\n",
            "    https://scikit-learn.org/stable/modules/linear_model.html#logistic-regression\n",
            "  extra_warning_msg=_LOGISTIC_SOLVER_CONVERGENCE_MSG)\n",
            "/usr/local/lib/python3.6/dist-packages/sklearn/model_selection/_validation.py:536: FitFailedWarning: Estimator fit failed. The score on this train-test partition for these parameters will be set to nan. Details: \n",
            "ValueError: Solver lbfgs supports only 'l2' or 'none' penalties, got l1 penalty.\n",
            "\n",
            "  FitFailedWarning)\n",
            "/usr/local/lib/python3.6/dist-packages/sklearn/linear_model/_logistic.py:940: ConvergenceWarning: lbfgs failed to converge (status=1):\n",
            "STOP: TOTAL NO. of ITERATIONS REACHED LIMIT.\n",
            "\n",
            "Increase the number of iterations (max_iter) or scale the data as shown in:\n",
            "    https://scikit-learn.org/stable/modules/preprocessing.html\n",
            "Please also refer to the documentation for alternative solver options:\n",
            "    https://scikit-learn.org/stable/modules/linear_model.html#logistic-regression\n",
            "  extra_warning_msg=_LOGISTIC_SOLVER_CONVERGENCE_MSG)\n",
            "/usr/local/lib/python3.6/dist-packages/sklearn/linear_model/_logistic.py:940: ConvergenceWarning: lbfgs failed to converge (status=1):\n",
            "STOP: TOTAL NO. of ITERATIONS REACHED LIMIT.\n",
            "\n",
            "Increase the number of iterations (max_iter) or scale the data as shown in:\n",
            "    https://scikit-learn.org/stable/modules/preprocessing.html\n",
            "Please also refer to the documentation for alternative solver options:\n",
            "    https://scikit-learn.org/stable/modules/linear_model.html#logistic-regression\n",
            "  extra_warning_msg=_LOGISTIC_SOLVER_CONVERGENCE_MSG)\n",
            "/usr/local/lib/python3.6/dist-packages/sklearn/linear_model/_logistic.py:940: ConvergenceWarning: lbfgs failed to converge (status=1):\n",
            "STOP: TOTAL NO. of ITERATIONS REACHED LIMIT.\n",
            "\n",
            "Increase the number of iterations (max_iter) or scale the data as shown in:\n",
            "    https://scikit-learn.org/stable/modules/preprocessing.html\n",
            "Please also refer to the documentation for alternative solver options:\n",
            "    https://scikit-learn.org/stable/modules/linear_model.html#logistic-regression\n",
            "  extra_warning_msg=_LOGISTIC_SOLVER_CONVERGENCE_MSG)\n",
            "/usr/local/lib/python3.6/dist-packages/sklearn/linear_model/_logistic.py:940: ConvergenceWarning: lbfgs failed to converge (status=1):\n",
            "STOP: TOTAL NO. of ITERATIONS REACHED LIMIT.\n",
            "\n",
            "Increase the number of iterations (max_iter) or scale the data as shown in:\n",
            "    https://scikit-learn.org/stable/modules/preprocessing.html\n",
            "Please also refer to the documentation for alternative solver options:\n",
            "    https://scikit-learn.org/stable/modules/linear_model.html#logistic-regression\n",
            "  extra_warning_msg=_LOGISTIC_SOLVER_CONVERGENCE_MSG)\n",
            "/usr/local/lib/python3.6/dist-packages/sklearn/linear_model/_logistic.py:940: ConvergenceWarning: lbfgs failed to converge (status=1):\n",
            "STOP: TOTAL NO. of ITERATIONS REACHED LIMIT.\n",
            "\n",
            "Increase the number of iterations (max_iter) or scale the data as shown in:\n",
            "    https://scikit-learn.org/stable/modules/preprocessing.html\n",
            "Please also refer to the documentation for alternative solver options:\n",
            "    https://scikit-learn.org/stable/modules/linear_model.html#logistic-regression\n",
            "  extra_warning_msg=_LOGISTIC_SOLVER_CONVERGENCE_MSG)\n",
            "/usr/local/lib/python3.6/dist-packages/sklearn/model_selection/_validation.py:536: FitFailedWarning: Estimator fit failed. The score on this train-test partition for these parameters will be set to nan. Details: \n",
            "ValueError: Solver lbfgs supports only 'l2' or 'none' penalties, got l1 penalty.\n",
            "\n",
            "  FitFailedWarning)\n",
            "/usr/local/lib/python3.6/dist-packages/sklearn/linear_model/_logistic.py:940: ConvergenceWarning: lbfgs failed to converge (status=1):\n",
            "STOP: TOTAL NO. of ITERATIONS REACHED LIMIT.\n",
            "\n",
            "Increase the number of iterations (max_iter) or scale the data as shown in:\n",
            "    https://scikit-learn.org/stable/modules/preprocessing.html\n",
            "Please also refer to the documentation for alternative solver options:\n",
            "    https://scikit-learn.org/stable/modules/linear_model.html#logistic-regression\n",
            "  extra_warning_msg=_LOGISTIC_SOLVER_CONVERGENCE_MSG)\n",
            "/usr/local/lib/python3.6/dist-packages/sklearn/linear_model/_logistic.py:940: ConvergenceWarning: lbfgs failed to converge (status=1):\n",
            "STOP: TOTAL NO. of ITERATIONS REACHED LIMIT.\n",
            "\n",
            "Increase the number of iterations (max_iter) or scale the data as shown in:\n",
            "    https://scikit-learn.org/stable/modules/preprocessing.html\n",
            "Please also refer to the documentation for alternative solver options:\n",
            "    https://scikit-learn.org/stable/modules/linear_model.html#logistic-regression\n",
            "  extra_warning_msg=_LOGISTIC_SOLVER_CONVERGENCE_MSG)\n",
            "/usr/local/lib/python3.6/dist-packages/sklearn/linear_model/_logistic.py:940: ConvergenceWarning: lbfgs failed to converge (status=1):\n",
            "STOP: TOTAL NO. of ITERATIONS REACHED LIMIT.\n",
            "\n",
            "Increase the number of iterations (max_iter) or scale the data as shown in:\n",
            "    https://scikit-learn.org/stable/modules/preprocessing.html\n",
            "Please also refer to the documentation for alternative solver options:\n",
            "    https://scikit-learn.org/stable/modules/linear_model.html#logistic-regression\n",
            "  extra_warning_msg=_LOGISTIC_SOLVER_CONVERGENCE_MSG)\n",
            "/usr/local/lib/python3.6/dist-packages/sklearn/linear_model/_logistic.py:940: ConvergenceWarning: lbfgs failed to converge (status=1):\n",
            "STOP: TOTAL NO. of ITERATIONS REACHED LIMIT.\n",
            "\n",
            "Increase the number of iterations (max_iter) or scale the data as shown in:\n",
            "    https://scikit-learn.org/stable/modules/preprocessing.html\n",
            "Please also refer to the documentation for alternative solver options:\n",
            "    https://scikit-learn.org/stable/modules/linear_model.html#logistic-regression\n",
            "  extra_warning_msg=_LOGISTIC_SOLVER_CONVERGENCE_MSG)\n",
            "/usr/local/lib/python3.6/dist-packages/sklearn/linear_model/_logistic.py:940: ConvergenceWarning: lbfgs failed to converge (status=1):\n",
            "STOP: TOTAL NO. of ITERATIONS REACHED LIMIT.\n",
            "\n",
            "Increase the number of iterations (max_iter) or scale the data as shown in:\n",
            "    https://scikit-learn.org/stable/modules/preprocessing.html\n",
            "Please also refer to the documentation for alternative solver options:\n",
            "    https://scikit-learn.org/stable/modules/linear_model.html#logistic-regression\n",
            "  extra_warning_msg=_LOGISTIC_SOLVER_CONVERGENCE_MSG)\n",
            "/usr/local/lib/python3.6/dist-packages/sklearn/model_selection/_validation.py:536: FitFailedWarning: Estimator fit failed. The score on this train-test partition for these parameters will be set to nan. Details: \n",
            "ValueError: Solver lbfgs supports only 'l2' or 'none' penalties, got l1 penalty.\n",
            "\n",
            "  FitFailedWarning)\n",
            "/usr/local/lib/python3.6/dist-packages/sklearn/linear_model/_logistic.py:940: ConvergenceWarning: lbfgs failed to converge (status=1):\n",
            "STOP: TOTAL NO. of ITERATIONS REACHED LIMIT.\n",
            "\n",
            "Increase the number of iterations (max_iter) or scale the data as shown in:\n",
            "    https://scikit-learn.org/stable/modules/preprocessing.html\n",
            "Please also refer to the documentation for alternative solver options:\n",
            "    https://scikit-learn.org/stable/modules/linear_model.html#logistic-regression\n",
            "  extra_warning_msg=_LOGISTIC_SOLVER_CONVERGENCE_MSG)\n",
            "/usr/local/lib/python3.6/dist-packages/sklearn/linear_model/_logistic.py:940: ConvergenceWarning: lbfgs failed to converge (status=1):\n",
            "STOP: TOTAL NO. of ITERATIONS REACHED LIMIT.\n",
            "\n",
            "Increase the number of iterations (max_iter) or scale the data as shown in:\n",
            "    https://scikit-learn.org/stable/modules/preprocessing.html\n",
            "Please also refer to the documentation for alternative solver options:\n",
            "    https://scikit-learn.org/stable/modules/linear_model.html#logistic-regression\n",
            "  extra_warning_msg=_LOGISTIC_SOLVER_CONVERGENCE_MSG)\n",
            "/usr/local/lib/python3.6/dist-packages/sklearn/linear_model/_logistic.py:940: ConvergenceWarning: lbfgs failed to converge (status=1):\n",
            "STOP: TOTAL NO. of ITERATIONS REACHED LIMIT.\n",
            "\n",
            "Increase the number of iterations (max_iter) or scale the data as shown in:\n",
            "    https://scikit-learn.org/stable/modules/preprocessing.html\n",
            "Please also refer to the documentation for alternative solver options:\n",
            "    https://scikit-learn.org/stable/modules/linear_model.html#logistic-regression\n",
            "  extra_warning_msg=_LOGISTIC_SOLVER_CONVERGENCE_MSG)\n",
            "/usr/local/lib/python3.6/dist-packages/sklearn/linear_model/_logistic.py:940: ConvergenceWarning: lbfgs failed to converge (status=1):\n",
            "STOP: TOTAL NO. of ITERATIONS REACHED LIMIT.\n",
            "\n",
            "Increase the number of iterations (max_iter) or scale the data as shown in:\n",
            "    https://scikit-learn.org/stable/modules/preprocessing.html\n",
            "Please also refer to the documentation for alternative solver options:\n",
            "    https://scikit-learn.org/stable/modules/linear_model.html#logistic-regression\n",
            "  extra_warning_msg=_LOGISTIC_SOLVER_CONVERGENCE_MSG)\n",
            "/usr/local/lib/python3.6/dist-packages/sklearn/linear_model/_logistic.py:940: ConvergenceWarning: lbfgs failed to converge (status=1):\n",
            "STOP: TOTAL NO. of ITERATIONS REACHED LIMIT.\n",
            "\n",
            "Increase the number of iterations (max_iter) or scale the data as shown in:\n",
            "    https://scikit-learn.org/stable/modules/preprocessing.html\n",
            "Please also refer to the documentation for alternative solver options:\n",
            "    https://scikit-learn.org/stable/modules/linear_model.html#logistic-regression\n",
            "  extra_warning_msg=_LOGISTIC_SOLVER_CONVERGENCE_MSG)\n",
            "/usr/local/lib/python3.6/dist-packages/sklearn/model_selection/_validation.py:536: FitFailedWarning: Estimator fit failed. The score on this train-test partition for these parameters will be set to nan. Details: \n",
            "ValueError: Solver lbfgs supports only 'l2' or 'none' penalties, got l1 penalty.\n",
            "\n",
            "  FitFailedWarning)\n",
            "/usr/local/lib/python3.6/dist-packages/sklearn/linear_model/_logistic.py:940: ConvergenceWarning: lbfgs failed to converge (status=1):\n",
            "STOP: TOTAL NO. of ITERATIONS REACHED LIMIT.\n",
            "\n",
            "Increase the number of iterations (max_iter) or scale the data as shown in:\n",
            "    https://scikit-learn.org/stable/modules/preprocessing.html\n",
            "Please also refer to the documentation for alternative solver options:\n",
            "    https://scikit-learn.org/stable/modules/linear_model.html#logistic-regression\n",
            "  extra_warning_msg=_LOGISTIC_SOLVER_CONVERGENCE_MSG)\n",
            "/usr/local/lib/python3.6/dist-packages/sklearn/linear_model/_logistic.py:940: ConvergenceWarning: lbfgs failed to converge (status=1):\n",
            "STOP: TOTAL NO. of ITERATIONS REACHED LIMIT.\n",
            "\n",
            "Increase the number of iterations (max_iter) or scale the data as shown in:\n",
            "    https://scikit-learn.org/stable/modules/preprocessing.html\n",
            "Please also refer to the documentation for alternative solver options:\n",
            "    https://scikit-learn.org/stable/modules/linear_model.html#logistic-regression\n",
            "  extra_warning_msg=_LOGISTIC_SOLVER_CONVERGENCE_MSG)\n",
            "/usr/local/lib/python3.6/dist-packages/sklearn/linear_model/_logistic.py:940: ConvergenceWarning: lbfgs failed to converge (status=1):\n",
            "STOP: TOTAL NO. of ITERATIONS REACHED LIMIT.\n",
            "\n",
            "Increase the number of iterations (max_iter) or scale the data as shown in:\n",
            "    https://scikit-learn.org/stable/modules/preprocessing.html\n",
            "Please also refer to the documentation for alternative solver options:\n",
            "    https://scikit-learn.org/stable/modules/linear_model.html#logistic-regression\n",
            "  extra_warning_msg=_LOGISTIC_SOLVER_CONVERGENCE_MSG)\n",
            "/usr/local/lib/python3.6/dist-packages/sklearn/linear_model/_logistic.py:940: ConvergenceWarning: lbfgs failed to converge (status=1):\n",
            "STOP: TOTAL NO. of ITERATIONS REACHED LIMIT.\n",
            "\n",
            "Increase the number of iterations (max_iter) or scale the data as shown in:\n",
            "    https://scikit-learn.org/stable/modules/preprocessing.html\n",
            "Please also refer to the documentation for alternative solver options:\n",
            "    https://scikit-learn.org/stable/modules/linear_model.html#logistic-regression\n",
            "  extra_warning_msg=_LOGISTIC_SOLVER_CONVERGENCE_MSG)\n",
            "/usr/local/lib/python3.6/dist-packages/sklearn/linear_model/_logistic.py:940: ConvergenceWarning: lbfgs failed to converge (status=1):\n",
            "STOP: TOTAL NO. of ITERATIONS REACHED LIMIT.\n",
            "\n",
            "Increase the number of iterations (max_iter) or scale the data as shown in:\n",
            "    https://scikit-learn.org/stable/modules/preprocessing.html\n",
            "Please also refer to the documentation for alternative solver options:\n",
            "    https://scikit-learn.org/stable/modules/linear_model.html#logistic-regression\n",
            "  extra_warning_msg=_LOGISTIC_SOLVER_CONVERGENCE_MSG)\n",
            "/usr/local/lib/python3.6/dist-packages/sklearn/model_selection/_validation.py:536: FitFailedWarning: Estimator fit failed. The score on this train-test partition for these parameters will be set to nan. Details: \n",
            "ValueError: Solver lbfgs supports only 'l2' or 'none' penalties, got l1 penalty.\n",
            "\n",
            "  FitFailedWarning)\n",
            "/usr/local/lib/python3.6/dist-packages/sklearn/linear_model/_logistic.py:940: ConvergenceWarning: lbfgs failed to converge (status=1):\n",
            "STOP: TOTAL NO. of ITERATIONS REACHED LIMIT.\n",
            "\n",
            "Increase the number of iterations (max_iter) or scale the data as shown in:\n",
            "    https://scikit-learn.org/stable/modules/preprocessing.html\n",
            "Please also refer to the documentation for alternative solver options:\n",
            "    https://scikit-learn.org/stable/modules/linear_model.html#logistic-regression\n",
            "  extra_warning_msg=_LOGISTIC_SOLVER_CONVERGENCE_MSG)\n",
            "/usr/local/lib/python3.6/dist-packages/sklearn/linear_model/_logistic.py:940: ConvergenceWarning: lbfgs failed to converge (status=1):\n",
            "STOP: TOTAL NO. of ITERATIONS REACHED LIMIT.\n",
            "\n",
            "Increase the number of iterations (max_iter) or scale the data as shown in:\n",
            "    https://scikit-learn.org/stable/modules/preprocessing.html\n",
            "Please also refer to the documentation for alternative solver options:\n",
            "    https://scikit-learn.org/stable/modules/linear_model.html#logistic-regression\n",
            "  extra_warning_msg=_LOGISTIC_SOLVER_CONVERGENCE_MSG)\n",
            "/usr/local/lib/python3.6/dist-packages/sklearn/linear_model/_logistic.py:940: ConvergenceWarning: lbfgs failed to converge (status=1):\n",
            "STOP: TOTAL NO. of ITERATIONS REACHED LIMIT.\n",
            "\n",
            "Increase the number of iterations (max_iter) or scale the data as shown in:\n",
            "    https://scikit-learn.org/stable/modules/preprocessing.html\n",
            "Please also refer to the documentation for alternative solver options:\n",
            "    https://scikit-learn.org/stable/modules/linear_model.html#logistic-regression\n",
            "  extra_warning_msg=_LOGISTIC_SOLVER_CONVERGENCE_MSG)\n",
            "/usr/local/lib/python3.6/dist-packages/sklearn/linear_model/_logistic.py:940: ConvergenceWarning: lbfgs failed to converge (status=1):\n",
            "STOP: TOTAL NO. of ITERATIONS REACHED LIMIT.\n",
            "\n",
            "Increase the number of iterations (max_iter) or scale the data as shown in:\n",
            "    https://scikit-learn.org/stable/modules/preprocessing.html\n",
            "Please also refer to the documentation for alternative solver options:\n",
            "    https://scikit-learn.org/stable/modules/linear_model.html#logistic-regression\n",
            "  extra_warning_msg=_LOGISTIC_SOLVER_CONVERGENCE_MSG)\n",
            "/usr/local/lib/python3.6/dist-packages/sklearn/linear_model/_logistic.py:940: ConvergenceWarning: lbfgs failed to converge (status=1):\n",
            "STOP: TOTAL NO. of ITERATIONS REACHED LIMIT.\n",
            "\n",
            "Increase the number of iterations (max_iter) or scale the data as shown in:\n",
            "    https://scikit-learn.org/stable/modules/preprocessing.html\n",
            "Please also refer to the documentation for alternative solver options:\n",
            "    https://scikit-learn.org/stable/modules/linear_model.html#logistic-regression\n",
            "  extra_warning_msg=_LOGISTIC_SOLVER_CONVERGENCE_MSG)\n",
            "/usr/local/lib/python3.6/dist-packages/sklearn/model_selection/_validation.py:536: FitFailedWarning: Estimator fit failed. The score on this train-test partition for these parameters will be set to nan. Details: \n",
            "ValueError: Solver lbfgs supports only 'l2' or 'none' penalties, got l1 penalty.\n",
            "\n",
            "  FitFailedWarning)\n",
            "/usr/local/lib/python3.6/dist-packages/sklearn/linear_model/_logistic.py:940: ConvergenceWarning: lbfgs failed to converge (status=1):\n",
            "STOP: TOTAL NO. of ITERATIONS REACHED LIMIT.\n",
            "\n",
            "Increase the number of iterations (max_iter) or scale the data as shown in:\n",
            "    https://scikit-learn.org/stable/modules/preprocessing.html\n",
            "Please also refer to the documentation for alternative solver options:\n",
            "    https://scikit-learn.org/stable/modules/linear_model.html#logistic-regression\n",
            "  extra_warning_msg=_LOGISTIC_SOLVER_CONVERGENCE_MSG)\n",
            "/usr/local/lib/python3.6/dist-packages/sklearn/linear_model/_logistic.py:940: ConvergenceWarning: lbfgs failed to converge (status=1):\n",
            "STOP: TOTAL NO. of ITERATIONS REACHED LIMIT.\n",
            "\n",
            "Increase the number of iterations (max_iter) or scale the data as shown in:\n",
            "    https://scikit-learn.org/stable/modules/preprocessing.html\n",
            "Please also refer to the documentation for alternative solver options:\n",
            "    https://scikit-learn.org/stable/modules/linear_model.html#logistic-regression\n",
            "  extra_warning_msg=_LOGISTIC_SOLVER_CONVERGENCE_MSG)\n",
            "/usr/local/lib/python3.6/dist-packages/sklearn/linear_model/_logistic.py:940: ConvergenceWarning: lbfgs failed to converge (status=1):\n",
            "STOP: TOTAL NO. of ITERATIONS REACHED LIMIT.\n",
            "\n",
            "Increase the number of iterations (max_iter) or scale the data as shown in:\n",
            "    https://scikit-learn.org/stable/modules/preprocessing.html\n",
            "Please also refer to the documentation for alternative solver options:\n",
            "    https://scikit-learn.org/stable/modules/linear_model.html#logistic-regression\n",
            "  extra_warning_msg=_LOGISTIC_SOLVER_CONVERGENCE_MSG)\n",
            "/usr/local/lib/python3.6/dist-packages/sklearn/linear_model/_logistic.py:940: ConvergenceWarning: lbfgs failed to converge (status=1):\n",
            "STOP: TOTAL NO. of ITERATIONS REACHED LIMIT.\n",
            "\n",
            "Increase the number of iterations (max_iter) or scale the data as shown in:\n",
            "    https://scikit-learn.org/stable/modules/preprocessing.html\n",
            "Please also refer to the documentation for alternative solver options:\n",
            "    https://scikit-learn.org/stable/modules/linear_model.html#logistic-regression\n",
            "  extra_warning_msg=_LOGISTIC_SOLVER_CONVERGENCE_MSG)\n",
            "/usr/local/lib/python3.6/dist-packages/sklearn/linear_model/_logistic.py:940: ConvergenceWarning: lbfgs failed to converge (status=1):\n",
            "STOP: TOTAL NO. of ITERATIONS REACHED LIMIT.\n",
            "\n",
            "Increase the number of iterations (max_iter) or scale the data as shown in:\n",
            "    https://scikit-learn.org/stable/modules/preprocessing.html\n",
            "Please also refer to the documentation for alternative solver options:\n",
            "    https://scikit-learn.org/stable/modules/linear_model.html#logistic-regression\n",
            "  extra_warning_msg=_LOGISTIC_SOLVER_CONVERGENCE_MSG)\n",
            "/usr/local/lib/python3.6/dist-packages/sklearn/model_selection/_validation.py:536: FitFailedWarning: Estimator fit failed. The score on this train-test partition for these parameters will be set to nan. Details: \n",
            "ValueError: Solver lbfgs supports only 'l2' or 'none' penalties, got l1 penalty.\n",
            "\n",
            "  FitFailedWarning)\n",
            "/usr/local/lib/python3.6/dist-packages/sklearn/linear_model/_logistic.py:940: ConvergenceWarning: lbfgs failed to converge (status=1):\n",
            "STOP: TOTAL NO. of ITERATIONS REACHED LIMIT.\n",
            "\n",
            "Increase the number of iterations (max_iter) or scale the data as shown in:\n",
            "    https://scikit-learn.org/stable/modules/preprocessing.html\n",
            "Please also refer to the documentation for alternative solver options:\n",
            "    https://scikit-learn.org/stable/modules/linear_model.html#logistic-regression\n",
            "  extra_warning_msg=_LOGISTIC_SOLVER_CONVERGENCE_MSG)\n",
            "/usr/local/lib/python3.6/dist-packages/sklearn/linear_model/_logistic.py:940: ConvergenceWarning: lbfgs failed to converge (status=1):\n",
            "STOP: TOTAL NO. of ITERATIONS REACHED LIMIT.\n",
            "\n",
            "Increase the number of iterations (max_iter) or scale the data as shown in:\n",
            "    https://scikit-learn.org/stable/modules/preprocessing.html\n",
            "Please also refer to the documentation for alternative solver options:\n",
            "    https://scikit-learn.org/stable/modules/linear_model.html#logistic-regression\n",
            "  extra_warning_msg=_LOGISTIC_SOLVER_CONVERGENCE_MSG)\n",
            "/usr/local/lib/python3.6/dist-packages/sklearn/linear_model/_logistic.py:940: ConvergenceWarning: lbfgs failed to converge (status=1):\n",
            "STOP: TOTAL NO. of ITERATIONS REACHED LIMIT.\n",
            "\n",
            "Increase the number of iterations (max_iter) or scale the data as shown in:\n",
            "    https://scikit-learn.org/stable/modules/preprocessing.html\n",
            "Please also refer to the documentation for alternative solver options:\n",
            "    https://scikit-learn.org/stable/modules/linear_model.html#logistic-regression\n",
            "  extra_warning_msg=_LOGISTIC_SOLVER_CONVERGENCE_MSG)\n",
            "/usr/local/lib/python3.6/dist-packages/sklearn/linear_model/_logistic.py:940: ConvergenceWarning: lbfgs failed to converge (status=1):\n",
            "STOP: TOTAL NO. of ITERATIONS REACHED LIMIT.\n",
            "\n",
            "Increase the number of iterations (max_iter) or scale the data as shown in:\n",
            "    https://scikit-learn.org/stable/modules/preprocessing.html\n",
            "Please also refer to the documentation for alternative solver options:\n",
            "    https://scikit-learn.org/stable/modules/linear_model.html#logistic-regression\n",
            "  extra_warning_msg=_LOGISTIC_SOLVER_CONVERGENCE_MSG)\n",
            "/usr/local/lib/python3.6/dist-packages/sklearn/linear_model/_logistic.py:940: ConvergenceWarning: lbfgs failed to converge (status=1):\n",
            "STOP: TOTAL NO. of ITERATIONS REACHED LIMIT.\n",
            "\n",
            "Increase the number of iterations (max_iter) or scale the data as shown in:\n",
            "    https://scikit-learn.org/stable/modules/preprocessing.html\n",
            "Please also refer to the documentation for alternative solver options:\n",
            "    https://scikit-learn.org/stable/modules/linear_model.html#logistic-regression\n",
            "  extra_warning_msg=_LOGISTIC_SOLVER_CONVERGENCE_MSG)\n",
            "/usr/local/lib/python3.6/dist-packages/sklearn/linear_model/_logistic.py:940: ConvergenceWarning: lbfgs failed to converge (status=1):\n",
            "STOP: TOTAL NO. of ITERATIONS REACHED LIMIT.\n",
            "\n",
            "Increase the number of iterations (max_iter) or scale the data as shown in:\n",
            "    https://scikit-learn.org/stable/modules/preprocessing.html\n",
            "Please also refer to the documentation for alternative solver options:\n",
            "    https://scikit-learn.org/stable/modules/linear_model.html#logistic-regression\n",
            "  extra_warning_msg=_LOGISTIC_SOLVER_CONVERGENCE_MSG)\n"
          ],
          "name": "stderr"
        }
      ]
    },
    {
      "cell_type": "code",
      "metadata": {
        "id": "r-vHGc6Y7aZV",
        "colab_type": "code",
        "colab": {
          "base_uri": "https://localhost:8080/",
          "height": 52
        },
        "outputId": "02fb9026-fe3b-4d7f-8879-3186cf0ffcde"
      },
      "source": [
        "# Viewing best hyperparameters\n",
        "print('Best Penalty:', best_model.best_estimator_.get_params()['penalty'])\n",
        "print('Best C:', best_model.best_estimator_.get_params()['C'])"
      ],
      "execution_count": 905,
      "outputs": [
        {
          "output_type": "stream",
          "text": [
            "Best Penalty: l2\n",
            "Best C: 21.544346900318832\n"
          ],
          "name": "stdout"
        }
      ]
    },
    {
      "cell_type": "markdown",
      "metadata": {
        "id": "OTGsFVbftiq5",
        "colab_type": "text"
      },
      "source": [
        "Linear Regressipon on away_scores could be done on l2 penalty and C= 21.544 for the best prediction to give you moe accuracy of data "
      ]
    },
    {
      "cell_type": "markdown",
      "metadata": {
        "id": "63tLeDcEvpt5",
        "colab_type": "text"
      },
      "source": [
        "\n",
        "## Conclusion\n",
        "\n",
        "\n"
      ]
    },
    {
      "cell_type": "markdown",
      "metadata": {
        "id": "XroWxsYWvpyQ",
        "colab_type": "text"
      },
      "source": [
        "More analysis should be done especially on polynomial regression to see if tournament type and away rank interferences with model 1 and 2 \n",
        "\n",
        "\n",
        "We could use another analysis other than polynomial regression to predict home_scores to improve accuracy \n",
        "\n",
        "Also more data should be collected for previous years for better prediction as our datset used for alaysis starts from 1993"
      ]
    }
  ]
}